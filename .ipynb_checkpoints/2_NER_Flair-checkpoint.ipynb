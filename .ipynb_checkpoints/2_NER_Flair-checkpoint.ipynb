{
 "cells": [
  {
   "cell_type": "code",
   "execution_count": 1,
   "metadata": {},
   "outputs": [
    {
     "name": "stdout",
     "output_type": "stream",
     "text": [
      "Requirement already satisfied: seqeval in /opt/conda/lib/python3.6/site-packages (0.0.12)\n",
      "Requirement already satisfied: numpy>=1.14.0 in /opt/conda/lib/python3.6/site-packages (from seqeval) (1.16.4)\n",
      "Requirement already satisfied: Keras>=2.2.4 in /opt/conda/lib/python3.6/site-packages (from seqeval) (2.2.4)\n",
      "Requirement already satisfied: h5py in /opt/conda/lib/python3.6/site-packages (from Keras>=2.2.4->seqeval) (2.9.0)\n",
      "Requirement already satisfied: pyyaml in /opt/conda/lib/python3.6/site-packages (from Keras>=2.2.4->seqeval) (5.1.1)\n",
      "Requirement already satisfied: keras-applications>=1.0.6 in /opt/conda/lib/python3.6/site-packages (from Keras>=2.2.4->seqeval) (1.0.8)\n",
      "Requirement already satisfied: keras-preprocessing>=1.0.5 in /opt/conda/lib/python3.6/site-packages (from Keras>=2.2.4->seqeval) (1.1.0)\n",
      "Requirement already satisfied: six>=1.9.0 in /opt/conda/lib/python3.6/site-packages (from Keras>=2.2.4->seqeval) (1.12.0)\n",
      "Requirement already satisfied: scipy>=0.14 in /opt/conda/lib/python3.6/site-packages (from Keras>=2.2.4->seqeval) (1.3.0)\n",
      "\u001b[33mWARNING: You are using pip version 19.2.2, however version 19.2.3 is available.\n",
      "You should consider upgrading via the 'pip install --upgrade pip' command.\u001b[0m\n",
      "Requirement already satisfied: pytorch-lightning in /opt/conda/lib/python3.6/site-packages (0.4.8)\n",
      "Requirement already satisfied: pandas>=0.20.3 in /opt/conda/lib/python3.6/site-packages (from pytorch-lightning) (0.25.0)\n",
      "Requirement already satisfied: tqdm>=4.35.0 in /opt/conda/lib/python3.6/site-packages (from pytorch-lightning) (4.35.0)\n",
      "Requirement already satisfied: test-tube>=0.6.9 in /opt/conda/lib/python3.6/site-packages (from pytorch-lightning) (0.7.0)\n",
      "Requirement already satisfied: torch==1.2.0 in /opt/conda/lib/python3.6/site-packages (from pytorch-lightning) (1.2.0)\n",
      "Requirement already satisfied: pytz>=2017.2 in /opt/conda/lib/python3.6/site-packages (from pandas>=0.20.3->pytorch-lightning) (2019.1)\n",
      "Requirement already satisfied: numpy>=1.13.3 in /opt/conda/lib/python3.6/site-packages (from pandas>=0.20.3->pytorch-lightning) (1.16.4)\n",
      "Requirement already satisfied: python-dateutil>=2.6.1 in /opt/conda/lib/python3.6/site-packages (from pandas>=0.20.3->pytorch-lightning) (2.8.0)\n",
      "Requirement already satisfied: tb-nightly==1.15.0a20190708 in /opt/conda/lib/python3.6/site-packages (from test-tube>=0.6.9->pytorch-lightning) (1.15.0a20190708)\n",
      "Requirement already satisfied: imageio>=2.3.0 in /opt/conda/lib/python3.6/site-packages (from test-tube>=0.6.9->pytorch-lightning) (2.5.0)\n",
      "Requirement already satisfied: future in /opt/conda/lib/python3.6/site-packages (from test-tube>=0.6.9->pytorch-lightning) (0.17.1)\n",
      "Requirement already satisfied: six>=1.5 in /opt/conda/lib/python3.6/site-packages (from python-dateutil>=2.6.1->pandas>=0.20.3->pytorch-lightning) (1.12.0)\n",
      "Requirement already satisfied: markdown>=2.6.8 in /opt/conda/lib/python3.6/site-packages (from tb-nightly==1.15.0a20190708->test-tube>=0.6.9->pytorch-lightning) (3.1.1)\n",
      "Requirement already satisfied: protobuf>=3.6.0 in /opt/conda/lib/python3.6/site-packages (from tb-nightly==1.15.0a20190708->test-tube>=0.6.9->pytorch-lightning) (3.8.0)\n",
      "Requirement already satisfied: werkzeug>=0.11.15 in /opt/conda/lib/python3.6/site-packages (from tb-nightly==1.15.0a20190708->test-tube>=0.6.9->pytorch-lightning) (0.15.4)\n",
      "Requirement already satisfied: wheel>=0.26; python_version >= \"3\" in /opt/conda/lib/python3.6/site-packages (from tb-nightly==1.15.0a20190708->test-tube>=0.6.9->pytorch-lightning) (0.33.4)\n",
      "Requirement already satisfied: absl-py>=0.4 in /opt/conda/lib/python3.6/site-packages (from tb-nightly==1.15.0a20190708->test-tube>=0.6.9->pytorch-lightning) (0.7.1)\n",
      "Requirement already satisfied: setuptools>=41.0.0 in /opt/conda/lib/python3.6/site-packages (from tb-nightly==1.15.0a20190708->test-tube>=0.6.9->pytorch-lightning) (41.0.1)\n",
      "Requirement already satisfied: grpcio>=1.6.3 in /opt/conda/lib/python3.6/site-packages (from tb-nightly==1.15.0a20190708->test-tube>=0.6.9->pytorch-lightning) (1.16.1)\n",
      "\u001b[33mWARNING: You are using pip version 19.2.2, however version 19.2.3 is available.\n",
      "You should consider upgrading via the 'pip install --upgrade pip' command.\u001b[0m\n",
      "Requirement already satisfied: pytorch-transformers in /opt/conda/lib/python3.6/site-packages (1.1.0)\n",
      "Requirement already satisfied: tqdm in /opt/conda/lib/python3.6/site-packages (from pytorch-transformers) (4.35.0)\n",
      "Requirement already satisfied: regex in /opt/conda/lib/python3.6/site-packages (from pytorch-transformers) (2018.1.10)\n",
      "Requirement already satisfied: sentencepiece in /opt/conda/lib/python3.6/site-packages (from pytorch-transformers) (0.1.83)\n",
      "Requirement already satisfied: boto3 in /opt/conda/lib/python3.6/site-packages (from pytorch-transformers) (1.9.220)\n",
      "Requirement already satisfied: requests in /opt/conda/lib/python3.6/site-packages (from pytorch-transformers) (2.22.0)\n",
      "Requirement already satisfied: numpy in /opt/conda/lib/python3.6/site-packages (from pytorch-transformers) (1.16.4)\n",
      "Requirement already satisfied: torch>=1.0.0 in /opt/conda/lib/python3.6/site-packages (from pytorch-transformers) (1.2.0)\n",
      "Requirement already satisfied: jmespath<1.0.0,>=0.7.1 in /opt/conda/lib/python3.6/site-packages (from boto3->pytorch-transformers) (0.9.4)\n",
      "Requirement already satisfied: s3transfer<0.3.0,>=0.2.0 in /opt/conda/lib/python3.6/site-packages (from boto3->pytorch-transformers) (0.2.1)\n",
      "Requirement already satisfied: botocore<1.13.0,>=1.12.220 in /opt/conda/lib/python3.6/site-packages (from boto3->pytorch-transformers) (1.12.220)\n",
      "Requirement already satisfied: chardet<3.1.0,>=3.0.2 in /opt/conda/lib/python3.6/site-packages (from requests->pytorch-transformers) (3.0.4)\n",
      "Requirement already satisfied: certifi>=2017.4.17 in /opt/conda/lib/python3.6/site-packages (from requests->pytorch-transformers) (2019.6.16)\n",
      "Requirement already satisfied: idna<2.9,>=2.5 in /opt/conda/lib/python3.6/site-packages (from requests->pytorch-transformers) (2.8)\n",
      "Requirement already satisfied: urllib3!=1.25.0,!=1.25.1,<1.26,>=1.21.1 in /opt/conda/lib/python3.6/site-packages (from requests->pytorch-transformers) (1.24.2)\n",
      "Requirement already satisfied: docutils<0.16,>=0.10 in /opt/conda/lib/python3.6/site-packages (from botocore<1.13.0,>=1.12.220->boto3->pytorch-transformers) (0.15.2)\n",
      "Requirement already satisfied: python-dateutil<3.0.0,>=2.1; python_version >= \"2.7\" in /opt/conda/lib/python3.6/site-packages (from botocore<1.13.0,>=1.12.220->boto3->pytorch-transformers) (2.8.0)\n",
      "Requirement already satisfied: six>=1.5 in /opt/conda/lib/python3.6/site-packages (from python-dateutil<3.0.0,>=2.1; python_version >= \"2.7\"->botocore<1.13.0,>=1.12.220->boto3->pytorch-transformers) (1.12.0)\n",
      "\u001b[33mWARNING: You are using pip version 19.2.2, however version 19.2.3 is available.\n",
      "You should consider upgrading via the 'pip install --upgrade pip' command.\u001b[0m\n"
     ]
    }
   ],
   "source": [
    "%run NER_common.ipynb"
   ]
  },
  {
   "cell_type": "code",
   "execution_count": 2,
   "metadata": {},
   "outputs": [
    {
     "name": "stdout",
     "output_type": "stream",
     "text": [
      "Requirement already satisfied: flair in /opt/conda/lib/python3.6/site-packages (0.4.3)\n",
      "Requirement already satisfied: tabulate in /opt/conda/lib/python3.6/site-packages (from flair) (0.8.3)\n",
      "Requirement already satisfied: bpemb>=0.2.9 in /opt/conda/lib/python3.6/site-packages (from flair) (0.3.0)\n",
      "Requirement already satisfied: segtok>=1.5.7 in /opt/conda/lib/python3.6/site-packages (from flair) (1.5.7)\n",
      "Requirement already satisfied: pytest>=3.6.4 in /opt/conda/lib/python3.6/site-packages (from flair) (5.1.2)\n",
      "Requirement already satisfied: urllib3<1.25,>=1.20 in /opt/conda/lib/python3.6/site-packages (from flair) (1.24.2)\n",
      "Requirement already satisfied: sqlitedict>=1.6.0 in /opt/conda/lib/python3.6/site-packages (from flair) (1.6.0)\n",
      "Requirement already satisfied: tqdm>=4.26.0 in /opt/conda/lib/python3.6/site-packages (from flair) (4.35.0)\n",
      "Requirement already satisfied: deprecated>=1.2.4 in /opt/conda/lib/python3.6/site-packages (from flair) (1.2.6)\n",
      "Requirement already satisfied: matplotlib>=2.2.3 in /opt/conda/lib/python3.6/site-packages (from flair) (3.1.0)\n",
      "Requirement already satisfied: pytorch-transformers>=1.1.0 in /opt/conda/lib/python3.6/site-packages (from flair) (1.1.0)\n",
      "Requirement already satisfied: gensim>=3.4.0 in /opt/conda/lib/python3.6/site-packages (from flair) (3.8.0)\n",
      "Requirement already satisfied: regex in /opt/conda/lib/python3.6/site-packages (from flair) (2018.1.10)\n",
      "Requirement already satisfied: torch>=1.1.0 in /opt/conda/lib/python3.6/site-packages (from flair) (1.2.0)\n",
      "Requirement already satisfied: sklearn in /opt/conda/lib/python3.6/site-packages (from flair) (0.0)\n",
      "Requirement already satisfied: langdetect in /opt/conda/lib/python3.6/site-packages (from flair) (1.0.7)\n",
      "Requirement already satisfied: mpld3==0.3 in /opt/conda/lib/python3.6/site-packages (from flair) (0.3)\n",
      "Requirement already satisfied: ipython==7.6.1 in /opt/conda/lib/python3.6/site-packages (from flair) (7.6.1)\n",
      "Requirement already satisfied: hyperopt>=0.1.1 in /opt/conda/lib/python3.6/site-packages (from flair) (0.1.2)\n",
      "Requirement already satisfied: ipython-genutils==0.2.0 in /opt/conda/lib/python3.6/site-packages (from flair) (0.2.0)\n",
      "Requirement already satisfied: requests in /opt/conda/lib/python3.6/site-packages (from bpemb>=0.2.9->flair) (2.22.0)\n",
      "Requirement already satisfied: sentencepiece in /opt/conda/lib/python3.6/site-packages (from bpemb>=0.2.9->flair) (0.1.83)\n",
      "Requirement already satisfied: numpy in /opt/conda/lib/python3.6/site-packages (from bpemb>=0.2.9->flair) (1.16.4)\n",
      "Requirement already satisfied: packaging in /opt/conda/lib/python3.6/site-packages (from pytest>=3.6.4->flair) (19.0)\n",
      "Requirement already satisfied: attrs>=17.4.0 in /opt/conda/lib/python3.6/site-packages (from pytest>=3.6.4->flair) (19.1.0)\n",
      "Requirement already satisfied: pluggy<1.0,>=0.12 in /opt/conda/lib/python3.6/site-packages (from pytest>=3.6.4->flair) (0.12.0)\n",
      "Requirement already satisfied: atomicwrites>=1.0 in /opt/conda/lib/python3.6/site-packages (from pytest>=3.6.4->flair) (1.3.0)\n",
      "Requirement already satisfied: py>=1.5.0 in /opt/conda/lib/python3.6/site-packages (from pytest>=3.6.4->flair) (1.8.0)\n",
      "Requirement already satisfied: importlib-metadata>=0.12; python_version < \"3.8\" in /opt/conda/lib/python3.6/site-packages (from pytest>=3.6.4->flair) (0.20)\n",
      "Requirement already satisfied: more-itertools>=4.0.0 in /opt/conda/lib/python3.6/site-packages (from pytest>=3.6.4->flair) (7.2.0)\n",
      "Requirement already satisfied: wcwidth in /opt/conda/lib/python3.6/site-packages (from pytest>=3.6.4->flair) (0.1.7)\n",
      "Requirement already satisfied: wrapt<2,>=1.10 in /opt/conda/lib/python3.6/site-packages (from deprecated>=1.2.4->flair) (1.10.11)\n",
      "Requirement already satisfied: cycler>=0.10 in /opt/conda/lib/python3.6/site-packages (from matplotlib>=2.2.3->flair) (0.10.0)\n",
      "Requirement already satisfied: kiwisolver>=1.0.1 in /opt/conda/lib/python3.6/site-packages (from matplotlib>=2.2.3->flair) (1.1.0)\n",
      "Requirement already satisfied: pyparsing!=2.0.4,!=2.1.2,!=2.1.6,>=2.0.1 in /opt/conda/lib/python3.6/site-packages (from matplotlib>=2.2.3->flair) (2.4.0)\n",
      "Requirement already satisfied: python-dateutil>=2.1 in /opt/conda/lib/python3.6/site-packages (from matplotlib>=2.2.3->flair) (2.8.0)\n",
      "Requirement already satisfied: boto3 in /opt/conda/lib/python3.6/site-packages (from pytorch-transformers>=1.1.0->flair) (1.9.220)\n",
      "Requirement already satisfied: smart-open>=1.7.0 in /opt/conda/lib/python3.6/site-packages (from gensim>=3.4.0->flair) (1.8.4)\n",
      "Requirement already satisfied: six>=1.5.0 in /opt/conda/lib/python3.6/site-packages (from gensim>=3.4.0->flair) (1.12.0)\n",
      "Requirement already satisfied: scipy>=0.18.1 in /opt/conda/lib/python3.6/site-packages (from gensim>=3.4.0->flair) (1.3.0)\n",
      "Requirement already satisfied: scikit-learn in /opt/conda/lib/python3.6/site-packages (from sklearn->flair) (0.21.2)\n",
      "Requirement already satisfied: pygments in /opt/conda/lib/python3.6/site-packages (from ipython==7.6.1->flair) (2.4.2)\n",
      "Requirement already satisfied: jedi>=0.10 in /opt/conda/lib/python3.6/site-packages (from ipython==7.6.1->flair) (0.15.1)\n",
      "Requirement already satisfied: decorator in /opt/conda/lib/python3.6/site-packages (from ipython==7.6.1->flair) (4.4.0)\n",
      "Requirement already satisfied: prompt-toolkit<2.1.0,>=2.0.0 in /opt/conda/lib/python3.6/site-packages (from ipython==7.6.1->flair) (2.0.9)\n",
      "Requirement already satisfied: traitlets>=4.2 in /opt/conda/lib/python3.6/site-packages (from ipython==7.6.1->flair) (4.3.2)\n",
      "Requirement already satisfied: pickleshare in /opt/conda/lib/python3.6/site-packages (from ipython==7.6.1->flair) (0.7.5)\n",
      "Requirement already satisfied: backcall in /opt/conda/lib/python3.6/site-packages (from ipython==7.6.1->flair) (0.1.0)\n",
      "Requirement already satisfied: pexpect; sys_platform != \"win32\" in /opt/conda/lib/python3.6/site-packages (from ipython==7.6.1->flair) (4.7.0)\n",
      "Requirement already satisfied: setuptools>=18.5 in /opt/conda/lib/python3.6/site-packages (from ipython==7.6.1->flair) (41.0.1)\n",
      "Requirement already satisfied: networkx in /opt/conda/lib/python3.6/site-packages (from hyperopt>=0.1.1->flair) (2.3)\n",
      "Requirement already satisfied: pymongo in /opt/conda/lib/python3.6/site-packages (from hyperopt>=0.1.1->flair) (3.9.0)\n",
      "Requirement already satisfied: future in /opt/conda/lib/python3.6/site-packages (from hyperopt>=0.1.1->flair) (0.17.1)\n",
      "Requirement already satisfied: idna<2.9,>=2.5 in /opt/conda/lib/python3.6/site-packages (from requests->bpemb>=0.2.9->flair) (2.8)\n",
      "Requirement already satisfied: certifi>=2017.4.17 in /opt/conda/lib/python3.6/site-packages (from requests->bpemb>=0.2.9->flair) (2019.6.16)\n",
      "Requirement already satisfied: chardet<3.1.0,>=3.0.2 in /opt/conda/lib/python3.6/site-packages (from requests->bpemb>=0.2.9->flair) (3.0.4)\n",
      "Requirement already satisfied: zipp>=0.5 in /opt/conda/lib/python3.6/site-packages (from importlib-metadata>=0.12; python_version < \"3.8\"->pytest>=3.6.4->flair) (0.6.0)\n",
      "Requirement already satisfied: s3transfer<0.3.0,>=0.2.0 in /opt/conda/lib/python3.6/site-packages (from boto3->pytorch-transformers>=1.1.0->flair) (0.2.1)\n",
      "Requirement already satisfied: jmespath<1.0.0,>=0.7.1 in /opt/conda/lib/python3.6/site-packages (from boto3->pytorch-transformers>=1.1.0->flair) (0.9.4)\n",
      "Requirement already satisfied: botocore<1.13.0,>=1.12.220 in /opt/conda/lib/python3.6/site-packages (from boto3->pytorch-transformers>=1.1.0->flair) (1.12.220)\n",
      "Requirement already satisfied: boto>=2.32 in /opt/conda/lib/python3.6/site-packages (from smart-open>=1.7.0->gensim>=3.4.0->flair) (2.49.0)\n",
      "Requirement already satisfied: joblib>=0.11 in /opt/conda/lib/python3.6/site-packages (from scikit-learn->sklearn->flair) (0.13.2)\n",
      "Requirement already satisfied: parso>=0.5.0 in /opt/conda/lib/python3.6/site-packages (from jedi>=0.10->ipython==7.6.1->flair) (0.5.1)\n",
      "Requirement already satisfied: ptyprocess>=0.5 in /opt/conda/lib/python3.6/site-packages (from pexpect; sys_platform != \"win32\"->ipython==7.6.1->flair) (0.6.0)\n",
      "Requirement already satisfied: docutils<0.16,>=0.10 in /opt/conda/lib/python3.6/site-packages (from botocore<1.13.0,>=1.12.220->boto3->pytorch-transformers>=1.1.0->flair) (0.15.2)\n",
      "\u001b[33mWARNING: You are using pip version 19.2.2, however version 19.2.3 is available.\n",
      "You should consider upgrading via the 'pip install --upgrade pip' command.\u001b[0m\n"
     ]
    }
   ],
   "source": [
    "!pip install flair"
   ]
  },
  {
   "cell_type": "code",
   "execution_count": 3,
   "metadata": {},
   "outputs": [],
   "source": [
    "import seqeval.metrics\n",
    "from tqdm import tqdm_notebook\n",
    "\n",
    "import numpy as np\n",
    "from itertools import chain, islice\n",
    "from collections import Counter\n",
    "from collections import defaultdict\n",
    "from functools import partial"
   ]
  },
  {
   "cell_type": "code",
   "execution_count": 4,
   "metadata": {},
   "outputs": [],
   "source": [
    "import flair\n",
    "import torch\n",
    "from torch import nn\n",
    "import torch.nn.functional as F\n",
    "from torch.utils.data import TensorDataset, Dataset, DataLoader\n",
    "import pytorch_lightning as pl\n",
    "from test_tube import Experiment\n",
    "import argparse\n",
    "import os.path"
   ]
  },
  {
   "cell_type": "code",
   "execution_count": 5,
   "metadata": {},
   "outputs": [],
   "source": [
    "original_inputs, original_targets = read_data('data/data.txt')"
   ]
  },
  {
   "cell_type": "code",
   "execution_count": 36,
   "metadata": {},
   "outputs": [],
   "source": [
    "experiment_config = argparse.Namespace()\n",
    "experiment_config.basic_model = 'BILSTM-flair'\n",
    "\n",
    "experiment_config.replace_urls = False\n",
    "experiment_config.replace_numbers = False\n",
    "experiment_config.split_hashtags = False\n",
    "experiment_config.split_nicknames = False\n",
    "\n",
    "experiment_config.val_batch_size = 24\n",
    "experiment_config.train_batch_size = 16\n",
    "experiment_config.lr = 2e-4\n",
    "experiment_config.gradient_acccumulation_steps = 2\n",
    "experiment_config.gradient_clipping_norm = 5.0\n",
    "experiment_config.n_epochs = 12\n",
    "experiment_config.emb_dropout_type = 'locked'\n",
    "experiment_config.emb_dropout = 0.5\n",
    "experiment_config.bilstm_hidden_size = 2048\n",
    "experiment_config.bilstm_dropout = 0.2\n",
    "experiment_config.bilstm_n_layers = 1\n",
    "experiment_config.pre_fc_dropout = 0.2\n",
    "experiment_config.flair_embeddings = 'flair+glove' # bert\n",
    "experiment_config.flair_embeddings_id = 'medium'\n",
    "experiment_config.save_embedding_strategy = 'gpu'\n",
    "# experiment_config.mask_additional_wordpieces = True\n",
    "\n",
    "experiment_dir = 'NER_experiments/'\n",
    "experiment_config.experiment_name = 'BILSTM-over-flair'"
   ]
  },
  {
   "cell_type": "code",
   "execution_count": 7,
   "metadata": {},
   "outputs": [],
   "source": [
    "split_names = ['train', 'val', 'test']"
   ]
  },
  {
   "cell_type": "code",
   "execution_count": 8,
   "metadata": {},
   "outputs": [],
   "source": [
    "input_flair_sentences = [flair.data.Sentence(' '.join(inp)) for inp in original_inputs]"
   ]
  },
  {
   "cell_type": "code",
   "execution_count": 9,
   "metadata": {},
   "outputs": [],
   "source": [
    "for fl, inp in zip(input_flair_sentences, original_inputs):\n",
    "    assert len(fl) == len(inp)"
   ]
  },
  {
   "cell_type": "code",
   "execution_count": 10,
   "metadata": {},
   "outputs": [],
   "source": [
    "inputs_split, flair_sentences_split, targets_split = split_to_dicts([original_inputs, input_flair_sentences, original_targets],\n",
    "                                                                 (train_indices, val_indices, test_indices), \n",
    "                                                                 split_names)"
   ]
  },
  {
   "cell_type": "code",
   "execution_count": 11,
   "metadata": {},
   "outputs": [],
   "source": [
    "unique_tags = count_tags(original_targets)"
   ]
  },
  {
   "cell_type": "code",
   "execution_count": 12,
   "metadata": {},
   "outputs": [],
   "source": [
    "target_vocab = Vocab.from_id2word(unique_tags, unk_index=None, n_specials=0)"
   ]
  },
  {
   "cell_type": "code",
   "execution_count": 56,
   "metadata": {},
   "outputs": [],
   "source": [
    "experiment_config.n_classes = len(target_vocab)"
   ]
  },
  {
   "cell_type": "code",
   "execution_count": 14,
   "metadata": {},
   "outputs": [],
   "source": [
    "def numericalize_targets(targets, target_vocab):\n",
    "    target_ids = target_vocab.numericalize(targets)\n",
    "    return target_ids"
   ]
  },
  {
   "cell_type": "code",
   "execution_count": 15,
   "metadata": {},
   "outputs": [],
   "source": [
    "target_ids = numericalize_targets(original_targets, target_vocab)"
   ]
  },
  {
   "cell_type": "code",
   "execution_count": 16,
   "metadata": {},
   "outputs": [],
   "source": [
    "target_ids_split = split_to_dicts([target_ids], (train_indices, val_indices, test_indices), split_names)[0]"
   ]
  },
  {
   "cell_type": "code",
   "execution_count": 17,
   "metadata": {},
   "outputs": [],
   "source": [
    "sequence_lengths = [len(tgt) for tgt in original_targets]\n",
    "lengths_split = split_to_dicts([sequence_lengths], (train_indices, val_indices, test_indices), split_names)[0]"
   ]
  },
  {
   "cell_type": "code",
   "execution_count": 18,
   "metadata": {},
   "outputs": [
    {
     "name": "stdout",
     "output_type": "stream",
     "text": [
      "41\n"
     ]
    }
   ],
   "source": [
    "print(max(sequence_lengths))"
   ]
  },
  {
   "cell_type": "code",
   "execution_count": 19,
   "metadata": {},
   "outputs": [],
   "source": [
    "class FlairDataset(Dataset):\n",
    "    def __init__(self, input_sentences, target_ids, input_lengths):\n",
    "        self.input_sentences = input_sentences\n",
    "        self.target_ids = target_ids\n",
    "        self.input_lengths = input_lengths\n",
    "        assert len(input_lengths) == len(target_ids) == len(input_sentences)\n",
    "        \n",
    "    def __len__(self):\n",
    "        return len(self.input_sentences)\n",
    "    \n",
    "    def __getitem__(self, idx):\n",
    "        return self.input_sentences[idx], self.target_ids[idx], self.input_lengths[idx]\n",
    "    \n",
    "    @staticmethod\n",
    "    def collate( examples):\n",
    "        list_of_sentences = []\n",
    "        list_of_targets = []\n",
    "        list_of_lengths = []\n",
    "        list_of_masks = []\n",
    "        for sent, tgt, length in examples:\n",
    "            list_of_sentences.append(sent)\n",
    "            list_of_targets.append(torch.tensor(tgt, dtype=torch.long))\n",
    "            list_of_lengths.append(length)\n",
    "            list_of_masks.append(torch.ones(length, dtype=torch.bool))\n",
    "            \n",
    "        target_tensor = torch.nn.utils.rnn.pad_sequence(list_of_targets, batch_first=True)\n",
    "        mask_tensor = torch.nn.utils.rnn.pad_sequence(list_of_masks, batch_first=True)\n",
    "        lengths_tensor = torch.tensor(list_of_lengths, dtype=torch.long)\n",
    "        return list_of_sentences, target_tensor, lengths_tensor, mask_tensor"
   ]
  },
  {
   "cell_type": "code",
   "execution_count": 20,
   "metadata": {},
   "outputs": [
    {
     "name": "stdout",
     "output_type": "stream",
     "text": [
      "2019-09-03 19:09:01,997 https://s3.eu-central-1.amazonaws.com/alan-nlp/resources/embeddings-v0.4.1/big-news-forward--h2048-l1-d0.05-lr30-0.25-20/news-forward-0.4.1.pt not found in cache, downloading to /tmp/tmp27vzjvml\n"
     ]
    },
    {
     "name": "stderr",
     "output_type": "stream",
     "text": [
      "100%|██████████| 73034624/73034624 [00:01<00:00, 48777186.82B/s]"
     ]
    },
    {
     "name": "stdout",
     "output_type": "stream",
     "text": [
      "2019-09-03 19:09:03,631 copying /tmp/tmp27vzjvml to cache at /root/.flair/embeddings/news-forward-0.4.1.pt\n"
     ]
    },
    {
     "name": "stderr",
     "output_type": "stream",
     "text": [
      "\n"
     ]
    },
    {
     "name": "stdout",
     "output_type": "stream",
     "text": [
      "2019-09-03 19:09:03,694 removing temp file /tmp/tmp27vzjvml\n",
      "2019-09-03 19:09:07,835 https://s3.eu-central-1.amazonaws.com/alan-nlp/resources/embeddings-v0.4.1/big-news-backward--h2048-l1-d0.05-lr30-0.25-20/news-backward-0.4.1.pt not found in cache, downloading to /tmp/tmp4jt7q8a1\n"
     ]
    },
    {
     "name": "stderr",
     "output_type": "stream",
     "text": [
      "100%|██████████| 73034575/73034575 [00:01<00:00, 54425425.90B/s]"
     ]
    },
    {
     "name": "stdout",
     "output_type": "stream",
     "text": [
      "2019-09-03 19:09:09,341 copying /tmp/tmp4jt7q8a1 to cache at /root/.flair/embeddings/news-backward-0.4.1.pt\n",
      "2019-09-03 19:09:09,408 removing temp file /tmp/tmp4jt7q8a1\n"
     ]
    },
    {
     "name": "stderr",
     "output_type": "stream",
     "text": [
      "\n"
     ]
    },
    {
     "name": "stdout",
     "output_type": "stream",
     "text": [
      "2019-09-03 19:09:09,713 https://s3.eu-central-1.amazonaws.com/alan-nlp/resources/embeddings/glove.gensim.vectors.npy not found in cache, downloading to /tmp/tmpu4ipr8k4\n"
     ]
    },
    {
     "name": "stderr",
     "output_type": "stream",
     "text": [
      "100%|██████████| 160000128/160000128 [00:02<00:00, 58178828.26B/s]"
     ]
    },
    {
     "name": "stdout",
     "output_type": "stream",
     "text": [
      "2019-09-03 19:09:12,632 copying /tmp/tmpu4ipr8k4 to cache at /root/.flair/embeddings/glove.gensim.vectors.npy\n"
     ]
    },
    {
     "name": "stderr",
     "output_type": "stream",
     "text": [
      "\n"
     ]
    },
    {
     "name": "stdout",
     "output_type": "stream",
     "text": [
      "2019-09-03 19:09:12,770 removing temp file /tmp/tmpu4ipr8k4\n",
      "2019-09-03 19:09:12,848 https://s3.eu-central-1.amazonaws.com/alan-nlp/resources/embeddings/glove.gensim not found in cache, downloading to /tmp/tmpnl10nbrh\n"
     ]
    },
    {
     "name": "stderr",
     "output_type": "stream",
     "text": [
      "100%|██████████| 21494764/21494764 [00:00<00:00, 47551637.48B/s]"
     ]
    },
    {
     "name": "stdout",
     "output_type": "stream",
     "text": [
      "2019-09-03 19:09:13,447 copying /tmp/tmpnl10nbrh to cache at /root/.flair/embeddings/glove.gensim\n",
      "2019-09-03 19:09:13,467 removing temp file /tmp/tmpnl10nbrh\n"
     ]
    },
    {
     "name": "stderr",
     "output_type": "stream",
     "text": [
      "\n"
     ]
    }
   ],
   "source": [
    "if experiment_config.flair_embeddings == 'flair':\n",
    "    flair_embeddings_forward = flair.embeddings.FlairEmbeddings('news-forward')\n",
    "    flair_embeddings_backward = flair.embeddings.FlairEmbeddings('news-backward')\n",
    "    flair_stacked_embeddings = flair.embeddings.StackedEmbeddings([flair_embeddings_forward, flair_embeddings_backward])\n",
    "elif experiment_config.flair_embeddings == 'flair+glove':\n",
    "    flair_embeddings_forward = flair.embeddings.FlairEmbeddings('news-forward')\n",
    "    flair_embeddings_backward = flair.embeddings.FlairEmbeddings('news-backward')\n",
    "    glove_embeddings = flair.embeddings.WordEmbeddings('glove')\n",
    "    flair_stacked_embeddings = flair.embeddings.StackedEmbeddings([flair_embeddings_forward, flair_embeddings_backward, glove_embeddings])\n",
    "elif experiment_config.flair_embeddings == 'bert':\n",
    "    flair_stacked_embeddings = flair.embeddings.BertEmbeddings(experiment_config.flair_embeddings_id)\n",
    "elif experiment_config.flair_embeddings == 'elmo':\n",
    "    flair_stacked_embeddings = flair.embeddings.ELMoEmbeddings(experiment_config.flair_embeddings_id)\n",
    "else:\n",
    "    raise ValueError(\"Unknown type of embeddings {}\".format(experiment_config.flair_embeddings))"
   ]
  },
  {
   "cell_type": "code",
   "execution_count": 21,
   "metadata": {},
   "outputs": [
    {
     "name": "stdout",
     "output_type": "stream",
     "text": [
      "4196\n"
     ]
    }
   ],
   "source": [
    "print(flair_stacked_embeddings.embedding_length)"
   ]
  },
  {
   "cell_type": "code",
   "execution_count": 53,
   "metadata": {},
   "outputs": [],
   "source": [
    "experiment_config.embedding_dim = flair_stacked_embeddings.embedding_length"
   ]
  },
  {
   "cell_type": "code",
   "execution_count": 22,
   "metadata": {},
   "outputs": [],
   "source": [
    "# print(flair_stacked_embeddi)"
   ]
  },
  {
   "cell_type": "code",
   "execution_count": 23,
   "metadata": {},
   "outputs": [
    {
     "data": {
      "text/plain": [
       "tensor(3)"
      ]
     },
     "execution_count": 23,
     "metadata": {},
     "output_type": "execute_result"
    }
   ],
   "source": [
    "torch.max(torch.tensor([1,2,3]))"
   ]
  },
  {
   "cell_type": "code",
   "execution_count": 24,
   "metadata": {},
   "outputs": [],
   "source": [
    "input_flair_sentences[0].clear_embeddings()"
   ]
  },
  {
   "cell_type": "code",
   "execution_count": 25,
   "metadata": {},
   "outputs": [],
   "source": [
    "def masked_crossentropy_loss(logits, targets, masked):\n",
    "    loss_values = F.cross_entropy(logits.view(-1, logits.size(-1)), targets.view(-1), reduction='none')\n",
    "    loss_values[masked.view(-1)] = 0\n",
    "    return loss_values.sum() / (~masked).sum()"
   ]
  },
  {
   "cell_type": "code",
   "execution_count": null,
   "metadata": {},
   "outputs": [],
   "source": [
    "flair.nn.LockedDropout()"
   ]
  },
  {
   "cell_type": "code",
   "execution_count": 65,
   "metadata": {},
   "outputs": [],
   "source": [
    "class BiLSTMTagger(nn.Module):\n",
    "    def __init__(self, config):\n",
    "        super().__init__()\n",
    "        if config.emb_dropout_type == 'plain':\n",
    "            self.emb_dropout = nn.Dropout(p=config.emb_dropout)\n",
    "        elif config.emb_dropout_type == 'locked':\n",
    "            self.emb_dropout = flair.nn.LockedDropout(config.emb_dropout)\n",
    "        else:\n",
    "            raise ValueError('Invalid dropout type')\n",
    "        \n",
    "        self.rnn = nn.LSTM(config.embedding_dim,\n",
    "                           config.bilstm_hidden_size // 2,\n",
    "                           batch_first=True,\n",
    "                           bidirectional=True, \n",
    "                           num_layers = config.bilstm_n_layers, \n",
    "                           dropout = config.bilstm_dropout)\n",
    "        \n",
    "        self.pre_fc_dropout = nn.Dropout(config.pre_fc_dropout)\n",
    "        self.fc = nn.Linear(config.bilstm_hidden_size, config.n_classes) \n",
    "        \n",
    "    def forward(self, states, length_tensor):\n",
    "        states = self.emb_dropout(states)\n",
    "        \n",
    "        padding_length = states.size(1)\n",
    "        lstm_input = torch.nn.utils.rnn.pack_padded_sequence(states, length_tensor, batch_first=True, enforce_sorted=False)\n",
    "        hidden_states, _ = self.rnn(lstm_input)\n",
    "        hidden_states = torch.nn.utils.rnn.pad_packed_sequence(hidden_states, batch_first=True, total_length=padding_length)[0]\n",
    "        hidden_states = self.pre_fc_dropout(hidden_states)\n",
    "        \n",
    "        logits = self.fc(hidden_states)\n",
    "        return logits"
   ]
  },
  {
   "cell_type": "code",
   "execution_count": 62,
   "metadata": {},
   "outputs": [],
   "source": [
    "class BiLSTMWithFlair(nn.Module):\n",
    "    def __init__(self, config, flair_embeddings):\n",
    "        super().__init__()\n",
    "        self.flair_embeddings = flair_embeddings        \n",
    "        self.tagger = BiLSTMTagger(config)\n",
    "        \n",
    "    def forward(self, list_of_sentences, length_tensor):\n",
    "        \n",
    "        with torch.no_grad():\n",
    "            self.flair_embeddings.embed(list_of_sentences)\n",
    "        padding_length = torch.max(length_tensor).item()\n",
    "        batch_size = length_tensor.size(0)\n",
    "        \n",
    "        sentence_tensor = torch.zeros(\n",
    "            batch_size,\n",
    "            padding_length,\n",
    "            self.flair_embeddings.embedding_length,\n",
    "            dtype=torch.float,\n",
    "            device=length_tensor.device,\n",
    "        )\n",
    "        \n",
    "        for s_id, sentence in enumerate(list_of_sentences):\n",
    "            # fill values with word embeddings\n",
    "            sentence_tensor[s_id][: len(sentence)] = torch.cat([token.get_embedding().unsqueeze(0) for token in sentence],\n",
    "                                                               dim=0)\n",
    "        \n",
    "        \n",
    "        return self.tagger(sentence_tensor, length_tensor)\n",
    "        "
   ]
  },
  {
   "cell_type": "code",
   "execution_count": 40,
   "metadata": {},
   "outputs": [],
   "source": [
    "# def bert_compute_lengths_by_padding(inputs):\n",
    "#     return ((inputs != 0).sum(dim=-1) - 2).tolist()\n",
    "\n",
    "def bilstm_predict_tags(model, list_of_sentences, lengths_tensor, mask_tensor, target_vocab):\n",
    "    model.eval()\n",
    "    result = []\n",
    "    with torch.no_grad():\n",
    "        logits = model(list_of_sentences, lengths_tensor)\n",
    "        seqs = logits.argmax(dim=-1)\n",
    "        for i,pred in enumerate(seqs):\n",
    "            pred = pred[mask_tensor[i]].tolist()\n",
    "            result.append(target_vocab.transform_ids(pred))\n",
    "    return result\n",
    "\n",
    "def bilstm_predict_tags_for_loader(model, loader, target_vocab, device='cuda'):        \n",
    "    result = []\n",
    "    for batch in loader:\n",
    "        list_of_sentences, target_tensor, lengths_tensor, mask_tensor =  batch\n",
    "        \n",
    "        result.extend(bilstm_predict_tags(model, \n",
    "                                          list_of_sentences, \n",
    "                                          lengths_tensor.to(device),\n",
    "                                          mask_tensor.to(device),\n",
    "                                          target_vocab))\n",
    "    return result"
   ]
  },
  {
   "cell_type": "code",
   "execution_count": 41,
   "metadata": {},
   "outputs": [],
   "source": [
    "train_dataset = FlairDataset(flair_sentences_split['train'], target_ids_split['train'], lengths_split['train'])\n",
    "val_dataset = FlairDataset(flair_sentences_split['val'], target_ids_split['val'], lengths_split['val'])"
   ]
  },
  {
   "cell_type": "code",
   "execution_count": 42,
   "metadata": {},
   "outputs": [],
   "source": [
    "class BiLSTMFlairLightning(pl.LightningModule):\n",
    "    def __init__(self, config, flair_embeddings):\n",
    "        super().__init__()\n",
    "        self.model = BiLSTMWithFlair(config, flair_embeddings)\n",
    "        self.config = config\n",
    "        \n",
    "    def forward(self, list_of_sentences, length_tensor):\n",
    "        return self.model(list_of_sentences, length_tensor)\n",
    "    \n",
    "    def compute_loss_on_batch(self, batch):\n",
    "        list_of_sentences, target_tensor, lengths_tensor, mask_tensor = batch\n",
    "        logits = self(list_of_sentences, lengths_tensor)\n",
    "        \n",
    "        loss_mask = ~mask_tensor\n",
    "        loss = masked_crossentropy_loss(logits, target_tensor, loss_mask)\n",
    "        return loss\n",
    "    \n",
    "    def training_step(self, batch, batch_nb):\n",
    "        # REQUIRED\n",
    "        loss = self.compute_loss_on_batch(batch)\n",
    "        return {'loss': loss}\n",
    "\n",
    "    def validation_step(self, batch, batch_nb):\n",
    "        # OPTIONAL\n",
    "        loss = self.compute_loss_on_batch(batch)\n",
    "        list_of_sentences, target_tensor, lengths_tensor, mask_tensor =  batch\n",
    "        predicted_tags = bilstm_predict_tags(self, list_of_sentences, lengths_tensor, mask_tensor, target_vocab)\n",
    "        \n",
    "        return {'val_loss': loss, 'tags': predicted_tags}\n",
    "\n",
    "    def validation_end(self, outputs):\n",
    "        # OPTIONAL\n",
    "        avg_loss = torch.tensor([x['val_loss'] for x in outputs]).mean()\n",
    "        predictions = list(chain.from_iterable(x['tags'] for x in outputs))\n",
    "        f1_score = seqeval.metrics.f1_score(targets_split['val'], predictions)\n",
    "        \n",
    "        print(seqeval.metrics.classification_report(targets_split['val'], predictions))\n",
    "        metrics = {'avg_val_loss': avg_loss.item(), 'f1': f1_score}\n",
    "        metrics_to_write = dict(metrics, epoch=self.trainer.current_epoch+1)\n",
    "#         metrics.update(self.trainer.tng_tqdm_dic)\n",
    "        \n",
    "#         scalar_metrics = self.trainer.__metrics_to_scalars(\n",
    "#                     metrics, blacklist=self.trainer.__log_vals_blacklist())\n",
    "        \n",
    "        assert self.experiment\n",
    "        self.experiment.log(metrics_to_write)\n",
    "        self.experiment.save()\n",
    "        \n",
    "        return metrics\n",
    "\n",
    "    def configure_optimizers(self):\n",
    "        # REQUIRED\n",
    "        # can return multiple optimizers and learning_rate schedulers\n",
    "        return torch.optim.Adam(self.parameters(), lr=self.config.lr)\n",
    "\n",
    "    @pl.data_loader\n",
    "    def tng_dataloader(self):\n",
    "        # REQUIRED\n",
    "        assert isinstance(train_dataset, FlairDataset)\n",
    "        return DataLoader(train_dataset, batch_size=self.config.train_batch_size, shuffle=True, collate_fn=FlairDataset.collate)\n",
    "\n",
    "    @pl.data_loader\n",
    "    def val_dataloader(self):\n",
    "        # OPTIONAL\n",
    "        assert isinstance(val_dataset, FlairDataset)\n",
    "        return DataLoader(val_dataset, batch_size=self.config.val_batch_size, shuffle=False, collate_fn=FlairDataset.collate)"
   ]
  },
  {
   "cell_type": "code",
   "execution_count": 69,
   "metadata": {},
   "outputs": [
    {
     "name": "stdout",
     "output_type": "stream",
     "text": [
      "Tue Sep  3 19:29:32 2019       \n",
      "+-----------------------------------------------------------------------------+\n",
      "| NVIDIA-SMI 418.67       Driver Version: 418.67       CUDA Version: 10.1     |\n",
      "|-------------------------------+----------------------+----------------------+\n",
      "| GPU  Name        Persistence-M| Bus-Id        Disp.A | Volatile Uncorr. ECC |\n",
      "| Fan  Temp  Perf  Pwr:Usage/Cap|         Memory-Usage | GPU-Util  Compute M. |\n",
      "|===============================+======================+======================|\n",
      "|   0  GeForce GTX 108...  Off  | 00000000:0E:00.0 Off |                  N/A |\n",
      "| 22%   40C    P2    78W / 250W |   1167MiB / 11178MiB |      0%      Default |\n",
      "+-------------------------------+----------------------+----------------------+\n",
      "                                                                               \n",
      "+-----------------------------------------------------------------------------+\n",
      "| Processes:                                                       GPU Memory |\n",
      "|  GPU       PID   Type   Process name                             Usage      |\n",
      "|=============================================================================|\n",
      "+-----------------------------------------------------------------------------+\n"
     ]
    }
   ],
   "source": [
    "!nvidia-smi"
   ]
  },
  {
   "cell_type": "code",
   "execution_count": 66,
   "metadata": {},
   "outputs": [],
   "source": [
    "def bilstm_test():\n",
    "    bilstm = BiLSTMFlairLightning(experiment_config, flair_stacked_embeddings)\n",
    "    bilstm = bilstm.cuda()\n",
    "    predictions = bilstm_predict_tags_for_loader(bilstm, bilstm.val_dataloader, target_vocab)\n",
    "    print(len(predictions))\n",
    "    print(predictions[100])\n",
    "    del bilstm\n",
    "    torch.cuda.empty_cache()"
   ]
  },
  {
   "cell_type": "code",
   "execution_count": 67,
   "metadata": {},
   "outputs": [
    {
     "name": "stderr",
     "output_type": "stream",
     "text": [
      "/opt/conda/lib/python3.6/site-packages/torch/nn/modules/rnn.py:51: UserWarning: dropout option adds dropout after all but last recurrent layer, so non-zero dropout expects num_layers greater than 1, but got dropout=0.2 and num_layers=1\n",
      "  \"num_layers={}\".format(dropout, num_layers))\n"
     ]
    },
    {
     "name": "stdout",
     "output_type": "stream",
     "text": [
      "843\n",
      "['I-geo-loc', 'I-geo-loc', 'I-product', 'I-geo-loc', 'I-geo-loc', 'I-product', 'I-geo-loc', 'B-product', 'B-product', 'B-product', 'B-musicartist', 'B-musicartist', 'I-movie', 'I-tvshow', 'I-product', 'I-product', 'I-product']\n"
     ]
    }
   ],
   "source": [
    "bilstm_test()"
   ]
  },
  {
   "cell_type": "code",
   "execution_count": 68,
   "metadata": {},
   "outputs": [],
   "source": [
    "import gc\n",
    "gc.collect()\n",
    "torch.cuda.empty_cache()"
   ]
  },
  {
   "cell_type": "code",
   "execution_count": 70,
   "metadata": {},
   "outputs": [],
   "source": [
    "exp = Experiment(save_dir=experiment_dir, name=experiment_config.experiment_name)"
   ]
  },
  {
   "cell_type": "code",
   "execution_count": 71,
   "metadata": {},
   "outputs": [
    {
     "name": "stdout",
     "output_type": "stream",
     "text": [
      "5\n"
     ]
    }
   ],
   "source": [
    "print(exp.version)"
   ]
  },
  {
   "cell_type": "code",
   "execution_count": 72,
   "metadata": {},
   "outputs": [],
   "source": [
    "exp.argparse(experiment_config)\n",
    "exp.save()"
   ]
  },
  {
   "cell_type": "code",
   "execution_count": 73,
   "metadata": {},
   "outputs": [],
   "source": [
    "bilstm_model = BiLSTMFlairLightning(experiment_config, flair_stacked_embeddings)"
   ]
  },
  {
   "cell_type": "code",
   "execution_count": 74,
   "metadata": {},
   "outputs": [],
   "source": [
    "bilstm_model = bilstm_model.cuda()"
   ]
  },
  {
   "cell_type": "code",
   "execution_count": 75,
   "metadata": {},
   "outputs": [],
   "source": [
    "checkpoint_callback = pl.callbacks.ModelCheckpoint(\n",
    "    filepath= f'{experiment_dir}/{experiment_config.experiment_name}/version_{exp.version}/checkpoint',\n",
    "    save_best_only=True,\n",
    "    verbose=True,\n",
    "    monitor='f1',\n",
    "    mode='max'\n",
    ")\n",
    "\n",
    "early_stop = pl.callbacks.EarlyStopping(\n",
    "        monitor='f1',\n",
    "        patience=5,\n",
    "        verbose=True,\n",
    "        mode='max'\n",
    ")"
   ]
  },
  {
   "cell_type": "code",
   "execution_count": 76,
   "metadata": {},
   "outputs": [
    {
     "name": "stdout",
     "output_type": "stream",
     "text": [
      "VISIBLE GPUS: '0'\n",
      "gpu available: True, used: True\n"
     ]
    }
   ],
   "source": [
    "trainer = pl.Trainer(experiment=exp,\n",
    "                     max_nb_epochs=experiment_config.n_epochs,\n",
    "                     gpus=[0],\n",
    "                     gradient_clip=experiment_config.gradient_clipping_norm,\n",
    "                     early_stop_callback=early_stop,\n",
    "                     accumulate_grad_batches=experiment_config.gradient_acccumulation_steps,\n",
    "                     add_log_row_interval=100,\n",
    "                     checkpoint_callback=checkpoint_callback)"
   ]
  },
  {
   "cell_type": "code",
   "execution_count": 77,
   "metadata": {},
   "outputs": [
    {
     "name": "stderr",
     "output_type": "stream",
     "text": [
      " 40%|████      | 2/5 [00:00<00:00, 12.60it/s]"
     ]
    },
    {
     "name": "stdout",
     "output_type": "stream",
     "text": [
      "                                                 Name               Type  \\\n",
      "0                                               model    BiLSTMWithFlair   \n",
      "1                              model.flair_embeddings  StackedEmbeddings   \n",
      "2             model.flair_embeddings.list_embedding_0    FlairEmbeddings   \n",
      "3          model.flair_embeddings.list_embedding_0.lm      LanguageModel   \n",
      "4     model.flair_embeddings.list_embedding_0.lm.drop            Dropout   \n",
      "5   model.flair_embeddings.list_embedding_0.lm.enc...          Embedding   \n",
      "6      model.flair_embeddings.list_embedding_0.lm.rnn               LSTM   \n",
      "7   model.flair_embeddings.list_embedding_0.lm.dec...             Linear   \n",
      "8             model.flair_embeddings.list_embedding_1    FlairEmbeddings   \n",
      "9          model.flair_embeddings.list_embedding_1.lm      LanguageModel   \n",
      "10    model.flair_embeddings.list_embedding_1.lm.drop            Dropout   \n",
      "11  model.flair_embeddings.list_embedding_1.lm.enc...          Embedding   \n",
      "12     model.flair_embeddings.list_embedding_1.lm.rnn               LSTM   \n",
      "13  model.flair_embeddings.list_embedding_1.lm.dec...             Linear   \n",
      "14            model.flair_embeddings.list_embedding_2     WordEmbeddings   \n",
      "15                                       model.tagger       BiLSTMTagger   \n",
      "16                           model.tagger.emb_dropout      LockedDropout   \n",
      "17                                   model.tagger.rnn               LSTM   \n",
      "18                        model.tagger.pre_fc_dropout            Dropout   \n",
      "19                                    model.tagger.fc             Linear   \n",
      "\n",
      "      Params  \n",
      "0   79336653  \n",
      "1   36515000  \n",
      "2   18257500  \n",
      "3   18257500  \n",
      "4          0  \n",
      "5      30000  \n",
      "6   17612800  \n",
      "7     614700  \n",
      "8   18257500  \n",
      "9   18257500  \n",
      "10         0  \n",
      "11     30000  \n",
      "12  17612800  \n",
      "13    614700  \n",
      "14         0  \n",
      "15  42821653  \n",
      "16         0  \n",
      "17  42778624  \n",
      "18         0  \n",
      "19     43029  \n"
     ]
    },
    {
     "name": "stderr",
     "output_type": "stream",
     "text": [
      "  0%|          | 0/361 [00:00<00:27, 13.09it/s]"
     ]
    },
    {
     "name": "stdout",
     "output_type": "stream",
     "text": [
      "             precision    recall  f1-score   support\n",
      "\n",
      "    product       0.00      0.00      0.00        38\n",
      "     person       0.00      0.00      0.00       131\n",
      "     tvshow       0.00      0.09      0.00        11\n",
      "    company       0.01      0.01      0.01        84\n",
      "musicartist       0.00      0.00      0.00        33\n",
      "        loc       0.00      0.00      0.00       156\n",
      "      other       0.01      0.01      0.01       110\n",
      " sportsteam       0.00      0.00      0.00        21\n",
      "   facility       0.00      0.00      0.00        58\n",
      "      movie       0.00      0.00      0.00        17\n",
      "\n",
      "  micro avg       0.00      0.00      0.00       659\n",
      "  macro avg       0.00      0.00      0.00       659\n",
      "\n"
     ]
    },
    {
     "name": "stderr",
     "output_type": "stream",
     "text": [
      "100%|██████████| 361/361 [01:37<00:00, 16.53it/s, avg_val_loss=0.321, batch_nb=324, epoch=0, f1=0.0666, gpu=0, loss=0.361, v_nb=5]"
     ]
    },
    {
     "name": "stdout",
     "output_type": "stream",
     "text": [
      "             precision    recall  f1-score   support\n",
      "\n",
      "    product       0.00      0.00      0.00        38\n",
      "     person       0.12      0.02      0.04       131\n",
      "     tvshow       0.00      0.00      0.00        11\n",
      "    company       0.00      0.00      0.00        84\n",
      "musicartist       0.00      0.00      0.00        33\n",
      "        loc       0.24      0.15      0.18       156\n",
      "      other       0.00      0.00      0.00       110\n",
      " sportsteam       0.00      0.00      0.00        21\n",
      "   facility       0.00      0.00      0.00        58\n",
      "      movie       0.00      0.00      0.00        17\n",
      "\n",
      "  micro avg       0.21      0.04      0.07       659\n",
      "  macro avg       0.08      0.04      0.05       659\n",
      "\n",
      "save callback...\n",
      "\n",
      "Epoch 00001: f1 improved from -inf to 0.06658, saving model to NER_experiments//BILSTM-over-flair/version_5/checkpoint/_ckpt_epoch_1.ckpt\n"
     ]
    },
    {
     "name": "stderr",
     "output_type": "stream",
     "text": [
      "100%|██████████| 361/361 [00:20<00:00, 16.42it/s, avg_val_loss=0.225, batch_nb=324, epoch=1, f1=0.368, gpu=0, loss=0.249, v_nb=5] "
     ]
    },
    {
     "name": "stdout",
     "output_type": "stream",
     "text": [
      "             precision    recall  f1-score   support\n",
      "\n",
      "    product       0.00      0.00      0.00        38\n",
      "     person       0.66      0.51      0.58       131\n",
      "     tvshow       0.00      0.00      0.00        11\n",
      "    company       0.53      0.12      0.19        84\n",
      "musicartist       0.00      0.00      0.00        33\n",
      "        loc       0.52      0.60      0.56       156\n",
      "      other       0.17      0.05      0.07       110\n",
      " sportsteam       1.00      0.05      0.09        21\n",
      "   facility       0.28      0.28      0.28        58\n",
      "      movie       0.00      0.00      0.00        17\n",
      "\n",
      "  micro avg       0.49      0.29      0.37       659\n",
      "  macro avg       0.41      0.29      0.31       659\n",
      "\n",
      "save callback...\n",
      "\n",
      "Epoch 00002: f1 improved from 0.06658 to 0.36762, saving model to NER_experiments//BILSTM-over-flair/version_5/checkpoint/_ckpt_epoch_2.ckpt\n"
     ]
    },
    {
     "name": "stderr",
     "output_type": "stream",
     "text": [
      "100%|██████████| 361/361 [00:20<00:00, 15.82it/s, avg_val_loss=0.185, batch_nb=324, epoch=2, f1=0.453, gpu=0, loss=0.198, v_nb=5]"
     ]
    },
    {
     "name": "stdout",
     "output_type": "stream",
     "text": [
      "             precision    recall  f1-score   support\n",
      "\n",
      "    product       0.00      0.00      0.00        38\n",
      "     person       0.72      0.63      0.67       131\n",
      "     tvshow       0.00      0.00      0.00        11\n",
      "    company       0.46      0.43      0.44        84\n",
      "musicartist       0.00      0.00      0.00        33\n",
      "        loc       0.59      0.67      0.63       156\n",
      "      other       0.30      0.23      0.26       110\n",
      " sportsteam       0.38      0.14      0.21        21\n",
      "   facility       0.37      0.29      0.33        58\n",
      "      movie       0.00      0.00      0.00        17\n",
      "\n",
      "  micro avg       0.51      0.41      0.45       659\n",
      "  macro avg       0.44      0.41      0.42       659\n",
      "\n",
      "save callback...\n",
      "\n",
      "Epoch 00003: f1 improved from 0.36762 to 0.45286, saving model to NER_experiments//BILSTM-over-flair/version_5/checkpoint/_ckpt_epoch_3.ckpt\n"
     ]
    },
    {
     "name": "stderr",
     "output_type": "stream",
     "text": [
      "100%|██████████| 361/361 [00:20<00:00, 14.77it/s, avg_val_loss=0.174, batch_nb=324, epoch=3, f1=0.483, gpu=0, loss=0.183, v_nb=5]"
     ]
    },
    {
     "name": "stdout",
     "output_type": "stream",
     "text": [
      "             precision    recall  f1-score   support\n",
      "\n",
      "    product       0.15      0.13      0.14        38\n",
      "     person       0.79      0.57      0.66       131\n",
      "     tvshow       0.00      0.00      0.00        11\n",
      "    company       0.60      0.42      0.49        84\n",
      "musicartist       0.00      0.00      0.00        33\n",
      "        loc       0.61      0.69      0.65       156\n",
      "      other       0.45      0.21      0.29       110\n",
      " sportsteam       0.31      0.19      0.24        21\n",
      "   facility       0.47      0.47      0.47        58\n",
      "      movie       0.00      0.00      0.00        17\n",
      "\n",
      "  micro avg       0.57      0.42      0.48       659\n",
      "  macro avg       0.51      0.42      0.45       659\n",
      "\n",
      "save callback...\n",
      "\n",
      "Epoch 00004: f1 improved from 0.45286 to 0.48336, saving model to NER_experiments//BILSTM-over-flair/version_5/checkpoint/_ckpt_epoch_4.ckpt\n"
     ]
    },
    {
     "name": "stderr",
     "output_type": "stream",
     "text": [
      "100%|██████████| 361/361 [00:20<00:00, 16.26it/s, avg_val_loss=0.171, batch_nb=324, epoch=4, f1=0.5, gpu=0, loss=0.165, v_nb=5]  "
     ]
    },
    {
     "name": "stdout",
     "output_type": "stream",
     "text": [
      "             precision    recall  f1-score   support\n",
      "\n",
      "    product       0.13      0.18      0.16        38\n",
      "     person       0.70      0.58      0.64       131\n",
      "     tvshow       0.00      0.00      0.00        11\n",
      "    company       0.59      0.52      0.55        84\n",
      "musicartist       0.20      0.03      0.05        33\n",
      "        loc       0.72      0.69      0.70       156\n",
      "      other       0.33      0.27      0.30       110\n",
      " sportsteam       0.50      0.38      0.43        21\n",
      "   facility       0.48      0.55      0.52        58\n",
      "      movie       0.00      0.00      0.00        17\n",
      "\n",
      "  micro avg       0.54      0.46      0.50       659\n",
      "  macro avg       0.52      0.46      0.48       659\n",
      "\n",
      "save callback...\n",
      "\n",
      "Epoch 00005: f1 improved from 0.48336 to 0.49959, saving model to NER_experiments//BILSTM-over-flair/version_5/checkpoint/_ckpt_epoch_5.ckpt\n"
     ]
    },
    {
     "name": "stderr",
     "output_type": "stream",
     "text": [
      "100%|██████████| 361/361 [00:20<00:00, 16.60it/s, avg_val_loss=0.156, batch_nb=324, epoch=5, f1=0.543, gpu=0, loss=0.147, v_nb=5]"
     ]
    },
    {
     "name": "stdout",
     "output_type": "stream",
     "text": [
      "             precision    recall  f1-score   support\n",
      "\n",
      "    product       0.14      0.13      0.14        38\n",
      "     person       0.74      0.73      0.73       131\n",
      "     tvshow       0.00      0.00      0.00        11\n",
      "    company       0.56      0.52      0.54        84\n",
      "musicartist       0.24      0.12      0.16        33\n",
      "        loc       0.76      0.79      0.77       156\n",
      "      other       0.36      0.20      0.26       110\n",
      " sportsteam       0.73      0.38      0.50        21\n",
      "   facility       0.43      0.55      0.48        58\n",
      "      movie       0.00      0.00      0.00        17\n",
      "\n",
      "  micro avg       0.58      0.51      0.54       659\n",
      "  macro avg       0.54      0.51      0.52       659\n",
      "\n",
      "save callback...\n",
      "\n",
      "Epoch 00006: f1 improved from 0.49959 to 0.54309, saving model to NER_experiments//BILSTM-over-flair/version_5/checkpoint/_ckpt_epoch_6.ckpt\n"
     ]
    },
    {
     "name": "stderr",
     "output_type": "stream",
     "text": [
      "  0%|          | 0/361 [00:00<00:21, 16.45it/s, avg_val_loss=0.159, batch_nb=324, epoch=6, f1=0.533, gpu=0, loss=0.136, v_nb=5]  "
     ]
    },
    {
     "name": "stdout",
     "output_type": "stream",
     "text": [
      "             precision    recall  f1-score   support\n",
      "\n",
      "    product       0.23      0.26      0.24        38\n",
      "     person       0.72      0.72      0.72       131\n",
      "     tvshow       0.00      0.00      0.00        11\n",
      "    company       0.68      0.43      0.53        84\n",
      "musicartist       0.38      0.09      0.15        33\n",
      "        loc       0.76      0.69      0.72       156\n",
      "      other       0.32      0.37      0.34       110\n",
      " sportsteam       0.73      0.38      0.50        21\n",
      "   facility       0.54      0.45      0.49        58\n",
      "      movie       0.00      0.00      0.00        17\n",
      "\n",
      "  micro avg       0.58      0.49      0.53       659\n",
      "  macro avg       0.57      0.49      0.52       659\n",
      "\n",
      "save callback...\n",
      "\n",
      "Epoch 00007: f1 did not improve\n"
     ]
    },
    {
     "name": "stderr",
     "output_type": "stream",
     "text": [
      "100%|██████████| 361/361 [00:20<00:00, 14.29it/s, avg_val_loss=0.15, batch_nb=324, epoch=7, f1=0.566, gpu=0, loss=0.120, v_nb=5] "
     ]
    },
    {
     "name": "stdout",
     "output_type": "stream",
     "text": [
      "             precision    recall  f1-score   support\n",
      "\n",
      "    product       0.21      0.18      0.20        38\n",
      "     person       0.77      0.73      0.75       131\n",
      "     tvshow       0.00      0.00      0.00        11\n",
      "    company       0.68      0.50      0.58        84\n",
      "musicartist       0.36      0.15      0.21        33\n",
      "        loc       0.75      0.75      0.75       156\n",
      "      other       0.41      0.37      0.39       110\n",
      " sportsteam       0.62      0.48      0.54        21\n",
      "   facility       0.50      0.50      0.50        58\n",
      "      movie       0.00      0.00      0.00        17\n",
      "\n",
      "  micro avg       0.61      0.53      0.57       659\n",
      "  macro avg       0.58      0.53      0.55       659\n",
      "\n",
      "save callback...\n",
      "\n",
      "Epoch 00008: f1 improved from 0.54309 to 0.56628, saving model to NER_experiments//BILSTM-over-flair/version_5/checkpoint/_ckpt_epoch_8.ckpt\n"
     ]
    },
    {
     "name": "stderr",
     "output_type": "stream",
     "text": [
      "  1%|          | 2/361 [00:00<00:26, 13.37it/s, avg_val_loss=0.152, batch_nb=324, epoch=8, f1=0.556, gpu=0, loss=0.112, v_nb=5]  "
     ]
    },
    {
     "name": "stdout",
     "output_type": "stream",
     "text": [
      "             precision    recall  f1-score   support\n",
      "\n",
      "    product       0.17      0.11      0.13        38\n",
      "     person       0.75      0.66      0.70       131\n",
      "     tvshow       0.00      0.00      0.00        11\n",
      "    company       0.58      0.57      0.57        84\n",
      "musicartist       0.14      0.03      0.05        33\n",
      "        loc       0.82      0.72      0.77       156\n",
      "      other       0.46      0.35      0.40       110\n",
      " sportsteam       0.47      0.43      0.45        21\n",
      "   facility       0.56      0.48      0.52        58\n",
      "      movie       0.00      0.00      0.00        17\n",
      "\n",
      "  micro avg       0.63      0.50      0.56       659\n",
      "  macro avg       0.58      0.50      0.53       659\n",
      "\n",
      "save callback...\n",
      "\n",
      "Epoch 00009: f1 did not improve\n"
     ]
    },
    {
     "name": "stderr",
     "output_type": "stream",
     "text": [
      "100%|██████████| 361/361 [00:20<00:00, 13.88it/s, avg_val_loss=0.147, batch_nb=324, epoch=9, f1=0.573, gpu=0, loss=0.101, v_nb=5]"
     ]
    },
    {
     "name": "stdout",
     "output_type": "stream",
     "text": [
      "             precision    recall  f1-score   support\n",
      "\n",
      "    product       0.13      0.16      0.14        38\n",
      "     person       0.72      0.77      0.74       131\n",
      "     tvshow       0.00      0.00      0.00        11\n",
      "    company       0.66      0.60      0.62        84\n",
      "musicartist       0.29      0.12      0.17        33\n",
      "        loc       0.77      0.76      0.77       156\n",
      "      other       0.47      0.39      0.43       110\n",
      " sportsteam       0.60      0.29      0.39        21\n",
      "   facility       0.51      0.53      0.52        58\n",
      "      movie       0.00      0.00      0.00        17\n",
      "\n",
      "  micro avg       0.60      0.55      0.57       659\n",
      "  macro avg       0.57      0.55      0.55       659\n",
      "\n",
      "save callback...\n",
      "\n",
      "Epoch 00010: f1 improved from 0.56628 to 0.57325, saving model to NER_experiments//BILSTM-over-flair/version_5/checkpoint/_ckpt_epoch_10.ckpt\n"
     ]
    },
    {
     "name": "stderr",
     "output_type": "stream",
     "text": [
      "  1%|          | 2/361 [00:00<00:24, 14.85it/s, avg_val_loss=0.155, batch_nb=324, epoch=10, f1=0.562, gpu=0, loss=0.088, v_nb=5]  "
     ]
    },
    {
     "name": "stdout",
     "output_type": "stream",
     "text": [
      "             precision    recall  f1-score   support\n",
      "\n",
      "    product       0.20      0.16      0.18        38\n",
      "     person       0.68      0.76      0.72       131\n",
      "     tvshow       0.00      0.00      0.00        11\n",
      "    company       0.64      0.57      0.60        84\n",
      "musicartist       0.21      0.09      0.13        33\n",
      "        loc       0.69      0.78      0.73       156\n",
      "      other       0.47      0.33      0.39       110\n",
      " sportsteam       0.53      0.43      0.47        21\n",
      "   facility       0.50      0.52      0.51        58\n",
      "      movie       0.33      0.06      0.10        17\n",
      "\n",
      "  micro avg       0.59      0.54      0.56       659\n",
      "  macro avg       0.55      0.54      0.54       659\n",
      "\n",
      "save callback...\n",
      "\n",
      "Epoch 00011: f1 did not improve\n"
     ]
    },
    {
     "name": "stderr",
     "output_type": "stream",
     "text": [
      "100%|██████████| 361/361 [00:20<00:00, 16.06it/s, avg_val_loss=0.172, batch_nb=324, epoch=11, f1=0.55, gpu=0, loss=0.070, v_nb=5] "
     ]
    },
    {
     "name": "stdout",
     "output_type": "stream",
     "text": [
      "             precision    recall  f1-score   support\n",
      "\n",
      "    product       0.14      0.26      0.18        38\n",
      "     person       0.75      0.77      0.76       131\n",
      "     tvshow       0.00      0.00      0.00        11\n",
      "    company       0.67      0.54      0.60        84\n",
      "musicartist       0.35      0.27      0.31        33\n",
      "        loc       0.77      0.76      0.76       156\n",
      "      other       0.36      0.35      0.36       110\n",
      " sportsteam       0.48      0.48      0.48        21\n",
      "   facility       0.41      0.59      0.48        58\n",
      "      movie       0.18      0.12      0.14        17\n",
      "\n",
      "  micro avg       0.54      0.56      0.55       659\n",
      "  macro avg       0.56      0.56      0.55       659\n",
      "\n",
      "save callback...\n",
      "\n",
      "Epoch 00012: f1 did not improve\n"
     ]
    },
    {
     "data": {
      "text/plain": [
       "1"
      ]
     },
     "execution_count": 77,
     "metadata": {},
     "output_type": "execute_result"
    },
    {
     "name": "stderr",
     "output_type": "stream",
     "text": [
      "100%|██████████| 361/361 [00:31<00:00, 16.06it/s, avg_val_loss=0.172, batch_nb=324, epoch=11, f1=0.55, gpu=0, loss=0.070, v_nb=5]"
     ]
    }
   ],
   "source": [
    "trainer.fit(bilstm_model)"
   ]
  },
  {
   "cell_type": "code",
   "execution_count": null,
   "metadata": {},
   "outputs": [],
   "source": []
  }
 ],
 "metadata": {
  "kernelspec": {
   "display_name": "Python 3",
   "language": "python",
   "name": "python3"
  },
  "language_info": {
   "codemirror_mode": {
    "name": "ipython",
    "version": 3
   },
   "file_extension": ".py",
   "mimetype": "text/x-python",
   "name": "python",
   "nbconvert_exporter": "python",
   "pygments_lexer": "ipython3",
   "version": "3.6.9"
  }
 },
 "nbformat": 4,
 "nbformat_minor": 4
}
