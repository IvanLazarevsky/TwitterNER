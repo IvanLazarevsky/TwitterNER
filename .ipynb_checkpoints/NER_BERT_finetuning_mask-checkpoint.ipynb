{
 "cells": [
  {
   "cell_type": "markdown",
   "metadata": {},
   "source": [
    "Импортируем общий код"
   ]
  },
  {
   "cell_type": "code",
   "execution_count": 1,
   "metadata": {},
   "outputs": [
    {
     "name": "stdout",
     "output_type": "stream",
     "text": [
      "Requirement already satisfied: seqeval in /opt/conda/lib/python3.6/site-packages (0.0.12)\n",
      "Requirement already satisfied: numpy>=1.14.0 in /opt/conda/lib/python3.6/site-packages (from seqeval) (1.16.4)\n",
      "Requirement already satisfied: Keras>=2.2.4 in /opt/conda/lib/python3.6/site-packages (from seqeval) (2.2.4)\n",
      "Requirement already satisfied: keras-applications>=1.0.6 in /opt/conda/lib/python3.6/site-packages (from Keras>=2.2.4->seqeval) (1.0.8)\n",
      "Requirement already satisfied: keras-preprocessing>=1.0.5 in /opt/conda/lib/python3.6/site-packages (from Keras>=2.2.4->seqeval) (1.1.0)\n",
      "Requirement already satisfied: six>=1.9.0 in /opt/conda/lib/python3.6/site-packages (from Keras>=2.2.4->seqeval) (1.12.0)\n",
      "Requirement already satisfied: scipy>=0.14 in /opt/conda/lib/python3.6/site-packages (from Keras>=2.2.4->seqeval) (1.3.0)\n",
      "Requirement already satisfied: h5py in /opt/conda/lib/python3.6/site-packages (from Keras>=2.2.4->seqeval) (2.9.0)\n",
      "Requirement already satisfied: pyyaml in /opt/conda/lib/python3.6/site-packages (from Keras>=2.2.4->seqeval) (5.1.1)\n",
      "\u001b[33mWARNING: You are using pip version 19.2.2, however version 19.2.3 is available.\n",
      "You should consider upgrading via the 'pip install --upgrade pip' command.\u001b[0m\n",
      "Requirement already satisfied: pytorch-lightning in /opt/conda/lib/python3.6/site-packages (0.4.8)\n",
      "Requirement already satisfied: tqdm>=4.35.0 in /opt/conda/lib/python3.6/site-packages (from pytorch-lightning) (4.35.0)\n",
      "Requirement already satisfied: test-tube>=0.6.9 in /opt/conda/lib/python3.6/site-packages (from pytorch-lightning) (0.7.0)\n",
      "Requirement already satisfied: torch==1.2.0 in /opt/conda/lib/python3.6/site-packages (from pytorch-lightning) (1.2.0)\n",
      "Requirement already satisfied: pandas>=0.20.3 in /opt/conda/lib/python3.6/site-packages (from pytorch-lightning) (0.25.0)\n",
      "Requirement already satisfied: future in /opt/conda/lib/python3.6/site-packages (from test-tube>=0.6.9->pytorch-lightning) (0.17.1)\n",
      "Requirement already satisfied: imageio>=2.3.0 in /opt/conda/lib/python3.6/site-packages (from test-tube>=0.6.9->pytorch-lightning) (2.5.0)\n",
      "Requirement already satisfied: numpy>=1.13.3 in /opt/conda/lib/python3.6/site-packages (from test-tube>=0.6.9->pytorch-lightning) (1.16.4)\n",
      "Requirement already satisfied: tb-nightly==1.15.0a20190708 in /opt/conda/lib/python3.6/site-packages (from test-tube>=0.6.9->pytorch-lightning) (1.15.0a20190708)\n",
      "Requirement already satisfied: python-dateutil>=2.6.1 in /opt/conda/lib/python3.6/site-packages (from pandas>=0.20.3->pytorch-lightning) (2.8.0)\n",
      "Requirement already satisfied: pytz>=2017.2 in /opt/conda/lib/python3.6/site-packages (from pandas>=0.20.3->pytorch-lightning) (2019.1)\n",
      "Requirement already satisfied: wheel>=0.26; python_version >= \"3\" in /opt/conda/lib/python3.6/site-packages (from tb-nightly==1.15.0a20190708->test-tube>=0.6.9->pytorch-lightning) (0.33.4)\n",
      "Requirement already satisfied: absl-py>=0.4 in /opt/conda/lib/python3.6/site-packages (from tb-nightly==1.15.0a20190708->test-tube>=0.6.9->pytorch-lightning) (0.7.1)\n",
      "Requirement already satisfied: werkzeug>=0.11.15 in /opt/conda/lib/python3.6/site-packages (from tb-nightly==1.15.0a20190708->test-tube>=0.6.9->pytorch-lightning) (0.15.4)\n",
      "Requirement already satisfied: protobuf>=3.6.0 in /opt/conda/lib/python3.6/site-packages (from tb-nightly==1.15.0a20190708->test-tube>=0.6.9->pytorch-lightning) (3.8.0)\n",
      "Requirement already satisfied: setuptools>=41.0.0 in /opt/conda/lib/python3.6/site-packages (from tb-nightly==1.15.0a20190708->test-tube>=0.6.9->pytorch-lightning) (41.0.1)\n",
      "Requirement already satisfied: grpcio>=1.6.3 in /opt/conda/lib/python3.6/site-packages (from tb-nightly==1.15.0a20190708->test-tube>=0.6.9->pytorch-lightning) (1.16.1)\n",
      "Requirement already satisfied: markdown>=2.6.8 in /opt/conda/lib/python3.6/site-packages (from tb-nightly==1.15.0a20190708->test-tube>=0.6.9->pytorch-lightning) (3.1.1)\n",
      "Requirement already satisfied: six>=1.10.0 in /opt/conda/lib/python3.6/site-packages (from tb-nightly==1.15.0a20190708->test-tube>=0.6.9->pytorch-lightning) (1.12.0)\n",
      "\u001b[33mWARNING: You are using pip version 19.2.2, however version 19.2.3 is available.\n",
      "You should consider upgrading via the 'pip install --upgrade pip' command.\u001b[0m\n",
      "Requirement already satisfied: pytorch-transformers in /opt/conda/lib/python3.6/site-packages (1.1.0)\n",
      "Requirement already satisfied: regex in /opt/conda/lib/python3.6/site-packages (from pytorch-transformers) (2018.1.10)\n",
      "Requirement already satisfied: sentencepiece in /opt/conda/lib/python3.6/site-packages (from pytorch-transformers) (0.1.83)\n",
      "Requirement already satisfied: torch>=1.0.0 in /opt/conda/lib/python3.6/site-packages (from pytorch-transformers) (1.2.0)\n",
      "Requirement already satisfied: tqdm in /opt/conda/lib/python3.6/site-packages (from pytorch-transformers) (4.35.0)\n",
      "Requirement already satisfied: numpy in /opt/conda/lib/python3.6/site-packages (from pytorch-transformers) (1.16.4)\n",
      "Requirement already satisfied: boto3 in /opt/conda/lib/python3.6/site-packages (from pytorch-transformers) (1.9.220)\n",
      "Requirement already satisfied: requests in /opt/conda/lib/python3.6/site-packages (from pytorch-transformers) (2.22.0)\n",
      "Requirement already satisfied: jmespath<1.0.0,>=0.7.1 in /opt/conda/lib/python3.6/site-packages (from boto3->pytorch-transformers) (0.9.4)\n",
      "Requirement already satisfied: s3transfer<0.3.0,>=0.2.0 in /opt/conda/lib/python3.6/site-packages (from boto3->pytorch-transformers) (0.2.1)\n",
      "Requirement already satisfied: botocore<1.13.0,>=1.12.220 in /opt/conda/lib/python3.6/site-packages (from boto3->pytorch-transformers) (1.12.220)\n",
      "Requirement already satisfied: chardet<3.1.0,>=3.0.2 in /opt/conda/lib/python3.6/site-packages (from requests->pytorch-transformers) (3.0.4)\n",
      "Requirement already satisfied: urllib3!=1.25.0,!=1.25.1,<1.26,>=1.21.1 in /opt/conda/lib/python3.6/site-packages (from requests->pytorch-transformers) (1.24.2)\n",
      "Requirement already satisfied: certifi>=2017.4.17 in /opt/conda/lib/python3.6/site-packages (from requests->pytorch-transformers) (2019.6.16)\n",
      "Requirement already satisfied: idna<2.9,>=2.5 in /opt/conda/lib/python3.6/site-packages (from requests->pytorch-transformers) (2.8)\n",
      "Requirement already satisfied: python-dateutil<3.0.0,>=2.1; python_version >= \"2.7\" in /opt/conda/lib/python3.6/site-packages (from botocore<1.13.0,>=1.12.220->boto3->pytorch-transformers) (2.8.0)\n",
      "Requirement already satisfied: docutils<0.16,>=0.10 in /opt/conda/lib/python3.6/site-packages (from botocore<1.13.0,>=1.12.220->boto3->pytorch-transformers) (0.15.2)\n",
      "Requirement already satisfied: six>=1.5 in /opt/conda/lib/python3.6/site-packages (from python-dateutil<3.0.0,>=2.1; python_version >= \"2.7\"->botocore<1.13.0,>=1.12.220->boto3->pytorch-transformers) (1.12.0)\n",
      "\u001b[33mWARNING: You are using pip version 19.2.2, however version 19.2.3 is available.\n",
      "You should consider upgrading via the 'pip install --upgrade pip' command.\u001b[0m\n"
     ]
    }
   ],
   "source": [
    "%run NER_common.ipynb"
   ]
  },
  {
   "cell_type": "code",
   "execution_count": 2,
   "metadata": {},
   "outputs": [],
   "source": [
    "import pytorch_transformers\n",
    "import seqeval.metrics\n",
    "from tqdm import tqdm_notebook\n",
    "\n",
    "import numpy as np\n",
    "from itertools import chain, islice\n",
    "from collections import Counter\n",
    "from collections import defaultdict\n",
    "from functools import partial"
   ]
  },
  {
   "cell_type": "code",
   "execution_count": 3,
   "metadata": {},
   "outputs": [],
   "source": [
    "import torch\n",
    "from torch import nn\n",
    "import torch.nn.functional as F\n",
    "from torch.utils.data import TensorDataset, Dataset, DataLoader\n",
    "import pytorch_lightning as pl\n",
    "from test_tube import Experiment\n",
    "import argparse\n",
    "import os.path"
   ]
  },
  {
   "cell_type": "markdown",
   "metadata": {},
   "source": [
    "Для проведения эксперимента используются pytorch-lightning и test_tube. <br>\n",
    "Опишем параметры эксперимента. Можно изменять их значения перед дальнейшим исполнением. Также они сохранены в директории experiment_dir/experiment_name/версия-эксперимента (test_tube делает ее автоинкремент основываясь на содержимом директории) в файле meta_tags.csv. <br>\n",
    "Файл metrics.csv хранит логи метрик (каждый 100 итераций при обучении, также логируются результаты валидации).\n",
    "\n",
    "Суть эксперимента:\n",
    "Мы будем производить fine-tuning претренированной модели BERT (bert-base-cased) под текущую задачу. Поскольку токенизация у этой модели может расцепить оригинальные токены, в этом случае предсказание для первого субтокена из разбиения считается предсказанием для всего оригинального токена. Также для последующих субтокенов не считается loss."
   ]
  },
  {
   "cell_type": "code",
   "execution_count": 4,
   "metadata": {},
   "outputs": [],
   "source": [
    "experiment_config = argparse.Namespace()\n",
    "experiment_config.basic_model = 'BERT'\n",
    "\n",
    "experiment_config.replace_urls = True\n",
    "experiment_config.replace_numbers = False \n",
    "experiment_config.split_hashtags = False # оставить False, не реализовано, BertTokenizer сам это сделает\n",
    "experiment_config.split_nicknames = False # оставить False, не реализовано,  BertTokenizer сам это сделает\n",
    "\n",
    "experiment_config.val_batch_size = 24\n",
    "experiment_config.train_batch_size = 16\n",
    "experiment_config.lr = 5e-5\n",
    "experiment_config.gradient_acccumulation_steps = 2\n",
    "experiment_config.gradient_clipping_norm = 5.0\n",
    "experiment_config.n_epochs = 4\n",
    "experiment_config.mask_additional_wordpieces = True # оставить True, не реализовано\n",
    "\n",
    "experiment_dir = 'NER_experiments/'\n",
    "experiment_config.experiment_name = 'BERT_finetune_mask'"
   ]
  },
  {
   "cell_type": "markdown",
   "metadata": {},
   "source": [
    "Прочтём файлы и подсчитаем число тегов."
   ]
  },
  {
   "cell_type": "code",
   "execution_count": 5,
   "metadata": {},
   "outputs": [],
   "source": [
    "original_inputs, original_targets = read_data('data/data.txt')"
   ]
  },
  {
   "cell_type": "code",
   "execution_count": 6,
   "metadata": {},
   "outputs": [],
   "source": [
    "unique_tags = count_tags(original_targets)\n",
    "experiment_config.n_classes = len(unique_tags)"
   ]
  },
  {
   "cell_type": "code",
   "execution_count": 7,
   "metadata": {},
   "outputs": [
    {
     "name": "stdout",
     "output_type": "stream",
     "text": [
      "21\n"
     ]
    }
   ],
   "source": [
    "print(experiment_config.n_classes)"
   ]
  },
  {
   "cell_type": "markdown",
   "metadata": {},
   "source": [
    "Препроцессинг токенов при помощи wordpiece токенайзера. Он применяется к каждому оригинальному токену по отдельности. Предполагается, что расщеплений хэштегов и имен не было. В случае если появились спец-токены (&lt;NUM&gt;, &lt;URL&gt;), не будем применять к ним токенайзер, но назначим им свободные слоты в словаре BERT ([unused1], [unused2]), это отображение описывается в словаре bert_specials. \n",
    "\n",
    "Функция также возвращает для каждого текста булеву маску, где True значения соответствуют местам, в которых подсчитываются предсказания для оригинальных токенов, как описано выше."
   ]
  },
  {
   "cell_type": "code",
   "execution_count": 8,
   "metadata": {},
   "outputs": [],
   "source": [
    "def bert_preprocessing(inputs, targets, bert_tokenizer, bert_specials=None):\n",
    "    new_inputs = []\n",
    "    new_targets = []\n",
    "    masks = []\n",
    "#     bert_tokenizer = pytorch_transformers.BertTokenizer.from_pretrained('bert-base-uncased')\n",
    "    for text, tags in tqdm_notebook(zip(inputs, targets), total=len(inputs)):\n",
    "        new_tokens, new_tags = [],[]\n",
    "        mask = []\n",
    "        for token, tag in zip(text, tags):\n",
    "            if bert_specials and token in bert_specials:\n",
    "                token_pieces = [bert_specials[token]]\n",
    "            else:\n",
    "                token_pieces = bert_tokenizer.tokenize(token)\n",
    "            new_tokens.extend(token_pieces)\n",
    "            new_tags.extend(split_tag(tag, len(token_pieces)))\n",
    "            if experiment_config.mask_additional_wordpieces:\n",
    "                mask.extend([True] + [False] * (len(token_pieces) - 1))\n",
    "            else:\n",
    "                mask.extend([True] * len(token_pieces))\n",
    "        new_inputs.append(new_tokens)\n",
    "        new_targets.append(new_tags)\n",
    "        masks.append(mask)\n",
    "    return new_inputs, new_targets, masks"
   ]
  },
  {
   "cell_type": "markdown",
   "metadata": {},
   "source": [
    "Трансформация токенов, тегов и маски для модели Bert в индексы в словарях. Текст дополняется токенами [CLS] и [MASK], соответственно дополняются теги и маска."
   ]
  },
  {
   "cell_type": "code",
   "execution_count": 9,
   "metadata": {},
   "outputs": [],
   "source": [
    "def bert_numericalize_targets(targets, target_vocab):\n",
    "    target_ids = target_vocab.numericalize(targets)\n",
    "    return [[0] + ids + [0] for ids in target_ids]\n",
    "\n",
    "def bert_numericalize_mask(masks):\n",
    "    return [[False] + mask + [False] for mask in masks]\n",
    "\n",
    "def bert_numericalize_inputs(inputs, bert_tokenizer):\n",
    "    result = []\n",
    "    for input_tokens in inputs:\n",
    "        ids = [bert_tokenizer._convert_token_to_id(tok) for tok in input_tokens]\n",
    "        ids = bert_tokenizer.add_special_tokens_single_sentence(ids)\n",
    "        result.append(ids)\n",
    "    return result"
   ]
  },
  {
   "cell_type": "markdown",
   "metadata": {},
   "source": [
    "Объединим эти функции."
   ]
  },
  {
   "cell_type": "code",
   "execution_count": 10,
   "metadata": {},
   "outputs": [],
   "source": [
    "def bert_numericalize(inputs, targets, masks, bert_tokenizer, target_vocab):\n",
    "    input_ids = bert_numericalize_inputs(inputs, bert_tokenizer)\n",
    "    target_ids = bert_numericalize_targets(targets, target_vocab)\n",
    "    mask_ids = bert_numericalize_mask(masks)\n",
    "    return input_ids, target_ids, mask_ids"
   ]
  },
  {
   "cell_type": "markdown",
   "metadata": {},
   "source": [
    "Теперь зададим Dataset и функцию создания мини-батча из тензоров.\n",
    "<b>Забыл унаследоваться от torch.utils.data.Dataset</b>"
   ]
  },
  {
   "cell_type": "code",
   "execution_count": 11,
   "metadata": {},
   "outputs": [],
   "source": [
    "class BertDataset:\n",
    "    def __init__(self, input_ids, target_ids, mask_ids):\n",
    "        self.inputs = input_ids\n",
    "        self.targets = target_ids\n",
    "        self.masks = mask_ids\n",
    "        assert len(input_ids) == len(target_ids) == len(self.masks)\n",
    "        \n",
    "    def __len__(self):\n",
    "        return len(self.inputs)\n",
    "    \n",
    "    def __getitem__(self, idx):\n",
    "        return (self.inputs[idx], self.targets[idx], self.masks[idx])\n",
    "    \n",
    "    @staticmethod\n",
    "    def collate(examples):\n",
    "        inputs, targets, masks = [],[],[]\n",
    "        for inp, tgt, msk in examples:\n",
    "            inputs.append(torch.tensor(inp, dtype=torch.long))\n",
    "            targets.append(torch.tensor(tgt, dtype=torch.long))\n",
    "            masks.append(torch.tensor(msk, dtype=torch.bool))\n",
    "            \n",
    "        input_tensor = torch.nn.utils.rnn.pad_sequence(inputs, batch_first=True)\n",
    "        target_tensor = torch.nn.utils.rnn.pad_sequence(targets, batch_first=True)\n",
    "        mask_tensor = torch.nn.utils.rnn.pad_sequence(masks, batch_first=True)\n",
    "#         print(input_tensor.size(), target_tensor.size(), mask_tensor.size())\n",
    "        return input_tensor, target_tensor, mask_tensor"
   ]
  },
  {
   "cell_type": "code",
   "execution_count": 12,
   "metadata": {},
   "outputs": [
    {
     "name": "stderr",
     "output_type": "stream",
     "text": [
      "The pre-trained model you are loading is a cased model but you have not set `do_lower_case` to False. We are setting `do_lower_case=False` for you but you may want to check this behavior.\n"
     ]
    }
   ],
   "source": [
    "bert_tokenizer = pytorch_transformers.BertTokenizer.from_pretrained('bert-base-cased')"
   ]
  },
  {
   "cell_type": "code",
   "execution_count": 13,
   "metadata": {},
   "outputs": [],
   "source": [
    "bert_specials = {'<URL>': '[unused1]', '<NUM>': '[unused2]'}"
   ]
  },
  {
   "cell_type": "markdown",
   "metadata": {},
   "source": [
    "Назначим "
   ]
  },
  {
   "cell_type": "code",
   "execution_count": 14,
   "metadata": {},
   "outputs": [],
   "source": [
    "target_vocab = Vocab.from_id2word(unique_tags, unk_index=None, n_specials=0)"
   ]
  },
  {
   "cell_type": "code",
   "execution_count": 15,
   "metadata": {},
   "outputs": [],
   "source": [
    "inputs, targets, _ = basic_preprocessing(original_inputs, original_targets,\n",
    "                                      replace_urls=experiment_config.replace_urls,\n",
    "                                      replace_numbers=experiment_config.replace_numbers,\n",
    "                                      split_hashtags=experiment_config.split_hashtags,\n",
    "                                      split_mentions=experiment_config.split_nicknames)"
   ]
  },
  {
   "cell_type": "code",
   "execution_count": 16,
   "metadata": {},
   "outputs": [
    {
     "data": {
      "application/vnd.jupyter.widget-view+json": {
       "model_id": "818f14e4501c4cbcafe32a7fae1677bb",
       "version_major": 2,
       "version_minor": 0
      },
      "text/plain": [
       "HBox(children=(IntProgress(value=0, max=7243), HTML(value='')))"
      ]
     },
     "metadata": {},
     "output_type": "display_data"
    },
    {
     "name": "stdout",
     "output_type": "stream",
     "text": [
      "\n"
     ]
    }
   ],
   "source": [
    "bert_tokenized_inputs, bert_tokenized_targets, bert_masks = bert_preprocessing(inputs, targets, bert_tokenizer, bert_specials)"
   ]
  },
  {
   "cell_type": "markdown",
   "metadata": {},
   "source": [
    "<b>Прокомментировать</b>"
   ]
  },
  {
   "cell_type": "code",
   "execution_count": 17,
   "metadata": {},
   "outputs": [
    {
     "name": "stdout",
     "output_type": "stream",
     "text": [
      "['Man', 'i', 'hate', 'when', 'people', 'carry', 'ragedy', 'luggage', '..', 'ima', 'just', 'rip', 'it', 'up', 'more', 'with', 'the', 'belt', 'loader', '#itaintmines']\n"
     ]
    }
   ],
   "source": [
    "print(original_inputs[0])"
   ]
  },
  {
   "cell_type": "code",
   "execution_count": 18,
   "metadata": {},
   "outputs": [
    {
     "name": "stdout",
     "output_type": "stream",
     "text": [
      "['Man', 'i', 'hate', 'when', 'people', 'carry', 'rage', '##dy', 'luggage', '.', '.', 'im', '##a', 'just', 'rip', 'it', 'up', 'more', 'with', 'the', 'belt', 'load', '##er', '#', 'it', '##ain', '##t', '##mine', '##s']\n"
     ]
    }
   ],
   "source": [
    "print(bert_tokenized_inputs[0])"
   ]
  },
  {
   "cell_type": "code",
   "execution_count": 19,
   "metadata": {},
   "outputs": [
    {
     "name": "stdout",
     "output_type": "stream",
     "text": [
      "['O', 'O', 'O', 'O', 'O', 'O', 'O', 'O', 'O', 'O', 'O', 'O', 'O', 'O', 'O', 'O', 'O', 'O', 'O', 'O', 'O', 'O', 'O', 'O', 'O', 'O', 'O', 'O', 'O']\n"
     ]
    }
   ],
   "source": [
    "print(bert_tokenized_targets[0])"
   ]
  },
  {
   "cell_type": "code",
   "execution_count": 20,
   "metadata": {},
   "outputs": [
    {
     "name": "stdout",
     "output_type": "stream",
     "text": [
      "[True, True, True, True, True, True, True, False, True, True, False, True, False, True, True, True, True, True, True, True, True, True, False, True, False, False, False, False, False]\n"
     ]
    }
   ],
   "source": [
    "print(bert_masks[0])"
   ]
  },
  {
   "cell_type": "code",
   "execution_count": 21,
   "metadata": {},
   "outputs": [],
   "source": [
    "split_names = ['train', 'val', 'test']"
   ]
  },
  {
   "cell_type": "code",
   "execution_count": 22,
   "metadata": {},
   "outputs": [],
   "source": [
    "original_inputs_split, original_targets_split = split_to_dicts([original_inputs, original_targets],\n",
    "                                                                 (train_indices, val_indices, test_indices), \n",
    "                                                                 split_names)"
   ]
  },
  {
   "cell_type": "code",
   "execution_count": 23,
   "metadata": {},
   "outputs": [],
   "source": [
    "bert_inputs_split, bert_targets_split, bert_masks_split = split_to_dicts([bert_tokenized_inputs, bert_tokenized_targets, bert_masks],\n",
    "                                                                 (train_indices, val_indices, test_indices), \n",
    "                                                                 split_names)"
   ]
  },
  {
   "cell_type": "code",
   "execution_count": 24,
   "metadata": {},
   "outputs": [],
   "source": [
    "bert_numericalized_inputs, bert_numericalized_targets, bert_numericalized_masks = bert_numericalize(bert_tokenized_inputs, \n",
    "                                                                                                    bert_tokenized_targets,\n",
    "                                                                                                    bert_masks, bert_tokenizer, target_vocab)"
   ]
  },
  {
   "cell_type": "code",
   "execution_count": 25,
   "metadata": {},
   "outputs": [
    {
     "name": "stdout",
     "output_type": "stream",
     "text": [
      "[False, True, True, True, True, True, True, True, False, True, True, False, True, False, True, True, True, True, True, True, True, True, True, False, True, False, False, False, False, False, False]\n"
     ]
    }
   ],
   "source": [
    "print(bert_numericalized_masks[0])"
   ]
  },
  {
   "cell_type": "code",
   "execution_count": 26,
   "metadata": {},
   "outputs": [],
   "source": [
    "bert_input_ids_spl, bert_target_ids_spl, bert_mask_ids_spl = split_to_dicts([bert_numericalized_inputs, bert_numericalized_targets, bert_numericalized_masks],\n",
    "                                                                            (train_indices, val_indices, test_indices), split_names)"
   ]
  },
  {
   "cell_type": "code",
   "execution_count": 27,
   "metadata": {},
   "outputs": [],
   "source": [
    "train_dataset = BertDataset(*[spl['train'] for spl in (bert_input_ids_spl, bert_target_ids_spl, bert_mask_ids_spl)])"
   ]
  },
  {
   "cell_type": "code",
   "execution_count": 28,
   "metadata": {},
   "outputs": [],
   "source": [
    "val_dataset = BertDataset(*[spl['val'] for spl in (bert_input_ids_spl, bert_target_ids_spl, bert_mask_ids_spl)])"
   ]
  },
  {
   "cell_type": "code",
   "execution_count": 29,
   "metadata": {},
   "outputs": [],
   "source": [
    "test_dataset = BertDataset(*[spl['test'] for spl in (bert_input_ids_spl, bert_target_ids_spl, bert_mask_ids_spl)])"
   ]
  },
  {
   "cell_type": "markdown",
   "metadata": {},
   "source": [
    "<b>Теперь можно построить модель"
   ]
  },
  {
   "cell_type": "code",
   "execution_count": 30,
   "metadata": {},
   "outputs": [],
   "source": [
    "def masked_crossentropy_loss(logits, targets, masked):\n",
    "    loss_values = F.cross_entropy(logits.view(-1, logits.size(-1)), targets.view(-1), reduction='none')\n",
    "    loss_values[masked.view(-1)] = 0\n",
    "    return loss_values.mean()"
   ]
  },
  {
   "cell_type": "code",
   "execution_count": 31,
   "metadata": {},
   "outputs": [],
   "source": [
    "class BERTForNER(nn.Module):\n",
    "    def __init__(self, exp_config):\n",
    "        super().__init__()\n",
    "        self.model = pytorch_transformers.BertForTokenClassification.from_pretrained('bert-base-cased', \n",
    "                                                                                     num_labels=exp_config.n_classes)   \n",
    "    def forward(self, inputs):\n",
    "        attention_mask = (inputs != 0).type(torch.float32)\n",
    "        return self.model(inputs, attention_mask=attention_mask)[0]"
   ]
  },
  {
   "cell_type": "code",
   "execution_count": 32,
   "metadata": {},
   "outputs": [],
   "source": [
    "def bert_compute_lengths_by_padding(inputs):\n",
    "    return ((inputs != 0).sum(dim=-1) - 2).tolist()\n",
    "\n",
    "def bert_predict_tags_with_mask(model, inputs, tag_mask, target_vocab):\n",
    "    model.eval()\n",
    "    result = []\n",
    "    with torch.no_grad():\n",
    "        logits = model(inputs)\n",
    "        seqs = logits.argmax(dim=-1)\n",
    "        for i,pred in enumerate(seqs):\n",
    "            pred = pred[tag_mask[i]].tolist()\n",
    "            result.append(target_vocab.transform_ids(pred))\n",
    "    return result\n",
    "\n",
    "def bert_predict_tags_for_loader(model, loader, target_vocab, use_mask=True, device='cuda'):        \n",
    "    result = []\n",
    "    for batch in loader:\n",
    "        if use_mask:\n",
    "            inputs,_,mask = [x.to(device) for x in batch]\n",
    "            result.extend(bert_predict_tags_with_mask(model, inputs, mask, target_vocab))\n",
    "        else:\n",
    "            raise ValueError(\"Not implemented yet\")\n",
    "    return result"
   ]
  },
  {
   "cell_type": "code",
   "execution_count": 33,
   "metadata": {},
   "outputs": [],
   "source": [
    "class LightningBERTMasking(pl.LightningModule):\n",
    "    def __init__(self, config):\n",
    "        super().__init__()\n",
    "        self.model = BERTForNER(config)\n",
    "        self.config = config\n",
    "        self.lr = config.lr\n",
    "        self.train_batch_size = config.train_batch_size\n",
    "        self.val_batch_size = config.val_batch_size\n",
    "\n",
    "    def forward(self, inputs):\n",
    "        return self.model(inputs)\n",
    "    \n",
    "    def compute_loss_on_batch(self, batch):\n",
    "        inputs, targets, mask = batch\n",
    "        logits = self(inputs)\n",
    "        \n",
    "        loss_mask = ~mask\n",
    "        loss = masked_crossentropy_loss(logits, targets, loss_mask)\n",
    "        return loss\n",
    "    \n",
    "    def training_step(self, batch, batch_nb):\n",
    "        # REQUIRED\n",
    "        loss = self.compute_loss_on_batch(batch)\n",
    "        return {'loss': loss}\n",
    "\n",
    "    def validation_step(self, batch, batch_nb):\n",
    "        # OPTIONAL\n",
    "        loss = self.compute_loss_on_batch(batch)\n",
    "        inputs, targets, mask = batch\n",
    "        predicted_tags = bert_predict_tags_with_mask(self, inputs, mask, target_vocab)\n",
    "        \n",
    "        return {'val_loss': loss, 'tags': predicted_tags}\n",
    "\n",
    "    def validation_end(self, outputs):\n",
    "        # OPTIONAL\n",
    "        avg_loss = torch.tensor([x['val_loss'] for x in outputs]).mean()\n",
    "        predictions = list(chain.from_iterable(x['tags'] for x in outputs))\n",
    "        f1_score = seqeval.metrics.f1_score(original_targets_split['val'], predictions)\n",
    "        \n",
    "        print(seqeval.metrics.classification_report(original_targets_split['val'], predictions))\n",
    "        metrics = {'avg_val_loss': avg_loss.item(), 'f1': f1_score}\n",
    "        metrics_to_write = dict(metrics, epoch=self.trainer.current_epoch+1)\n",
    "#         metrics.update(self.trainer.tng_tqdm_dic)\n",
    "        \n",
    "#         scalar_metrics = self.trainer.__metrics_to_scalars(\n",
    "#                     metrics, blacklist=self.trainer.__log_vals_blacklist())\n",
    "        \n",
    "        assert self.experiment\n",
    "        self.experiment.log(metrics_to_write)\n",
    "        self.experiment.save()\n",
    "        \n",
    "        return metrics\n",
    "\n",
    "    def configure_optimizers(self):\n",
    "        # REQUIRED\n",
    "        # can return multiple optimizers and learning_rate schedulers\n",
    "        return torch.optim.Adam(self.parameters(), lr=self.lr)\n",
    "\n",
    "    @pl.data_loader\n",
    "    def tng_dataloader(self):\n",
    "        # REQUIRED\n",
    "        assert isinstance(train_dataset, BertDataset)\n",
    "        return DataLoader(train_dataset, batch_size=self.train_batch_size, shuffle=True, collate_fn=BertDataset.collate)\n",
    "\n",
    "    @pl.data_loader\n",
    "    def val_dataloader(self):\n",
    "        # OPTIONAL\n",
    "        assert isinstance(val_dataset, BertDataset)\n",
    "        return DataLoader(val_dataset, batch_size=self.val_batch_size, shuffle=False, collate_fn=BertDataset.collate)"
   ]
  },
  {
   "cell_type": "code",
   "execution_count": 34,
   "metadata": {},
   "outputs": [
    {
     "name": "stdout",
     "output_type": "stream",
     "text": [
      "[['I-facility', 'I-facility', 'I-company', 'I-person', 'I-facility', 'B-other', 'I-company', 'I-facility', 'I-company', 'I-person', 'B-geo-loc', 'B-other', 'B-other', 'B-other', 'B-other'], ['I-other', 'B-product', 'I-facility', 'B-product', 'I-person', 'I-person', 'B-product', 'I-facility', 'B-product'], ['B-musicartist', 'I-geo-loc', 'I-facility', 'I-facility', 'B-geo-loc', 'I-facility', 'I-company', 'I-facility', 'I-facility', 'I-facility', 'I-facility', 'B-geo-loc', 'I-facility', 'I-facility', 'I-facility', 'I-facility', 'I-facility', 'B-product', 'I-movie', 'B-product', 'B-other', 'B-product'], ['B-musicartist', 'B-other', 'I-person', 'I-facility', 'B-product', 'B-product', 'I-facility', 'I-facility', 'I-facility', 'I-product', 'B-geo-loc', 'I-facility', 'I-facility', 'I-facility', 'B-product', 'I-facility', 'I-facility', 'I-facility', 'I-person']]\n"
     ]
    }
   ],
   "source": [
    "def test_bert_predict():\n",
    "    bert = BERTForNER(experiment_config)\n",
    "    dl = DataLoader(train_dataset, batch_size=4, collate_fn=BertDataset.collate)\n",
    "    for batch in dl:\n",
    "#         print(batch)\n",
    "        res = bert_predict_tags_with_mask(bert, batch[0], batch[2], target_vocab)\n",
    "        print(res)\n",
    "        break\n",
    "\n",
    "test_bert_predict()"
   ]
  },
  {
   "cell_type": "markdown",
   "metadata": {},
   "source": [
    "## Запуск эксперимента\n"
   ]
  },
  {
   "cell_type": "code",
   "execution_count": 35,
   "metadata": {},
   "outputs": [],
   "source": [
    "# import gc\n",
    "# del pl_bert\n",
    "# gc.collect()\n",
    "# torch.cuda.empty_cache()"
   ]
  },
  {
   "cell_type": "code",
   "execution_count": 36,
   "metadata": {},
   "outputs": [
    {
     "name": "stdout",
     "output_type": "stream",
     "text": [
      "Sun Sep  1 15:03:03 2019       \n",
      "+-----------------------------------------------------------------------------+\n",
      "| NVIDIA-SMI 418.67       Driver Version: 418.67       CUDA Version: 10.1     |\n",
      "|-------------------------------+----------------------+----------------------+\n",
      "| GPU  Name        Persistence-M| Bus-Id        Disp.A | Volatile Uncorr. ECC |\n",
      "| Fan  Temp  Perf  Pwr:Usage/Cap|         Memory-Usage | GPU-Util  Compute M. |\n",
      "|===============================+======================+======================|\n",
      "|   0  GeForce GTX 108...  Off  | 00000000:08:00.0 Off |                  N/A |\n",
      "| 52%   65C    P0    68W / 250W |     10MiB / 11178MiB |      0%      Default |\n",
      "+-------------------------------+----------------------+----------------------+\n",
      "                                                                               \n",
      "+-----------------------------------------------------------------------------+\n",
      "| Processes:                                                       GPU Memory |\n",
      "|  GPU       PID   Type   Process name                             Usage      |\n",
      "|=============================================================================|\n",
      "|  No running processes found                                                 |\n",
      "+-----------------------------------------------------------------------------+\n"
     ]
    }
   ],
   "source": [
    "!nvidia-smi"
   ]
  },
  {
   "cell_type": "code",
   "execution_count": 37,
   "metadata": {},
   "outputs": [],
   "source": [
    "exp = Experiment(save_dir=experiment_dir, name=experiment_config.experiment_name)"
   ]
  },
  {
   "cell_type": "code",
   "execution_count": 38,
   "metadata": {},
   "outputs": [
    {
     "name": "stdout",
     "output_type": "stream",
     "text": [
      "4\n"
     ]
    }
   ],
   "source": [
    "print(exp.version)"
   ]
  },
  {
   "cell_type": "code",
   "execution_count": 39,
   "metadata": {},
   "outputs": [],
   "source": [
    "exp.argparse(experiment_config)\n",
    "exp.save()"
   ]
  },
  {
   "cell_type": "code",
   "execution_count": 40,
   "metadata": {},
   "outputs": [],
   "source": [
    "checkpoint_callback = pl.callbacks.ModelCheckpoint(\n",
    "    filepath= f'{experiment_dir}/{experiment_config.experiment_name}/version_{exp.version}/checkpoint',\n",
    "    save_best_only=True,\n",
    "    verbose=True,\n",
    "    monitor='f1',\n",
    "    mode='max'\n",
    ")\n",
    "\n",
    "early_stop = pl.callbacks.EarlyStopping(\n",
    "        monitor='f1',\n",
    "        patience=5,\n",
    "        verbose=True,\n",
    "        mode='max'\n",
    ")"
   ]
  },
  {
   "cell_type": "code",
   "execution_count": 41,
   "metadata": {},
   "outputs": [],
   "source": [
    "pl_bert = LightningBERTMasking(experiment_config)"
   ]
  },
  {
   "cell_type": "code",
   "execution_count": 42,
   "metadata": {},
   "outputs": [
    {
     "name": "stdout",
     "output_type": "stream",
     "text": [
      "325\n"
     ]
    }
   ],
   "source": [
    "print(len(pl_bert.tng_dataloader))"
   ]
  },
  {
   "cell_type": "code",
   "execution_count": 43,
   "metadata": {},
   "outputs": [
    {
     "name": "stdout",
     "output_type": "stream",
     "text": [
      "36\n"
     ]
    }
   ],
   "source": [
    "print(len(pl_bert.val_dataloader))"
   ]
  },
  {
   "cell_type": "code",
   "execution_count": 44,
   "metadata": {},
   "outputs": [
    {
     "name": "stdout",
     "output_type": "stream",
     "text": [
      "VISIBLE GPUS: '0'\n",
      "gpu available: True, used: True\n"
     ]
    }
   ],
   "source": [
    "trainer = pl.Trainer(experiment=exp,\n",
    "                     max_nb_epochs=experiment_config.n_epochs,\n",
    "                     gpus=[0],\n",
    "                     gradient_clip=experiment_config.gradient_clipping_norm,\n",
    "                     early_stop_callback=early_stop,\n",
    "                     accumulate_grad_batches=experiment_config.gradient_acccumulation_steps,\n",
    "                     add_log_row_interval=100,\n",
    "                     checkpoint_callback=checkpoint_callback)"
   ]
  },
  {
   "cell_type": "code",
   "execution_count": null,
   "metadata": {},
   "outputs": [
    {
     "name": "stderr",
     "output_type": "stream",
     "text": [
      "  0%|          | 0/5 [00:00<?, ?it/s]"
     ]
    },
    {
     "name": "stdout",
     "output_type": "stream",
     "text": [
      "                                            Name                        Type  \\\n",
      "0                                          model                  BERTForNER   \n",
      "1                                    model.model  BertForTokenClassification   \n",
      "2                               model.model.bert                   BertModel   \n",
      "3                    model.model.bert.embeddings              BertEmbeddings   \n",
      "4    model.model.bert.embeddings.word_embeddings                   Embedding   \n",
      "..                                           ...                         ...   \n",
      "215                      model.model.bert.pooler                  BertPooler   \n",
      "216                model.model.bert.pooler.dense                      Linear   \n",
      "217           model.model.bert.pooler.activation                        Tanh   \n",
      "218                          model.model.dropout                     Dropout   \n",
      "219                       model.model.classifier                      Linear   \n",
      "\n",
      "        Params  \n",
      "0    108326421  \n",
      "1    108326421  \n",
      "2    108310272  \n",
      "3     22665216  \n",
      "4     22268928  \n",
      "..         ...  \n",
      "215     590592  \n",
      "216     590592  \n",
      "217          0  \n",
      "218          0  \n",
      "219      16149  \n",
      "\n",
      "[220 rows x 3 columns]\n"
     ]
    },
    {
     "name": "stderr",
     "output_type": "stream",
     "text": [
      "  0%|          | 0/361 [00:00<01:29,  4.04it/s]"
     ]
    },
    {
     "name": "stdout",
     "output_type": "stream",
     "text": [
      "             precision    recall  f1-score   support\n",
      "\n",
      "        loc       0.01      0.01      0.01       156\n",
      "    product       0.00      0.00      0.00        38\n",
      "    company       0.00      0.00      0.00        84\n",
      "     person       0.00      0.00      0.00       131\n",
      "      other       0.02      0.02      0.02       110\n",
      "musicartist       0.00      0.00      0.00        33\n",
      "   facility       0.00      0.00      0.00        58\n",
      "     tvshow       0.00      0.00      0.00        11\n",
      " sportsteam       0.00      0.00      0.00        21\n",
      "      movie       0.00      0.00      0.00        17\n",
      "\n",
      "  micro avg       0.00      0.01      0.00       659\n",
      "  macro avg       0.01      0.01      0.01       659\n",
      "\n"
     ]
    },
    {
     "name": "stderr",
     "output_type": "stream",
     "text": [
      "100%|██████████| 361/361 [00:47<00:00, 11.48it/s, avg_val_loss=0.0698, batch_nb=324, epoch=0, f1=0.367, gpu=0, loss=0.091, v_nb=4]"
     ]
    },
    {
     "name": "stdout",
     "output_type": "stream",
     "text": [
      "             precision    recall  f1-score   support\n",
      "\n",
      "        loc       0.35      0.68      0.46       156\n",
      "    product       0.00      0.00      0.00        38\n",
      "    company       0.44      0.48      0.46        84\n",
      "     person       0.59      0.73      0.65       131\n",
      "      other       0.07      0.06      0.07       110\n",
      "musicartist       0.00      0.00      0.00        33\n",
      "   facility       0.03      0.02      0.02        58\n",
      "     tvshow       0.00      0.00      0.00        11\n",
      " sportsteam       0.24      0.19      0.21        21\n",
      "      movie       0.00      0.00      0.00        17\n",
      "\n",
      "  micro avg       0.35      0.38      0.37       659\n",
      "  macro avg       0.28      0.38      0.32       659\n",
      "\n",
      "save callback...\n",
      "\n",
      "Epoch 00001: f1 improved from -inf to 0.36720, saving model to NER_experiments//BERT_finetune_mask/version_4/checkpoint/_ckpt_epoch_1.ckpt\n"
     ]
    },
    {
     "name": "stderr",
     "output_type": "stream",
     "text": [
      "100%|██████████| 361/361 [00:47<00:00, 11.58it/s, avg_val_loss=0.0523, batch_nb=324, epoch=1, f1=0.59, gpu=0, loss=0.052, v_nb=4] "
     ]
    },
    {
     "name": "stdout",
     "output_type": "stream",
     "text": [
      "             precision    recall  f1-score   support\n",
      "\n",
      "        loc       0.70      0.73      0.72       156\n",
      "    product       0.22      0.32      0.26        38\n",
      "    company       0.59      0.69      0.64        84\n",
      "     person       0.66      0.80      0.72       131\n",
      "      other       0.44      0.49      0.47       110\n",
      "musicartist       0.50      0.36      0.42        33\n",
      "   facility       0.48      0.66      0.55        58\n",
      "     tvshow       0.00      0.00      0.00        11\n",
      " sportsteam       0.60      0.71      0.65        21\n",
      "      movie       0.00      0.00      0.00        17\n",
      "\n",
      "  micro avg       0.56      0.62      0.59       659\n",
      "  macro avg       0.55      0.62      0.58       659\n",
      "\n",
      "save callback...\n",
      "\n",
      "Epoch 00002: f1 improved from 0.36720 to 0.59045, saving model to NER_experiments//BERT_finetune_mask/version_4/checkpoint/_ckpt_epoch_2.ckpt\n"
     ]
    },
    {
     "name": "stderr",
     "output_type": "stream",
     "text": [
      "100%|██████████| 361/361 [00:47<00:00, 10.92it/s, avg_val_loss=0.0501, batch_nb=324, epoch=2, f1=0.603, gpu=0, loss=0.031, v_nb=4]"
     ]
    },
    {
     "name": "stdout",
     "output_type": "stream",
     "text": [
      "             precision    recall  f1-score   support\n",
      "\n",
      "        loc       0.71      0.74      0.73       156\n",
      "    product       0.16      0.32      0.21        38\n",
      "    company       0.73      0.63      0.68        84\n",
      "     person       0.87      0.68      0.76       131\n",
      "      other       0.48      0.52      0.50       110\n",
      "musicartist       0.55      0.52      0.53        33\n",
      "   facility       0.55      0.72      0.63        58\n",
      "     tvshow       0.00      0.00      0.00        11\n",
      " sportsteam       0.58      0.71      0.64        21\n",
      "      movie       0.23      0.35      0.28        17\n",
      "\n",
      "  micro avg       0.59      0.62      0.60       659\n",
      "  macro avg       0.62      0.62      0.61       659\n",
      "\n",
      "save callback...\n",
      "\n",
      "Epoch 00003: f1 improved from 0.59045 to 0.60296, saving model to NER_experiments//BERT_finetune_mask/version_4/checkpoint/_ckpt_epoch_3.ckpt\n"
     ]
    },
    {
     "name": "stderr",
     "output_type": "stream",
     "text": [
      " 48%|████▊     | 173/361 [00:22<00:23,  7.84it/s, avg_val_loss=0.0501, batch_nb=171, epoch=3, f1=0.603, gpu=0, loss=0.019, v_nb=4]"
     ]
    }
   ],
   "source": [
    "trainer.fit(pl_bert)"
   ]
  },
  {
   "cell_type": "markdown",
   "metadata": {},
   "source": [
    "### Inference"
   ]
  },
  {
   "cell_type": "code",
   "execution_count": null,
   "metadata": {},
   "outputs": [],
   "source": [
    "test_predictions = bert_predict_tags_for_loader(pl_bert, DataLoader(test_dataset, collate_fn=BertDataset.collate, batch_size=24), target_vocab)"
   ]
  },
  {
   "cell_type": "code",
   "execution_count": null,
   "metadata": {},
   "outputs": [],
   "source": [
    "print(test_predictions[2], original_targets_split['test'][2])"
   ]
  },
  {
   "cell_type": "code",
   "execution_count": null,
   "metadata": {},
   "outputs": [],
   "source": [
    "print(seqeval.metrics.classification_report(original_targets_split['test'][2:3], test_predictions[2:3]))"
   ]
  },
  {
   "cell_type": "code",
   "execution_count": null,
   "metadata": {},
   "outputs": [],
   "source": [
    "def bert_predict_for_tokens(model, tokens, device='cuda'):\n",
    "    fake_targets = [['O' for _ in text] for text in tokens]\n",
    "    preproc_tokens, preproc_targets, _ = basic_preprocessing(tokens, fake_targets, \n",
    "                                                             replace_urls=experiment_config.replace_urls,\n",
    "                                                              replace_numbers=experiment_config.replace_numbers,\n",
    "                                                              split_hashtags=experiment_config.split_hashtags,\n",
    "                                                              split_mentions=experiment_config.split_nicknames)\n",
    "    preproc_tokens, preproc_targets, preproc_mask = bert_preprocessing(preproc_tokens, preproc_targets, bert_tokenizer, bert_specials)\n",
    "    input_ids, target_ids, mask_ids = bert_numericalize(preproc_tokens, preproc_targets, preproc_mask, bert_tokenizer, target_vocab)\n",
    "    model.eval()\n",
    "    batch = BertDataset.collate(zip(input_ids, target_ids, mask_ids))\n",
    "    inputs,_,mask = batch\n",
    "    with torch.no_grad():\n",
    "        result = bert_predict_tags_with_mask(model, inputs.to(device), mask.to(device), target_vocab)\n",
    "    return result\n"
   ]
  },
  {
   "cell_type": "code",
   "execution_count": null,
   "metadata": {},
   "outputs": [],
   "source": [
    "!pip3 install nltk"
   ]
  },
  {
   "cell_type": "code",
   "execution_count": null,
   "metadata": {},
   "outputs": [],
   "source": [
    "text_example = \"Satellite imagery this morning of now Category 5 Hurricane Dorian approaching the Abaco Islands in the northern Bahamas. For the latest on Dorian visit http://hurricanes.gov\""
   ]
  },
  {
   "cell_type": "code",
   "execution_count": null,
   "metadata": {},
   "outputs": [],
   "source": [
    "import nltk"
   ]
  },
  {
   "cell_type": "code",
   "execution_count": null,
   "metadata": {},
   "outputs": [],
   "source": [
    "print(text_example)"
   ]
  },
  {
   "cell_type": "code",
   "execution_count": null,
   "metadata": {},
   "outputs": [],
   "source": [
    "tokens_example = nltk.tokenize.TweetTokenizer().tokenize(text_example)\n",
    "print(tokens_example)"
   ]
  },
  {
   "cell_type": "code",
   "execution_count": null,
   "metadata": {},
   "outputs": [],
   "source": [
    "prediction = bert_predict_for_tokens(pl_bert, [tokens_example])[0]"
   ]
  },
  {
   "cell_type": "code",
   "execution_count": null,
   "metadata": {},
   "outputs": [],
   "source": [
    "for token, tag in zip(tokens_example, prediction):\n",
    "    print(token, tag)"
   ]
  },
  {
   "cell_type": "code",
   "execution_count": null,
   "metadata": {},
   "outputs": [],
   "source": [
    "from pytorch_lightning.root_module.model_saving import load_hparams_from_tags_csv"
   ]
  },
  {
   "cell_type": "code",
   "execution_count": null,
   "metadata": {},
   "outputs": [],
   "source": [
    "hparams = load_hparams_from_tags_csv('NER_experiments/BERT_finetune_mask/version_2/meta_tags.csv')"
   ]
  },
  {
   "cell_type": "code",
   "execution_count": null,
   "metadata": {},
   "outputs": [],
   "source": [
    "print(hparams)"
   ]
  },
  {
   "cell_type": "code",
   "execution_count": null,
   "metadata": {},
   "outputs": [],
   "source": [
    "print(experiment_config)"
   ]
  },
  {
   "cell_type": "code",
   "execution_count": null,
   "metadata": {},
   "outputs": [],
   "source": []
  }
 ],
 "metadata": {
  "kernelspec": {
   "display_name": "Python 3",
   "language": "python",
   "name": "python3"
  },
  "language_info": {
   "codemirror_mode": {
    "name": "ipython",
    "version": 3
   },
   "file_extension": ".py",
   "mimetype": "text/x-python",
   "name": "python",
   "nbconvert_exporter": "python",
   "pygments_lexer": "ipython3",
   "version": "3.7.1"
  }
 },
 "nbformat": 4,
 "nbformat_minor": 4
}
