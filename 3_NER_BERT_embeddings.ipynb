{
 "cells": [
  {
   "cell_type": "code",
   "execution_count": 1,
   "metadata": {},
   "outputs": [
    {
     "name": "stdout",
     "output_type": "stream",
     "text": [
      "Requirement already satisfied: seqeval in /opt/conda/lib/python3.6/site-packages (0.0.12)\n",
      "Requirement already satisfied: nltk in /opt/conda/lib/python3.6/site-packages (3.4.5)\n",
      "Requirement already satisfied: Keras>=2.2.4 in /opt/conda/lib/python3.6/site-packages (from seqeval) (2.2.4)\n",
      "Requirement already satisfied: numpy>=1.14.0 in /opt/conda/lib/python3.6/site-packages (from seqeval) (1.16.4)\n",
      "Requirement already satisfied: six in /opt/conda/lib/python3.6/site-packages (from nltk) (1.12.0)\n",
      "Requirement already satisfied: scipy>=0.14 in /opt/conda/lib/python3.6/site-packages (from Keras>=2.2.4->seqeval) (1.3.0)\n",
      "Requirement already satisfied: keras-preprocessing>=1.0.5 in /opt/conda/lib/python3.6/site-packages (from Keras>=2.2.4->seqeval) (1.1.0)\n",
      "Requirement already satisfied: h5py in /opt/conda/lib/python3.6/site-packages (from Keras>=2.2.4->seqeval) (2.9.0)\n",
      "Requirement already satisfied: pyyaml in /opt/conda/lib/python3.6/site-packages (from Keras>=2.2.4->seqeval) (5.1.1)\n",
      "Requirement already satisfied: keras-applications>=1.0.6 in /opt/conda/lib/python3.6/site-packages (from Keras>=2.2.4->seqeval) (1.0.8)\n",
      "\u001b[33mWARNING: You are using pip version 19.2.2, however version 19.2.3 is available.\n",
      "You should consider upgrading via the 'pip install --upgrade pip' command.\u001b[0m\n",
      "Requirement already satisfied: pytorch-lightning in /opt/conda/lib/python3.6/site-packages (0.4.8)\n",
      "Requirement already satisfied: flair in /opt/conda/lib/python3.6/site-packages (0.4.3)\n",
      "Requirement already satisfied: torch==1.2.0 in /opt/conda/lib/python3.6/site-packages (from pytorch-lightning) (1.2.0)\n",
      "Requirement already satisfied: pandas>=0.20.3 in /opt/conda/lib/python3.6/site-packages (from pytorch-lightning) (0.25.0)\n",
      "Requirement already satisfied: tqdm>=4.35.0 in /opt/conda/lib/python3.6/site-packages (from pytorch-lightning) (4.35.0)\n",
      "Requirement already satisfied: test-tube>=0.6.9 in /opt/conda/lib/python3.6/site-packages (from pytorch-lightning) (0.7.0)\n",
      "Requirement already satisfied: deprecated>=1.2.4 in /opt/conda/lib/python3.6/site-packages (from flair) (1.2.6)\n",
      "Requirement already satisfied: matplotlib>=2.2.3 in /opt/conda/lib/python3.6/site-packages (from flair) (3.1.0)\n",
      "Requirement already satisfied: gensim>=3.4.0 in /opt/conda/lib/python3.6/site-packages (from flair) (3.8.0)\n",
      "Requirement already satisfied: pytest>=3.6.4 in /opt/conda/lib/python3.6/site-packages (from flair) (5.1.2)\n",
      "Requirement already satisfied: tabulate in /opt/conda/lib/python3.6/site-packages (from flair) (0.8.3)\n",
      "Requirement already satisfied: bpemb>=0.2.9 in /opt/conda/lib/python3.6/site-packages (from flair) (0.3.0)\n",
      "Requirement already satisfied: urllib3<1.25,>=1.20 in /opt/conda/lib/python3.6/site-packages (from flair) (1.24.2)\n",
      "Requirement already satisfied: sklearn in /opt/conda/lib/python3.6/site-packages (from flair) (0.0)\n",
      "Requirement already satisfied: regex in /opt/conda/lib/python3.6/site-packages (from flair) (2018.1.10)\n",
      "Requirement already satisfied: langdetect in /opt/conda/lib/python3.6/site-packages (from flair) (1.0.7)\n",
      "Requirement already satisfied: ipython==7.6.1 in /opt/conda/lib/python3.6/site-packages (from flair) (7.6.1)\n",
      "Requirement already satisfied: sqlitedict>=1.6.0 in /opt/conda/lib/python3.6/site-packages (from flair) (1.6.0)\n",
      "Requirement already satisfied: segtok>=1.5.7 in /opt/conda/lib/python3.6/site-packages (from flair) (1.5.7)\n",
      "Requirement already satisfied: mpld3==0.3 in /opt/conda/lib/python3.6/site-packages (from flair) (0.3)\n",
      "Requirement already satisfied: hyperopt>=0.1.1 in /opt/conda/lib/python3.6/site-packages (from flair) (0.1.2)\n",
      "Requirement already satisfied: ipython-genutils==0.2.0 in /opt/conda/lib/python3.6/site-packages (from flair) (0.2.0)\n",
      "Requirement already satisfied: pytorch-transformers>=1.1.0 in /opt/conda/lib/python3.6/site-packages (from flair) (1.1.0)\n",
      "Requirement already satisfied: numpy in /opt/conda/lib/python3.6/site-packages (from torch==1.2.0->pytorch-lightning) (1.16.4)\n",
      "Requirement already satisfied: pytz>=2017.2 in /opt/conda/lib/python3.6/site-packages (from pandas>=0.20.3->pytorch-lightning) (2019.1)\n",
      "Requirement already satisfied: python-dateutil>=2.6.1 in /opt/conda/lib/python3.6/site-packages (from pandas>=0.20.3->pytorch-lightning) (2.8.0)\n",
      "Requirement already satisfied: tb-nightly==1.15.0a20190708 in /opt/conda/lib/python3.6/site-packages (from test-tube>=0.6.9->pytorch-lightning) (1.15.0a20190708)\n",
      "Requirement already satisfied: imageio>=2.3.0 in /opt/conda/lib/python3.6/site-packages (from test-tube>=0.6.9->pytorch-lightning) (2.5.0)\n",
      "Requirement already satisfied: future in /opt/conda/lib/python3.6/site-packages (from test-tube>=0.6.9->pytorch-lightning) (0.17.1)\n",
      "Requirement already satisfied: wrapt<2,>=1.10 in /opt/conda/lib/python3.6/site-packages (from deprecated>=1.2.4->flair) (1.10.11)\n",
      "Requirement already satisfied: cycler>=0.10 in /opt/conda/lib/python3.6/site-packages (from matplotlib>=2.2.3->flair) (0.10.0)\n",
      "Requirement already satisfied: kiwisolver>=1.0.1 in /opt/conda/lib/python3.6/site-packages (from matplotlib>=2.2.3->flair) (1.1.0)\n",
      "Requirement already satisfied: pyparsing!=2.0.4,!=2.1.2,!=2.1.6,>=2.0.1 in /opt/conda/lib/python3.6/site-packages (from matplotlib>=2.2.3->flair) (2.4.0)\n",
      "Requirement already satisfied: scipy>=0.18.1 in /opt/conda/lib/python3.6/site-packages (from gensim>=3.4.0->flair) (1.3.0)\n",
      "Requirement already satisfied: six>=1.5.0 in /opt/conda/lib/python3.6/site-packages (from gensim>=3.4.0->flair) (1.12.0)\n",
      "Requirement already satisfied: smart-open>=1.7.0 in /opt/conda/lib/python3.6/site-packages (from gensim>=3.4.0->flair) (1.8.4)\n",
      "Requirement already satisfied: importlib-metadata>=0.12; python_version < \"3.8\" in /opt/conda/lib/python3.6/site-packages (from pytest>=3.6.4->flair) (0.20)\n",
      "Requirement already satisfied: packaging in /opt/conda/lib/python3.6/site-packages (from pytest>=3.6.4->flair) (19.0)\n",
      "Requirement already satisfied: attrs>=17.4.0 in /opt/conda/lib/python3.6/site-packages (from pytest>=3.6.4->flair) (19.1.0)\n",
      "Requirement already satisfied: pluggy<1.0,>=0.12 in /opt/conda/lib/python3.6/site-packages (from pytest>=3.6.4->flair) (0.12.0)\n",
      "Requirement already satisfied: atomicwrites>=1.0 in /opt/conda/lib/python3.6/site-packages (from pytest>=3.6.4->flair) (1.3.0)\n",
      "Requirement already satisfied: wcwidth in /opt/conda/lib/python3.6/site-packages (from pytest>=3.6.4->flair) (0.1.7)\n",
      "Requirement already satisfied: more-itertools>=4.0.0 in /opt/conda/lib/python3.6/site-packages (from pytest>=3.6.4->flair) (7.2.0)\n",
      "Requirement already satisfied: py>=1.5.0 in /opt/conda/lib/python3.6/site-packages (from pytest>=3.6.4->flair) (1.8.0)\n",
      "Requirement already satisfied: requests in /opt/conda/lib/python3.6/site-packages (from bpemb>=0.2.9->flair) (2.22.0)\n",
      "Requirement already satisfied: sentencepiece in /opt/conda/lib/python3.6/site-packages (from bpemb>=0.2.9->flair) (0.1.83)\n",
      "Requirement already satisfied: scikit-learn in /opt/conda/lib/python3.6/site-packages (from sklearn->flair) (0.21.2)\n",
      "Requirement already satisfied: pygments in /opt/conda/lib/python3.6/site-packages (from ipython==7.6.1->flair) (2.4.2)\n",
      "Requirement already satisfied: traitlets>=4.2 in /opt/conda/lib/python3.6/site-packages (from ipython==7.6.1->flair) (4.3.2)\n",
      "Requirement already satisfied: pickleshare in /opt/conda/lib/python3.6/site-packages (from ipython==7.6.1->flair) (0.7.5)\n",
      "Requirement already satisfied: prompt-toolkit<2.1.0,>=2.0.0 in /opt/conda/lib/python3.6/site-packages (from ipython==7.6.1->flair) (2.0.9)\n",
      "Requirement already satisfied: setuptools>=18.5 in /opt/conda/lib/python3.6/site-packages (from ipython==7.6.1->flair) (41.0.1)\n",
      "Requirement already satisfied: jedi>=0.10 in /opt/conda/lib/python3.6/site-packages (from ipython==7.6.1->flair) (0.15.1)\n",
      "Requirement already satisfied: backcall in /opt/conda/lib/python3.6/site-packages (from ipython==7.6.1->flair) (0.1.0)\n",
      "Requirement already satisfied: decorator in /opt/conda/lib/python3.6/site-packages (from ipython==7.6.1->flair) (4.4.0)\n",
      "Requirement already satisfied: pexpect; sys_platform != \"win32\" in /opt/conda/lib/python3.6/site-packages (from ipython==7.6.1->flair) (4.7.0)\n",
      "Requirement already satisfied: networkx in /opt/conda/lib/python3.6/site-packages (from hyperopt>=0.1.1->flair) (2.3)\n",
      "Requirement already satisfied: pymongo in /opt/conda/lib/python3.6/site-packages (from hyperopt>=0.1.1->flair) (3.9.0)\n",
      "Requirement already satisfied: boto3 in /opt/conda/lib/python3.6/site-packages (from pytorch-transformers>=1.1.0->flair) (1.9.221)\n",
      "Requirement already satisfied: protobuf>=3.6.0 in /opt/conda/lib/python3.6/site-packages (from tb-nightly==1.15.0a20190708->test-tube>=0.6.9->pytorch-lightning) (3.8.0)\n",
      "Requirement already satisfied: wheel>=0.26; python_version >= \"3\" in /opt/conda/lib/python3.6/site-packages (from tb-nightly==1.15.0a20190708->test-tube>=0.6.9->pytorch-lightning) (0.33.4)\n",
      "Requirement already satisfied: grpcio>=1.6.3 in /opt/conda/lib/python3.6/site-packages (from tb-nightly==1.15.0a20190708->test-tube>=0.6.9->pytorch-lightning) (1.16.1)\n",
      "Requirement already satisfied: absl-py>=0.4 in /opt/conda/lib/python3.6/site-packages (from tb-nightly==1.15.0a20190708->test-tube>=0.6.9->pytorch-lightning) (0.7.1)\n",
      "Requirement already satisfied: werkzeug>=0.11.15 in /opt/conda/lib/python3.6/site-packages (from tb-nightly==1.15.0a20190708->test-tube>=0.6.9->pytorch-lightning) (0.15.4)\n",
      "Requirement already satisfied: markdown>=2.6.8 in /opt/conda/lib/python3.6/site-packages (from tb-nightly==1.15.0a20190708->test-tube>=0.6.9->pytorch-lightning) (3.1.1)\n",
      "Requirement already satisfied: boto>=2.32 in /opt/conda/lib/python3.6/site-packages (from smart-open>=1.7.0->gensim>=3.4.0->flair) (2.49.0)\n",
      "Requirement already satisfied: zipp>=0.5 in /opt/conda/lib/python3.6/site-packages (from importlib-metadata>=0.12; python_version < \"3.8\"->pytest>=3.6.4->flair) (0.6.0)\n",
      "Requirement already satisfied: idna<2.9,>=2.5 in /opt/conda/lib/python3.6/site-packages (from requests->bpemb>=0.2.9->flair) (2.8)\n",
      "Requirement already satisfied: chardet<3.1.0,>=3.0.2 in /opt/conda/lib/python3.6/site-packages (from requests->bpemb>=0.2.9->flair) (3.0.4)\n",
      "Requirement already satisfied: certifi>=2017.4.17 in /opt/conda/lib/python3.6/site-packages (from requests->bpemb>=0.2.9->flair) (2019.6.16)\n",
      "Requirement already satisfied: joblib>=0.11 in /opt/conda/lib/python3.6/site-packages (from scikit-learn->sklearn->flair) (0.13.2)\n",
      "Requirement already satisfied: parso>=0.5.0 in /opt/conda/lib/python3.6/site-packages (from jedi>=0.10->ipython==7.6.1->flair) (0.5.1)\n",
      "Requirement already satisfied: ptyprocess>=0.5 in /opt/conda/lib/python3.6/site-packages (from pexpect; sys_platform != \"win32\"->ipython==7.6.1->flair) (0.6.0)\n",
      "Requirement already satisfied: jmespath<1.0.0,>=0.7.1 in /opt/conda/lib/python3.6/site-packages (from boto3->pytorch-transformers>=1.1.0->flair) (0.9.4)\n",
      "Requirement already satisfied: s3transfer<0.3.0,>=0.2.0 in /opt/conda/lib/python3.6/site-packages (from boto3->pytorch-transformers>=1.1.0->flair) (0.2.1)\n",
      "Requirement already satisfied: botocore<1.13.0,>=1.12.221 in /opt/conda/lib/python3.6/site-packages (from boto3->pytorch-transformers>=1.1.0->flair) (1.12.221)\n",
      "Requirement already satisfied: docutils<0.16,>=0.10 in /opt/conda/lib/python3.6/site-packages (from botocore<1.13.0,>=1.12.221->boto3->pytorch-transformers>=1.1.0->flair) (0.15.2)\n",
      "\u001b[33mWARNING: You are using pip version 19.2.2, however version 19.2.3 is available.\n",
      "You should consider upgrading via the 'pip install --upgrade pip' command.\u001b[0m\n",
      "Requirement already satisfied: pytorch-transformers in /opt/conda/lib/python3.6/site-packages (1.1.0)\n",
      "Requirement already satisfied: sentencepiece in /opt/conda/lib/python3.6/site-packages (from pytorch-transformers) (0.1.83)\n",
      "Requirement already satisfied: torch>=1.0.0 in /opt/conda/lib/python3.6/site-packages (from pytorch-transformers) (1.2.0)\n",
      "Requirement already satisfied: requests in /opt/conda/lib/python3.6/site-packages (from pytorch-transformers) (2.22.0)\n",
      "Requirement already satisfied: boto3 in /opt/conda/lib/python3.6/site-packages (from pytorch-transformers) (1.9.221)\n",
      "Requirement already satisfied: numpy in /opt/conda/lib/python3.6/site-packages (from pytorch-transformers) (1.16.4)\n",
      "Requirement already satisfied: regex in /opt/conda/lib/python3.6/site-packages (from pytorch-transformers) (2018.1.10)\n",
      "Requirement already satisfied: tqdm in /opt/conda/lib/python3.6/site-packages (from pytorch-transformers) (4.35.0)\n",
      "Requirement already satisfied: chardet<3.1.0,>=3.0.2 in /opt/conda/lib/python3.6/site-packages (from requests->pytorch-transformers) (3.0.4)\n",
      "Requirement already satisfied: urllib3!=1.25.0,!=1.25.1,<1.26,>=1.21.1 in /opt/conda/lib/python3.6/site-packages (from requests->pytorch-transformers) (1.24.2)\n",
      "Requirement already satisfied: idna<2.9,>=2.5 in /opt/conda/lib/python3.6/site-packages (from requests->pytorch-transformers) (2.8)\n",
      "Requirement already satisfied: certifi>=2017.4.17 in /opt/conda/lib/python3.6/site-packages (from requests->pytorch-transformers) (2019.6.16)\n",
      "Requirement already satisfied: botocore<1.13.0,>=1.12.221 in /opt/conda/lib/python3.6/site-packages (from boto3->pytorch-transformers) (1.12.221)\n",
      "Requirement already satisfied: s3transfer<0.3.0,>=0.2.0 in /opt/conda/lib/python3.6/site-packages (from boto3->pytorch-transformers) (0.2.1)\n",
      "Requirement already satisfied: jmespath<1.0.0,>=0.7.1 in /opt/conda/lib/python3.6/site-packages (from boto3->pytorch-transformers) (0.9.4)\n",
      "Requirement already satisfied: docutils<0.16,>=0.10 in /opt/conda/lib/python3.6/site-packages (from botocore<1.13.0,>=1.12.221->boto3->pytorch-transformers) (0.15.2)\n",
      "Requirement already satisfied: python-dateutil<3.0.0,>=2.1; python_version >= \"2.7\" in /opt/conda/lib/python3.6/site-packages (from botocore<1.13.0,>=1.12.221->boto3->pytorch-transformers) (2.8.0)\n",
      "Requirement already satisfied: six>=1.5 in /opt/conda/lib/python3.6/site-packages (from python-dateutil<3.0.0,>=2.1; python_version >= \"2.7\"->botocore<1.13.0,>=1.12.221->boto3->pytorch-transformers) (1.12.0)\n",
      "\u001b[33mWARNING: You are using pip version 19.2.2, however version 19.2.3 is available.\n",
      "You should consider upgrading via the 'pip install --upgrade pip' command.\u001b[0m\n"
     ]
    }
   ],
   "source": [
    "%run NER_common.ipynb"
   ]
  },
  {
   "cell_type": "code",
   "execution_count": 2,
   "metadata": {},
   "outputs": [],
   "source": [
    "import seqeval.metrics\n",
    "from tqdm import tqdm_notebook\n",
    "\n",
    "import numpy as np\n",
    "from itertools import chain, islice\n",
    "from collections import Counter\n",
    "from collections import defaultdict\n",
    "from functools import partial"
   ]
  },
  {
   "cell_type": "code",
   "execution_count": 3,
   "metadata": {},
   "outputs": [],
   "source": [
    "from tagging import *"
   ]
  },
  {
   "cell_type": "code",
   "execution_count": 4,
   "metadata": {},
   "outputs": [],
   "source": [
    "import pytorch_transformers\n",
    "import torch\n",
    "from torch import nn\n",
    "import torch.nn.functional as F\n",
    "from torch.utils.data import TensorDataset, Dataset, DataLoader\n",
    "import pytorch_lightning as pl\n",
    "from test_tube import Experiment\n",
    "import argparse\n",
    "import os.path"
   ]
  },
  {
   "cell_type": "code",
   "execution_count": 5,
   "metadata": {},
   "outputs": [],
   "source": [
    "def bert_preprocessing(inputs, targets, bert_tokenizer, bert_specials=None):\n",
    "    new_inputs = []\n",
    "    new_targets = []\n",
    "    masks = []\n",
    "#     bert_tokenizer = pytorch_transformers.BertTokenizer.from_pretrained('bert-base-uncased')\n",
    "    for text, tags in tqdm_notebook(zip(inputs, targets), total=len(inputs)):\n",
    "        new_tokens, new_tags = [],[]\n",
    "        mask = []\n",
    "        for token, tag in zip(text, tags):\n",
    "            if bert_specials and token in bert_specials:\n",
    "                token_pieces = [bert_specials[token]]\n",
    "            else:\n",
    "                token_pieces = bert_tokenizer.tokenize(token)\n",
    "            new_tokens.extend(token_pieces)\n",
    "            new_tags.extend(split_tag(tag, len(token_pieces)))\n",
    "            if experiment_config.mask_additional_wordpieces:\n",
    "                mask.extend([True] + [False] * (len(token_pieces) - 1))\n",
    "            else:\n",
    "                mask.extend([True] * len(token_pieces))\n",
    "        new_inputs.append(new_tokens)\n",
    "        new_targets.append(new_tags)\n",
    "        masks.append(mask)\n",
    "    return new_inputs, new_targets, masks\n",
    "\n",
    "def bert_numericalize_targets(targets, target_vocab):\n",
    "    target_ids = target_vocab.numericalize(targets)\n",
    "    return [[0] + ids + [0] for ids in target_ids]\n",
    "\n",
    "def bert_numericalize_mask(masks):\n",
    "    return [[False] + mask + [False] for mask in masks]\n",
    "\n",
    "def bert_numericalize_inputs(inputs, bert_tokenizer):\n",
    "    result = []\n",
    "    for input_tokens in inputs:\n",
    "        ids = [bert_tokenizer._convert_token_to_id(tok) for tok in input_tokens]\n",
    "        ids = bert_tokenizer.add_special_tokens_single_sentence(ids)\n",
    "        result.append(ids)\n",
    "    return result\n",
    "\n",
    "def bert_numericalize(inputs, targets, masks, bert_tokenizer, target_vocab):\n",
    "    input_ids = bert_numericalize_inputs(inputs, bert_tokenizer)\n",
    "    target_ids = bert_numericalize_targets(targets, target_vocab)\n",
    "    mask_ids = bert_numericalize_mask(masks)\n",
    "    return input_ids, target_ids, mask_ids"
   ]
  },
  {
   "cell_type": "code",
   "execution_count": 6,
   "metadata": {},
   "outputs": [],
   "source": [
    "experiment_config = argparse.Namespace()\n",
    "experiment_config.basic_model = 'BiLSTM-BERT'\n",
    "\n",
    "experiment_config.replace_urls = False\n",
    "experiment_config.replace_numbers = False \n",
    "experiment_config.split_hashtags = False # оставить False, не реализовано, BertTokenizer сам это сделает\n",
    "experiment_config.split_nicknames = False # оставить False, не реализовано,  BertTokenizer сам это сделает\n",
    "\n",
    "experiment_config.mask_additional_wordpieces = True # оставить True, не реализовано\n",
    "experiment_config.bert_n_last_layers = 4\n",
    "experiment_config.bert_pretrained_name = 'bert-base-cased'\n",
    "experiment_config.val_batch_size = 24\n",
    "experiment_config.train_batch_size = 16\n",
    "experiment_config.lr = 2e-4\n",
    "experiment_config.gradient_acccumulation_steps = 1\n",
    "experiment_config.gradient_clipping_norm = 5.0\n",
    "experiment_config.n_epochs = 12\n",
    "experiment_config.emb_dropout_type = 'locked'\n",
    "experiment_config.emb_dropout = 0.5\n",
    "experiment_config.bilstm_hidden_size = 1024\n",
    "experiment_config.bilstm_dropout = 0.2\n",
    "experiment_config.bilstm_n_layers = 1\n",
    "experiment_config.pre_fc_dropout = 0.2\n",
    "# experiment_config.mask_additional_wordpieces = True\n",
    "\n",
    "experiment_dir = 'NER_experiments/'\n",
    "experiment_config.experiment_name = 'BILSTM-over-BERT'"
   ]
  },
  {
   "cell_type": "code",
   "execution_count": 7,
   "metadata": {},
   "outputs": [],
   "source": [
    "original_inputs, original_targets = read_data('data/data.txt')\n",
    "unique_tags = sorted(count_tags(original_targets).keys(), key=lambda tag: tag[2:])\n",
    "experiment_config.n_classes = len(unique_tags)"
   ]
  },
  {
   "cell_type": "code",
   "execution_count": 8,
   "metadata": {},
   "outputs": [],
   "source": [
    "bert_tokenizer = pytorch_transformers.BertTokenizer.from_pretrained(experiment_config.bert_pretrained_name, do_lower_case=False)"
   ]
  },
  {
   "cell_type": "code",
   "execution_count": 9,
   "metadata": {},
   "outputs": [],
   "source": [
    "bert_specials = {'<URL>': '[unused1]', '<NUM>': '[unused2]'}"
   ]
  },
  {
   "cell_type": "code",
   "execution_count": 10,
   "metadata": {},
   "outputs": [],
   "source": [
    "target_vocab = Vocab.from_id2word(unique_tags, unk_index=None, n_specials=0)"
   ]
  },
  {
   "cell_type": "code",
   "execution_count": 11,
   "metadata": {},
   "outputs": [],
   "source": [
    "inputs, targets, _ = basic_preprocessing(original_inputs, original_targets,\n",
    "                                      replace_urls=experiment_config.replace_urls,\n",
    "                                      replace_numbers=experiment_config.replace_numbers,\n",
    "                                      split_hashtags=False,\n",
    "                                      split_mentions=False)"
   ]
  },
  {
   "cell_type": "code",
   "execution_count": 12,
   "metadata": {},
   "outputs": [
    {
     "data": {
      "application/vnd.jupyter.widget-view+json": {
       "model_id": "fccc2ccc9e714ddcaf05445f6073e40d",
       "version_major": 2,
       "version_minor": 0
      },
      "text/plain": [
       "HBox(children=(IntProgress(value=0, max=7243), HTML(value='')))"
      ]
     },
     "metadata": {},
     "output_type": "display_data"
    },
    {
     "name": "stdout",
     "output_type": "stream",
     "text": [
      "\n"
     ]
    }
   ],
   "source": [
    "bert_tokenized_inputs, bert_tokenized_targets, bert_masks = bert_preprocessing(inputs, targets, bert_tokenizer, bert_specials)"
   ]
  },
  {
   "cell_type": "code",
   "execution_count": 13,
   "metadata": {},
   "outputs": [],
   "source": [
    "split_names = ['train', 'val', 'test']"
   ]
  },
  {
   "cell_type": "code",
   "execution_count": 14,
   "metadata": {},
   "outputs": [],
   "source": [
    "original_inputs_split, original_targets_split = split_to_dicts(\n",
    "    [original_inputs, original_targets],\n",
    "    (train_indices, val_indices, test_indices), \n",
    "    split_names)\n",
    "\n",
    "bert_inputs_split, bert_targets_split, bert_masks_split = split_to_dicts(\n",
    "    [bert_tokenized_inputs, bert_tokenized_targets, bert_masks],\n",
    "    (train_indices, val_indices, test_indices), \n",
    "    split_names)"
   ]
  },
  {
   "cell_type": "code",
   "execution_count": 15,
   "metadata": {},
   "outputs": [],
   "source": [
    "bert_numericalized_inputs, bert_numericalized_targets, bert_numericalized_masks = bert_numericalize(\n",
    "    bert_tokenized_inputs, \n",
    "    bert_tokenized_targets,\n",
    "    bert_masks, bert_tokenizer, target_vocab)"
   ]
  },
  {
   "cell_type": "code",
   "execution_count": 16,
   "metadata": {},
   "outputs": [],
   "source": [
    "bert_input_ids_spl, bert_target_ids_spl, bert_mask_ids_spl = split_to_dicts([bert_numericalized_inputs, bert_numericalized_targets, bert_numericalized_masks],\n",
    "                                                                            (train_indices, val_indices, test_indices), split_names)"
   ]
  },
  {
   "cell_type": "code",
   "execution_count": 17,
   "metadata": {},
   "outputs": [],
   "source": [
    "class BertEncoderDataset(Dataset):\n",
    "    def __init__(self, input_ids, target_ids, mask_ids):\n",
    "        self.inputs = input_ids\n",
    "        self.targets = target_ids\n",
    "        self.masks = mask_ids\n",
    "        assert len(input_ids) == len(target_ids) == len(self.masks)\n",
    "        \n",
    "    def __len__(self):\n",
    "        return len(self.inputs)\n",
    "    \n",
    "    def __getitem__(self, idx):\n",
    "        return (self.inputs[idx], self.targets[idx], self.masks[idx])\n",
    "    \n",
    "    @staticmethod\n",
    "    def collate(examples):\n",
    "        inputs, targets, masks, lengths = [],[],[],[]\n",
    "        for inp, tgt, msk in examples:\n",
    "            inputs.append(torch.tensor(inp, dtype=torch.long))\n",
    "            targets.append(torch.tensor(tgt, dtype=torch.long))\n",
    "            masks.append(torch.tensor(msk, dtype=torch.bool))\n",
    "            lengths.append(len(inp))\n",
    "            \n",
    "        input_tensor = torch.nn.utils.rnn.pad_sequence(inputs, batch_first=True)\n",
    "        target_tensor = torch.nn.utils.rnn.pad_sequence(targets, batch_first=True)\n",
    "        mask_tensor = torch.nn.utils.rnn.pad_sequence(masks, batch_first=True)\n",
    "        lengths_tensor = torch.tensor(lengths)\n",
    "#         print(input_tensor.size(), target_tensor.size(), mask_tensor.size())\n",
    "        return input_tensor, target_tensor, mask_tensor, lengths_tensor"
   ]
  },
  {
   "cell_type": "code",
   "execution_count": 18,
   "metadata": {},
   "outputs": [],
   "source": [
    "train_dataset = BertEncoderDataset(*[spl['train'] for spl in (bert_input_ids_spl, bert_target_ids_spl, bert_mask_ids_spl)])\n",
    "val_dataset = BertEncoderDataset(*[spl['val'] for spl in (bert_input_ids_spl, bert_target_ids_spl, bert_mask_ids_spl)])\n",
    "test_dataset = BertEncoderDataset(*[spl['test'] for spl in (bert_input_ids_spl, bert_target_ids_spl, bert_mask_ids_spl)])"
   ]
  },
  {
   "cell_type": "markdown",
   "metadata": {},
   "source": [
    "### Model"
   ]
  },
  {
   "cell_type": "code",
   "execution_count": 19,
   "metadata": {},
   "outputs": [],
   "source": [
    "class BertEncoder(Encoder):\n",
    "    def __init__(self, config):\n",
    "        super().__init__()\n",
    "        self.bert = pytorch_transformers.BertModel.from_pretrained(\n",
    "            config.bert_pretrained_name,\n",
    "            output_hidden_states=True)\n",
    "        self.bert.eval()\n",
    "        self.n_last_layers = config.bert_n_last_layers\n",
    "        config.embedding_dim = self.bert.config.hidden_size * self.n_last_layers\n",
    "        \n",
    "    def forward(self, encoder_inputs):\n",
    "        self.bert.eval()\n",
    "        input_tensor = encoder_inputs[0]\n",
    "        pad_mask = (input_tensor != 0).type(torch.float32)\n",
    "        with torch.no_grad():\n",
    "            bert_layer_outputs = self.bert(input_tensor, attention_mask=pad_mask)[2][-self.n_last_layers:]\n",
    "        concatenated = torch.cat(bert_layer_outputs, dim=-1)\n",
    "        return concatenated"
   ]
  },
  {
   "cell_type": "code",
   "execution_count": 20,
   "metadata": {},
   "outputs": [],
   "source": [
    "class BiLSTM_BERT_Lightning(pl.LightningModule):\n",
    "    def __init__(self, config):\n",
    "        super().__init__()\n",
    "        self.config = config\n",
    "        encoder = BertEncoder(config)\n",
    "        tagger = BiLSTMTagger(config)\n",
    "        self.model = TaggerWithEncoder(encoder, tagger)\n",
    "        \n",
    "    def encoder_tagger_inputs(self, input_tensor, length_tensor):\n",
    "        return (input_tensor,), (length_tensor,)\n",
    "        \n",
    "    def forward(self, input_tensor, length_tensor):\n",
    "        encoder_inputs, tagger_inputs = self.encoder_tagger_inputs(input_tensor, length_tensor)\n",
    "        \n",
    "        return self.model(encoder_inputs, tagger_inputs)\n",
    "    \n",
    "    def compute_loss_on_batch(self, batch):\n",
    "        input_tensor, target_tensor, mask_tensor, lengths_tensor = batch\n",
    "        logits = self(input_tensor, lengths_tensor)\n",
    "        \n",
    "        loss_mask = ~mask_tensor\n",
    "        loss = masked_crossentropy_loss(logits, target_tensor, loss_mask)\n",
    "        return loss\n",
    "    \n",
    "    def training_step(self, batch, batch_nb):\n",
    "        # REQUIRED\n",
    "        self.train()\n",
    "        loss = self.compute_loss_on_batch(batch)\n",
    "        return {'loss': loss}\n",
    "\n",
    "    def validation_step(self, batch, batch_nb):\n",
    "        # OPTIONAL\n",
    "        loss = self.compute_loss_on_batch(batch)\n",
    "        input_tensor, target_tensor, mask_tensor, lengths_tensor =  batch\n",
    "        encoder_inputs, tagger_inputs = self.encoder_tagger_inputs(input_tensor, lengths_tensor)\n",
    "         # encoder_inputs, tagger_inputs, mask_tensor, target_vocab\n",
    "        predicted_tags = self.model.predict_tags(encoder_inputs, tagger_inputs, mask_tensor, target_vocab)\n",
    "        \n",
    "        return {'val_loss': loss, 'tags': predicted_tags}\n",
    "\n",
    "    def validation_end(self, outputs):\n",
    "        # OPTIONAL\n",
    "        avg_loss = torch.tensor([x['val_loss'] for x in outputs]).mean()\n",
    "        predictions = list(chain.from_iterable(x['tags'] for x in outputs))\n",
    "        f1_score = seqeval.metrics.f1_score(original_targets_split['val'], predictions)\n",
    "        \n",
    "        print(seqeval.metrics.classification_report(original_targets_split['val'], predictions))\n",
    "        metrics = {'avg_val_loss': avg_loss.item(), 'f1': f1_score}\n",
    "        metrics_to_write = dict(metrics, epoch=self.trainer.current_epoch+1)\n",
    "#         metrics.update(self.trainer.tng_tqdm_dic)\n",
    "        \n",
    "#         scalar_metrics = self.trainer.__metrics_to_scalars(\n",
    "#                     metrics, blacklist=self.trainer.__log_vals_blacklist())\n",
    "        \n",
    "        assert self.experiment\n",
    "        self.experiment.log(metrics_to_write)\n",
    "        self.experiment.save()\n",
    "        \n",
    "        return metrics\n",
    "    \n",
    "    def predict_loader(self, loader, device='cuda'):\n",
    "        result = []\n",
    "        self.eval()\n",
    "        with torch.no_grad():\n",
    "            for batch in loader:\n",
    "                input_tensor, target_tensor, mask_tensor, lengths_tensor =  batch\n",
    "                lengths_tensor = lengths_tensor.to(device)\n",
    "                mask_tensor = mask_tensor.to(device)\n",
    "                input_tensor = input_tensor.to(device)\n",
    "                encoder_inputs, tagger_inputs = self.encoder_tagger_inputs(input_tensor, lengths_tensor)\n",
    "                \n",
    "                predicted_tags = self.model.predict_tags(encoder_inputs, tagger_inputs, mask_tensor, target_vocab)\n",
    "                result.extend(predicted_tags)\n",
    "        \n",
    "        return result\n",
    "    \n",
    "    def configure_optimizers(self):\n",
    "        # REQUIRED\n",
    "        # can return multiple optimizers and learning_rate schedulers\n",
    "        return torch.optim.Adam(self.parameters(), lr=self.config.lr)\n",
    "\n",
    "    @pl.data_loader\n",
    "    def tng_dataloader(self):\n",
    "        # REQUIRED\n",
    "        assert isinstance(train_dataset, BertEncoderDataset)\n",
    "        return DataLoader(train_dataset, batch_size=self.config.train_batch_size, shuffle=True, collate_fn=BertEncoderDataset.collate)\n",
    "\n",
    "    @pl.data_loader\n",
    "    def val_dataloader(self):\n",
    "        # OPTIONAL\n",
    "        assert isinstance(val_dataset, BertEncoderDataset)\n",
    "        return DataLoader(val_dataset, batch_size=self.config.val_batch_size, shuffle=False, collate_fn=BertEncoderDataset.collate)"
   ]
  },
  {
   "cell_type": "code",
   "execution_count": 21,
   "metadata": {},
   "outputs": [],
   "source": [
    "def model_test():\n",
    "    bilstm = BiLSTM_BERT_Lightning(experiment_config)\n",
    "    bilstm = bilstm.cuda()\n",
    "    predictions = bilstm.predict_loader(bilstm.val_dataloader)\n",
    "    print(len(predictions))\n",
    "    print(predictions[100])\n",
    "    del bilstm\n",
    "    torch.cuda.empty_cache()"
   ]
  },
  {
   "cell_type": "code",
   "execution_count": 22,
   "metadata": {},
   "outputs": [],
   "source": [
    "exp = Experiment(save_dir=experiment_dir, name=experiment_config.experiment_name)"
   ]
  },
  {
   "cell_type": "code",
   "execution_count": 23,
   "metadata": {},
   "outputs": [
    {
     "name": "stderr",
     "output_type": "stream",
     "text": [
      "/opt/conda/lib/python3.6/site-packages/torch/nn/modules/rnn.py:51: UserWarning: dropout option adds dropout after all but last recurrent layer, so non-zero dropout expects num_layers greater than 1, but got dropout=0.2 and num_layers=1\n",
      "  \"num_layers={}\".format(dropout, num_layers))\n"
     ]
    }
   ],
   "source": [
    "bilstm_model = BiLSTM_BERT_Lightning(experiment_config)"
   ]
  },
  {
   "cell_type": "code",
   "execution_count": 24,
   "metadata": {},
   "outputs": [],
   "source": [
    "exp.argparse(experiment_config)\n",
    "exp.save()"
   ]
  },
  {
   "cell_type": "code",
   "execution_count": 25,
   "metadata": {},
   "outputs": [],
   "source": [
    "bilstm_model = bilstm_model.cuda()"
   ]
  },
  {
   "cell_type": "code",
   "execution_count": 26,
   "metadata": {},
   "outputs": [],
   "source": [
    "checkpoint_path = f'{experiment_dir}/{experiment_config.experiment_name}/version_{exp.version}/checkpoint'"
   ]
  },
  {
   "cell_type": "code",
   "execution_count": 27,
   "metadata": {},
   "outputs": [],
   "source": [
    "checkpoint_callback = pl.callbacks.ModelCheckpoint(\n",
    "    filepath= checkpoint_path,\n",
    "    save_best_only=True,\n",
    "    verbose=True,\n",
    "    monitor='f1',\n",
    "    mode='max'\n",
    ")\n",
    "\n",
    "early_stop = pl.callbacks.EarlyStopping(\n",
    "        monitor='f1',\n",
    "        patience=5,\n",
    "        verbose=True,\n",
    "        mode='max'\n",
    ")"
   ]
  },
  {
   "cell_type": "code",
   "execution_count": 28,
   "metadata": {},
   "outputs": [
    {
     "name": "stdout",
     "output_type": "stream",
     "text": [
      "VISIBLE GPUS: '0'\n",
      "gpu available: True, used: True\n"
     ]
    }
   ],
   "source": [
    "trainer = pl.Trainer(experiment=exp,\n",
    "                     max_nb_epochs=experiment_config.n_epochs,\n",
    "                     gpus=[0],\n",
    "                     gradient_clip=experiment_config.gradient_clipping_norm,\n",
    "                     early_stop_callback=early_stop,\n",
    "                     accumulate_grad_batches=experiment_config.gradient_acccumulation_steps,\n",
    "                     add_log_row_interval=100,\n",
    "                     checkpoint_callback=checkpoint_callback)"
   ]
  },
  {
   "cell_type": "code",
   "execution_count": 29,
   "metadata": {},
   "outputs": [
    {
     "name": "stderr",
     "output_type": "stream",
     "text": [
      "  0%|          | 0/5 [00:00<?, ?it/s]"
     ]
    },
    {
     "name": "stdout",
     "output_type": "stream",
     "text": [
      "                                              Name               Type  \\\n",
      "0                                            model  TaggerWithEncoder   \n",
      "1                                    model.encoder        BertEncoder   \n",
      "2                               model.encoder.bert          BertModel   \n",
      "3                    model.encoder.bert.embeddings     BertEmbeddings   \n",
      "4    model.encoder.bert.embeddings.word_embeddings          Embedding   \n",
      "..                                             ...                ...   \n",
      "218                                   model.tagger       BiLSTMTagger   \n",
      "219                       model.tagger.emb_dropout      LockedDropout   \n",
      "220                               model.tagger.rnn               LSTM   \n",
      "221                    model.tagger.pre_fc_dropout            Dropout   \n",
      "222                                model.tagger.fc             Linear   \n",
      "\n",
      "        Params  \n",
      "0    123020053  \n",
      "1    108310272  \n",
      "2    108310272  \n",
      "3     22665216  \n",
      "4     22268928  \n",
      "..         ...  \n",
      "218   14709781  \n",
      "219          0  \n",
      "220   14688256  \n",
      "221          0  \n",
      "222      21525  \n",
      "\n",
      "[223 rows x 3 columns]\n"
     ]
    },
    {
     "name": "stderr",
     "output_type": "stream",
     "text": [
      "  0%|          | 1/361 [00:00<01:02,  5.76it/s, batch_nb=0, epoch=0, gpu=0, loss=3.167, v_nb=3]"
     ]
    },
    {
     "name": "stdout",
     "output_type": "stream",
     "text": [
      "             precision    recall  f1-score   support\n",
      "\n",
      "        loc       0.00      0.00      0.00       156\n",
      "     person       0.01      0.02      0.01       131\n",
      "      other       0.00      0.00      0.00       110\n",
      "    product       0.00      0.00      0.00        38\n",
      "musicartist       0.00      0.00      0.00        33\n",
      "    company       0.00      0.00      0.00        84\n",
      " sportsteam       0.00      0.00      0.00        21\n",
      "   facility       0.00      0.00      0.00        58\n",
      "     tvshow       0.00      0.00      0.00        11\n",
      "      movie       0.00      0.00      0.00        17\n",
      "\n",
      "  micro avg       0.00      0.00      0.00       659\n",
      "  macro avg       0.00      0.00      0.00       659\n",
      "\n"
     ]
    },
    {
     "name": "stderr",
     "output_type": "stream",
     "text": [
      "100%|██████████| 361/361 [00:27<00:00,  7.37it/s, avg_val_loss=0.185, batch_nb=324, epoch=0, f1=0.437, gpu=0, loss=0.208, v_nb=3]"
     ]
    },
    {
     "name": "stdout",
     "output_type": "stream",
     "text": [
      "             precision    recall  f1-score   support\n",
      "\n",
      "        loc       0.51      0.70      0.59       156\n",
      "     person       0.68      0.73      0.70       131\n",
      "      other       0.28      0.25      0.26       110\n",
      "    product       0.04      0.03      0.03        38\n",
      "musicartist       0.50      0.03      0.06        33\n",
      "    company       0.50      0.49      0.49        84\n",
      " sportsteam       0.40      0.10      0.15        21\n",
      "   facility       0.06      0.05      0.05        58\n",
      "     tvshow       0.00      0.00      0.00        11\n",
      "      movie       0.00      0.00      0.00        17\n",
      "\n",
      "  micro avg       0.45      0.42      0.44       659\n",
      "  macro avg       0.41      0.42      0.40       659\n",
      "\n",
      "save callback...\n",
      "\n",
      "Epoch 00001: f1 improved from -inf to 0.43696, saving model to NER_experiments//BILSTM-over-BERT/version_3/checkpoint/_ckpt_epoch_1.ckpt\n"
     ]
    },
    {
     "name": "stderr",
     "output_type": "stream",
     "text": [
      "100%|██████████| 361/361 [00:27<00:00,  7.33it/s, avg_val_loss=0.158, batch_nb=324, epoch=1, f1=0.531, gpu=0, loss=0.179, v_nb=3]"
     ]
    },
    {
     "name": "stdout",
     "output_type": "stream",
     "text": [
      "             precision    recall  f1-score   support\n",
      "\n",
      "        loc       0.65      0.69      0.67       156\n",
      "     person       0.74      0.76      0.75       131\n",
      "      other       0.38      0.33      0.35       110\n",
      "    product       0.20      0.16      0.18        38\n",
      "musicartist       0.75      0.18      0.29        33\n",
      "    company       0.58      0.52      0.55        84\n",
      " sportsteam       0.33      0.38      0.36        21\n",
      "   facility       0.39      0.47      0.43        58\n",
      "     tvshow       0.00      0.00      0.00        11\n",
      "      movie       0.00      0.00      0.00        17\n",
      "\n",
      "  micro avg       0.56      0.51      0.53       659\n",
      "  macro avg       0.53      0.51      0.51       659\n",
      "\n",
      "save callback...\n",
      "\n",
      "Epoch 00002: f1 improved from 0.43696 to 0.53132, saving model to NER_experiments//BILSTM-over-BERT/version_3/checkpoint/_ckpt_epoch_2.ckpt\n"
     ]
    },
    {
     "name": "stderr",
     "output_type": "stream",
     "text": [
      "100%|██████████| 361/361 [00:27<00:00,  7.32it/s, avg_val_loss=0.147, batch_nb=324, epoch=2, f1=0.569, gpu=0, loss=0.146, v_nb=3]"
     ]
    },
    {
     "name": "stdout",
     "output_type": "stream",
     "text": [
      "             precision    recall  f1-score   support\n",
      "\n",
      "        loc       0.70      0.67      0.69       156\n",
      "     person       0.75      0.82      0.78       131\n",
      "      other       0.37      0.40      0.39       110\n",
      "    product       0.24      0.26      0.25        38\n",
      "musicartist       0.78      0.21      0.33        33\n",
      "    company       0.64      0.55      0.59        84\n",
      " sportsteam       0.63      0.57      0.60        21\n",
      "   facility       0.48      0.57      0.52        58\n",
      "     tvshow       0.00      0.00      0.00        11\n",
      "      movie       0.00      0.00      0.00        17\n",
      "\n",
      "  micro avg       0.59      0.55      0.57       659\n",
      "  macro avg       0.58      0.55      0.55       659\n",
      "\n",
      "save callback...\n",
      "\n",
      "Epoch 00003: f1 improved from 0.53132 to 0.56919, saving model to NER_experiments//BILSTM-over-BERT/version_3/checkpoint/_ckpt_epoch_3.ckpt\n"
     ]
    },
    {
     "name": "stderr",
     "output_type": "stream",
     "text": [
      "  0%|          | 1/361 [00:00<00:49,  7.28it/s, avg_val_loss=0.144, batch_nb=0, epoch=4, f1=0.566, gpu=0, loss=0.129, v_nb=3]    "
     ]
    },
    {
     "name": "stdout",
     "output_type": "stream",
     "text": [
      "             precision    recall  f1-score   support\n",
      "\n",
      "        loc       0.73      0.70      0.71       156\n",
      "     person       0.77      0.75      0.76       131\n",
      "      other       0.34      0.45      0.38       110\n",
      "    product       0.18      0.21      0.19        38\n",
      "musicartist       0.65      0.33      0.44        33\n",
      "    company       0.71      0.57      0.63        84\n",
      " sportsteam       0.52      0.76      0.62        21\n",
      "   facility       0.51      0.52      0.51        58\n",
      "     tvshow       0.00      0.00      0.00        11\n",
      "      movie       0.33      0.06      0.10        17\n",
      "\n",
      "  micro avg       0.57      0.56      0.57       659\n",
      "  macro avg       0.58      0.56      0.56       659\n",
      "\n",
      "save callback...\n",
      "\n",
      "Epoch 00004: f1 did not improve\n"
     ]
    },
    {
     "name": "stderr",
     "output_type": "stream",
     "text": [
      "100%|██████████| 361/361 [00:28<00:00,  7.26it/s, avg_val_loss=0.146, batch_nb=324, epoch=4, f1=0.58, gpu=0, loss=0.107, v_nb=3] "
     ]
    },
    {
     "name": "stdout",
     "output_type": "stream",
     "text": [
      "             precision    recall  f1-score   support\n",
      "\n",
      "        loc       0.61      0.76      0.67       156\n",
      "     person       0.68      0.79      0.73       131\n",
      "      other       0.44      0.46      0.45       110\n",
      "    product       0.20      0.32      0.24        38\n",
      "musicartist       0.48      0.30      0.37        33\n",
      "    company       0.64      0.69      0.67        84\n",
      " sportsteam       0.50      0.67      0.57        21\n",
      "   facility       0.51      0.67      0.58        58\n",
      "     tvshow       0.40      0.18      0.25        11\n",
      "      movie       0.20      0.06      0.09        17\n",
      "\n",
      "  micro avg       0.54      0.62      0.58       659\n",
      "  macro avg       0.54      0.62      0.57       659\n",
      "\n",
      "save callback...\n",
      "\n",
      "Epoch 00005: f1 improved from 0.56919 to 0.57973, saving model to NER_experiments//BILSTM-over-BERT/version_3/checkpoint/_ckpt_epoch_5.ckpt\n"
     ]
    },
    {
     "name": "stderr",
     "output_type": "stream",
     "text": [
      "100%|██████████| 361/361 [00:28<00:00,  7.23it/s, avg_val_loss=0.137, batch_nb=324, epoch=5, f1=0.617, gpu=0, loss=0.093, v_nb=3]"
     ]
    },
    {
     "name": "stdout",
     "output_type": "stream",
     "text": [
      "             precision    recall  f1-score   support\n",
      "\n",
      "        loc       0.72      0.73      0.72       156\n",
      "     person       0.70      0.79      0.74       131\n",
      "      other       0.51      0.40      0.45       110\n",
      "    product       0.33      0.32      0.32        38\n",
      "musicartist       0.65      0.39      0.49        33\n",
      "    company       0.70      0.68      0.69        84\n",
      " sportsteam       0.68      0.62      0.65        21\n",
      "   facility       0.56      0.66      0.60        58\n",
      "     tvshow       0.29      0.18      0.22        11\n",
      "      movie       0.33      0.18      0.23        17\n",
      "\n",
      "  micro avg       0.63      0.61      0.62       659\n",
      "  macro avg       0.62      0.61      0.61       659\n",
      "\n",
      "save callback...\n",
      "\n",
      "Epoch 00006: f1 improved from 0.57973 to 0.61717, saving model to NER_experiments//BILSTM-over-BERT/version_3/checkpoint/_ckpt_epoch_6.ckpt\n"
     ]
    },
    {
     "name": "stderr",
     "output_type": "stream",
     "text": [
      "  0%|          | 1/361 [00:00<00:49,  7.22it/s, avg_val_loss=0.144, batch_nb=0, epoch=7, f1=0.584, gpu=0, loss=0.078, v_nb=3]    "
     ]
    },
    {
     "name": "stdout",
     "output_type": "stream",
     "text": [
      "             precision    recall  f1-score   support\n",
      "\n",
      "        loc       0.61      0.78      0.69       156\n",
      "     person       0.66      0.76      0.71       131\n",
      "      other       0.39      0.51      0.44       110\n",
      "    product       0.26      0.34      0.30        38\n",
      "musicartist       0.55      0.33      0.42        33\n",
      "    company       0.63      0.70      0.66        84\n",
      " sportsteam       0.47      0.67      0.55        21\n",
      "   facility       0.60      0.62      0.61        58\n",
      "     tvshow       0.50      0.18      0.27        11\n",
      "      movie       0.17      0.06      0.09        17\n",
      "\n",
      "  micro avg       0.55      0.63      0.58       659\n",
      "  macro avg       0.55      0.63      0.58       659\n",
      "\n",
      "save callback...\n",
      "\n",
      "Epoch 00007: f1 did not improve\n"
     ]
    },
    {
     "name": "stderr",
     "output_type": "stream",
     "text": [
      "  0%|          | 1/361 [00:00<00:49,  7.21it/s, avg_val_loss=0.146, batch_nb=0, epoch=8, f1=0.586, gpu=0, loss=0.060, v_nb=3]    "
     ]
    },
    {
     "name": "stdout",
     "output_type": "stream",
     "text": [
      "             precision    recall  f1-score   support\n",
      "\n",
      "        loc       0.74      0.74      0.74       156\n",
      "     person       0.61      0.79      0.69       131\n",
      "      other       0.43      0.48      0.46       110\n",
      "    product       0.23      0.29      0.26        38\n",
      "musicartist       0.55      0.33      0.42        33\n",
      "    company       0.72      0.56      0.63        84\n",
      " sportsteam       0.50      0.62      0.55        21\n",
      "   facility       0.62      0.53      0.57        58\n",
      "     tvshow       0.40      0.18      0.25        11\n",
      "      movie       0.40      0.12      0.18        17\n",
      "\n",
      "  micro avg       0.58      0.59      0.59       659\n",
      "  macro avg       0.59      0.59      0.58       659\n",
      "\n",
      "save callback...\n",
      "\n",
      "Epoch 00008: f1 did not improve\n"
     ]
    },
    {
     "name": "stderr",
     "output_type": "stream",
     "text": [
      "100%|██████████| 361/361 [00:27<00:00,  7.21it/s, avg_val_loss=0.157, batch_nb=324, epoch=8, f1=0.619, gpu=0, loss=0.046, v_nb=3]"
     ]
    },
    {
     "name": "stdout",
     "output_type": "stream",
     "text": [
      "             precision    recall  f1-score   support\n",
      "\n",
      "        loc       0.69      0.74      0.71       156\n",
      "     person       0.77      0.78      0.78       131\n",
      "      other       0.47      0.40      0.43       110\n",
      "    product       0.41      0.29      0.34        38\n",
      "musicartist       0.75      0.36      0.49        33\n",
      "    company       0.73      0.62      0.67        84\n",
      " sportsteam       0.67      0.57      0.62        21\n",
      "   facility       0.60      0.60      0.60        58\n",
      "     tvshow       0.25      0.18      0.21        11\n",
      "      movie       0.40      0.24      0.30        17\n",
      "\n",
      "  micro avg       0.65      0.59      0.62       659\n",
      "  macro avg       0.64      0.59      0.61       659\n",
      "\n",
      "save callback...\n",
      "\n",
      "Epoch 00009: f1 improved from 0.61717 to 0.61856, saving model to NER_experiments//BILSTM-over-BERT/version_3/checkpoint/_ckpt_epoch_9.ckpt\n"
     ]
    },
    {
     "name": "stderr",
     "output_type": "stream",
     "text": [
      "  0%|          | 1/361 [00:00<00:50,  7.20it/s, avg_val_loss=0.158, batch_nb=0, epoch=10, f1=0.613, gpu=0, loss=0.038, v_nb=3]   "
     ]
    },
    {
     "name": "stdout",
     "output_type": "stream",
     "text": [
      "             precision    recall  f1-score   support\n",
      "\n",
      "        loc       0.72      0.74      0.73       156\n",
      "     person       0.77      0.80      0.79       131\n",
      "      other       0.43      0.43      0.43       110\n",
      "    product       0.37      0.29      0.32        38\n",
      "musicartist       0.57      0.39      0.46        33\n",
      "    company       0.70      0.56      0.62        84\n",
      " sportsteam       0.59      0.62      0.60        21\n",
      "   facility       0.62      0.53      0.57        58\n",
      "     tvshow       0.29      0.18      0.22        11\n",
      "      movie       0.71      0.29      0.42        17\n",
      "\n",
      "  micro avg       0.64      0.59      0.61       659\n",
      "  macro avg       0.63      0.59      0.61       659\n",
      "\n",
      "save callback...\n",
      "\n",
      "Epoch 00010: f1 did not improve\n"
     ]
    },
    {
     "name": "stderr",
     "output_type": "stream",
     "text": [
      "  0%|          | 1/361 [00:00<00:50,  7.14it/s, avg_val_loss=0.155, batch_nb=0, epoch=11, f1=0.596, gpu=0, loss=0.027, v_nb=3]    "
     ]
    },
    {
     "name": "stdout",
     "output_type": "stream",
     "text": [
      "             precision    recall  f1-score   support\n",
      "\n",
      "        loc       0.68      0.74      0.71       156\n",
      "     person       0.72      0.78      0.75       131\n",
      "      other       0.40      0.45      0.43       110\n",
      "    product       0.30      0.37      0.33        38\n",
      "musicartist       0.60      0.45      0.52        33\n",
      "    company       0.69      0.62      0.65        84\n",
      " sportsteam       0.56      0.67      0.61        21\n",
      "   facility       0.56      0.53      0.55        58\n",
      "     tvshow       0.20      0.18      0.19        11\n",
      "      movie       0.36      0.24      0.29        17\n",
      "\n",
      "  micro avg       0.58      0.61      0.60       659\n",
      "  macro avg       0.59      0.61      0.60       659\n",
      "\n",
      "save callback...\n",
      "\n",
      "Epoch 00011: f1 did not improve\n"
     ]
    },
    {
     "name": "stderr",
     "output_type": "stream",
     "text": [
      "100%|██████████| 361/361 [00:28<00:00,  7.18it/s, avg_val_loss=0.158, batch_nb=324, epoch=11, f1=0.615, gpu=0, loss=0.025, v_nb=3]"
     ]
    },
    {
     "name": "stdout",
     "output_type": "stream",
     "text": [
      "             precision    recall  f1-score   support\n",
      "\n",
      "        loc       0.68      0.76      0.72       156\n",
      "     person       0.73      0.79      0.75       131\n",
      "      other       0.41      0.46      0.44       110\n",
      "    product       0.42      0.42      0.42        38\n",
      "musicartist       0.62      0.39      0.48        33\n",
      "    company       0.68      0.62      0.65        84\n",
      " sportsteam       0.54      0.67      0.60        21\n",
      "   facility       0.60      0.64      0.62        58\n",
      "     tvshow       0.25      0.18      0.21        11\n",
      "      movie       0.62      0.29      0.40        17\n",
      "\n",
      "  micro avg       0.61      0.63      0.62       659\n",
      "  macro avg       0.61      0.63      0.61       659\n",
      "\n",
      "save callback...\n",
      "\n",
      "Epoch 00012: f1 did not improve\n"
     ]
    },
    {
     "data": {
      "text/plain": [
       "1"
      ]
     },
     "execution_count": 29,
     "metadata": {},
     "output_type": "execute_result"
    }
   ],
   "source": [
    "trainer.fit(bilstm_model)"
   ]
  },
  {
   "cell_type": "markdown",
   "metadata": {},
   "source": [
    "### Inference"
   ]
  },
  {
   "cell_type": "code",
   "execution_count": 30,
   "metadata": {},
   "outputs": [],
   "source": [
    "import os"
   ]
  },
  {
   "cell_type": "code",
   "execution_count": 31,
   "metadata": {},
   "outputs": [
    {
     "name": "stdout",
     "output_type": "stream",
     "text": [
      "NER_experiments//BILSTM-over-BERT/version_3/checkpoint/_ckpt_epoch_9.ckpt\n",
      "NER_experiments//BILSTM-over-BERT/version_3/meta_tags.csv\n"
     ]
    }
   ],
   "source": [
    "checkpoint_file = os.listdir(checkpoint_path)[0]\n",
    "assert checkpoint_file.startswith('_ckpt_')\n",
    "checkpoint_file_path = checkpoint_path + '/' + checkpoint_file\n",
    "print(checkpoint_file_path)\n",
    "\n",
    "tags_path = f'{experiment_dir}/{experiment_config.experiment_name}/version_{exp.version}/meta_tags.csv'\n",
    "print(tags_path)"
   ]
  },
  {
   "cell_type": "code",
   "execution_count": 32,
   "metadata": {},
   "outputs": [],
   "source": [
    "device = 'cuda'"
   ]
  },
  {
   "cell_type": "code",
   "execution_count": 33,
   "metadata": {},
   "outputs": [
    {
     "name": "stderr",
     "output_type": "stream",
     "text": [
      "/opt/conda/lib/python3.6/site-packages/torch/nn/modules/rnn.py:51: UserWarning: dropout option adds dropout after all but last recurrent layer, so non-zero dropout expects num_layers greater than 1, but got dropout=0.2 and num_layers=1\n",
      "  \"num_layers={}\".format(dropout, num_layers))\n"
     ]
    }
   ],
   "source": [
    "bilstm_model = BiLSTM_BERT_Lightning.load_from_metrics(checkpoint_file_path, tags_path, on_gpu=False)\n",
    "bilstm_model.freeze()\n",
    "bilstm_model = bilstm_model.to(device)"
   ]
  },
  {
   "cell_type": "code",
   "execution_count": 34,
   "metadata": {},
   "outputs": [],
   "source": [
    "test_loader = DataLoader(test_dataset, batch_size=bilstm_model.config.val_batch_size, collate_fn=test_dataset.collate)"
   ]
  },
  {
   "cell_type": "code",
   "execution_count": 35,
   "metadata": {},
   "outputs": [],
   "source": [
    "test_pred = bilstm_model.predict_loader(test_loader, device)"
   ]
  },
  {
   "cell_type": "code",
   "execution_count": 36,
   "metadata": {},
   "outputs": [
    {
     "name": "stdout",
     "output_type": "stream",
     "text": [
      "['O', 'O', 'O', 'O', 'O', 'O', 'O', 'O', 'O', 'O', 'O']\n",
      "['O', 'O', 'O', 'O', 'O', 'O', 'O', 'O', 'O', 'O', 'O']\n"
     ]
    }
   ],
   "source": [
    "print(test_pred[0], original_targets_split['test'][0], sep='\\n')"
   ]
  },
  {
   "cell_type": "code",
   "execution_count": 37,
   "metadata": {},
   "outputs": [],
   "source": [
    "report = seqeval.metrics.classification_report(original_targets_split['test'], test_pred, digits=3)"
   ]
  },
  {
   "cell_type": "code",
   "execution_count": 38,
   "metadata": {},
   "outputs": [],
   "source": [
    "test_report_save_path =f'{experiment_dir}/{experiment_config.experiment_name}/version_{exp.version}/test_report.txt'"
   ]
  },
  {
   "cell_type": "code",
   "execution_count": 39,
   "metadata": {},
   "outputs": [],
   "source": [
    "with open(test_report_save_path, 'w+') as of:\n",
    "    of.write(report)"
   ]
  },
  {
   "cell_type": "code",
   "execution_count": 40,
   "metadata": {},
   "outputs": [],
   "source": [
    "def predict_for_tokens(model: BiLSTM_BERT_Lightning, tokens, device='cuda'):\n",
    "    fake_targets = [['O' for _ in text] for text in tokens]\n",
    "    preproc_tokens, preproc_targets, _ = basic_preprocessing(tokens, fake_targets, \n",
    "                                                             replace_urls=experiment_config.replace_urls,\n",
    "                                                              replace_numbers=experiment_config.replace_numbers,\n",
    "                                                              split_hashtags=experiment_config.split_hashtags,\n",
    "                                                              split_mentions=experiment_config.split_nicknames)\n",
    "    preproc_tokens, preproc_targets, preproc_mask = bert_preprocessing(preproc_tokens, preproc_targets, bert_tokenizer, bert_specials)\n",
    "    input_ids, target_ids, mask_ids = bert_numericalize(preproc_tokens, preproc_targets, preproc_mask, bert_tokenizer, target_vocab)\n",
    "    \n",
    "    batch = BertEncoderDataset.collate(zip(input_ids, target_ids, mask_ids))\n",
    "    input_tensor, target_tensor, mask_tensor, lengths_tensor = batch\n",
    "    \n",
    "    input_tensor, mask_tensor, lengths_tensor = input_tensor.to(device), mask_tensor.to(device), lengths_tensor.to(device)\n",
    "    encoder_inputs, tagger_inputs = model.encoder_tagger_inputs(input_tensor, lengths_tensor)\n",
    "    \n",
    "    model.eval()\n",
    "    with torch.no_grad():\n",
    "        tags = bilstm_model.model.predict_tags(encoder_inputs, tagger_inputs, mask_tensor, target_vocab)\n",
    "        \n",
    "    return tags"
   ]
  },
  {
   "cell_type": "code",
   "execution_count": 41,
   "metadata": {},
   "outputs": [],
   "source": [
    "text_example = \"Satellite imagery this morning of now Category 5 Hurricane Dorian approaching the Abaco Islands in the northern Bahamas. For the latest on Dorian visit http://hurricanes.gov\""
   ]
  },
  {
   "cell_type": "code",
   "execution_count": 42,
   "metadata": {},
   "outputs": [],
   "source": [
    "import nltk"
   ]
  },
  {
   "cell_type": "code",
   "execution_count": 43,
   "metadata": {},
   "outputs": [
    {
     "name": "stdout",
     "output_type": "stream",
     "text": [
      "Satellite imagery this morning of now Category 5 Hurricane Dorian approaching the Abaco Islands in the northern Bahamas. For the latest on Dorian visit http://hurricanes.gov\n"
     ]
    }
   ],
   "source": [
    "print(text_example)"
   ]
  },
  {
   "cell_type": "code",
   "execution_count": 44,
   "metadata": {},
   "outputs": [
    {
     "name": "stdout",
     "output_type": "stream",
     "text": [
      "['Satellite', 'imagery', 'this', 'morning', 'of', 'now', 'Category', '5', 'Hurricane', 'Dorian', 'approaching', 'the', 'Abaco', 'Islands', 'in', 'the', 'northern', 'Bahamas', '.', 'For', 'the', 'latest', 'on', 'Dorian', 'visit', 'http://hurricanes.gov']\n"
     ]
    }
   ],
   "source": [
    "tokens_example = nltk.tokenize.TweetTokenizer().tokenize(text_example)\n",
    "print(tokens_example)"
   ]
  },
  {
   "cell_type": "code",
   "execution_count": 45,
   "metadata": {},
   "outputs": [
    {
     "data": {
      "application/vnd.jupyter.widget-view+json": {
       "model_id": "ee85f72317d14994b934d8bca68fcc73",
       "version_major": 2,
       "version_minor": 0
      },
      "text/plain": [
       "HBox(children=(IntProgress(value=0, max=1), HTML(value='')))"
      ]
     },
     "metadata": {},
     "output_type": "display_data"
    },
    {
     "name": "stdout",
     "output_type": "stream",
     "text": [
      "\n"
     ]
    }
   ],
   "source": [
    "prediction = predict_for_tokens(bilstm_model, [tokens_example])[0]"
   ]
  },
  {
   "cell_type": "code",
   "execution_count": 46,
   "metadata": {},
   "outputs": [
    {
     "name": "stdout",
     "output_type": "stream",
     "text": [
      "26 26\n"
     ]
    }
   ],
   "source": [
    "print( len(prediction), len(tokens_example))"
   ]
  },
  {
   "cell_type": "code",
   "execution_count": 47,
   "metadata": {},
   "outputs": [
    {
     "name": "stdout",
     "output_type": "stream",
     "text": [
      "Satellite O\n",
      "imagery O\n",
      "this O\n",
      "morning O\n",
      "of O\n",
      "now O\n",
      "Category O\n",
      "5 O\n",
      "Hurricane O\n",
      "Dorian O\n",
      "approaching O\n",
      "the O\n",
      "Abaco B-geo-loc\n",
      "Islands I-geo-loc\n",
      "in O\n",
      "the O\n",
      "northern B-geo-loc\n",
      "Bahamas B-geo-loc\n",
      ". O\n",
      "For O\n",
      "the O\n",
      "latest O\n",
      "on O\n",
      "Dorian B-person\n",
      "visit O\n",
      "http://hurricanes.gov O\n"
     ]
    }
   ],
   "source": [
    "for token, tag in zip(tokens_example, prediction):\n",
    "    print(token, tag)"
   ]
  }
 ],
 "metadata": {
  "kernelspec": {
   "display_name": "Python 3",
   "language": "python",
   "name": "python3"
  },
  "language_info": {
   "codemirror_mode": {
    "name": "ipython",
    "version": 3
   },
   "file_extension": ".py",
   "mimetype": "text/x-python",
   "name": "python",
   "nbconvert_exporter": "python",
   "pygments_lexer": "ipython3",
   "version": "3.6.9"
  }
 },
 "nbformat": 4,
 "nbformat_minor": 4
}
