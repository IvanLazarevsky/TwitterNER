{
 "cells": [
  {
   "cell_type": "markdown",
   "metadata": {},
   "source": [
    "Импортируем общий код"
   ]
  },
  {
   "cell_type": "code",
   "execution_count": 1,
   "metadata": {},
   "outputs": [
    {
     "name": "stdout",
     "output_type": "stream",
     "text": [
      "Requirement already satisfied: seqeval in /opt/conda/lib/python3.6/site-packages (0.0.12)\n",
      "Requirement already satisfied: nltk in /opt/conda/lib/python3.6/site-packages (3.4.5)\n",
      "Requirement already satisfied: Keras>=2.2.4 in /opt/conda/lib/python3.6/site-packages (from seqeval) (2.2.4)\n",
      "Requirement already satisfied: numpy>=1.14.0 in /opt/conda/lib/python3.6/site-packages (from seqeval) (1.16.4)\n",
      "Requirement already satisfied: six in /opt/conda/lib/python3.6/site-packages (from nltk) (1.12.0)\n",
      "Requirement already satisfied: keras-applications>=1.0.6 in /opt/conda/lib/python3.6/site-packages (from Keras>=2.2.4->seqeval) (1.0.8)\n",
      "Requirement already satisfied: keras-preprocessing>=1.0.5 in /opt/conda/lib/python3.6/site-packages (from Keras>=2.2.4->seqeval) (1.1.0)\n",
      "Requirement already satisfied: h5py in /opt/conda/lib/python3.6/site-packages (from Keras>=2.2.4->seqeval) (2.9.0)\n",
      "Requirement already satisfied: scipy>=0.14 in /opt/conda/lib/python3.6/site-packages (from Keras>=2.2.4->seqeval) (1.3.0)\n",
      "Requirement already satisfied: pyyaml in /opt/conda/lib/python3.6/site-packages (from Keras>=2.2.4->seqeval) (5.1.1)\n",
      "\u001b[33mWARNING: You are using pip version 19.2.2, however version 19.2.3 is available.\n",
      "You should consider upgrading via the 'pip install --upgrade pip' command.\u001b[0m\n",
      "Requirement already satisfied: pytorch-lightning in /opt/conda/lib/python3.6/site-packages (0.4.8)\n",
      "Requirement already satisfied: flair in /opt/conda/lib/python3.6/site-packages (0.4.3)\n",
      "Requirement already satisfied: torch==1.2.0 in /opt/conda/lib/python3.6/site-packages (from pytorch-lightning) (1.2.0)\n",
      "Requirement already satisfied: tqdm>=4.35.0 in /opt/conda/lib/python3.6/site-packages (from pytorch-lightning) (4.35.0)\n",
      "Requirement already satisfied: test-tube>=0.6.9 in /opt/conda/lib/python3.6/site-packages (from pytorch-lightning) (0.7.0)\n",
      "Requirement already satisfied: pandas>=0.20.3 in /opt/conda/lib/python3.6/site-packages (from pytorch-lightning) (0.25.0)\n",
      "Requirement already satisfied: pytorch-transformers>=1.1.0 in /opt/conda/lib/python3.6/site-packages (from flair) (1.1.0)\n",
      "Requirement already satisfied: hyperopt>=0.1.1 in /opt/conda/lib/python3.6/site-packages (from flair) (0.1.2)\n",
      "Requirement already satisfied: segtok>=1.5.7 in /opt/conda/lib/python3.6/site-packages (from flair) (1.5.7)\n",
      "Requirement already satisfied: sqlitedict>=1.6.0 in /opt/conda/lib/python3.6/site-packages (from flair) (1.6.0)\n",
      "Requirement already satisfied: gensim>=3.4.0 in /opt/conda/lib/python3.6/site-packages (from flair) (3.8.0)\n",
      "Requirement already satisfied: urllib3<1.25,>=1.20 in /opt/conda/lib/python3.6/site-packages (from flair) (1.24.2)\n",
      "Requirement already satisfied: sklearn in /opt/conda/lib/python3.6/site-packages (from flair) (0.0)\n",
      "Requirement already satisfied: pytest>=3.6.4 in /opt/conda/lib/python3.6/site-packages (from flair) (5.1.2)\n",
      "Requirement already satisfied: mpld3==0.3 in /opt/conda/lib/python3.6/site-packages (from flair) (0.3)\n",
      "Requirement already satisfied: regex in /opt/conda/lib/python3.6/site-packages (from flair) (2018.1.10)\n",
      "Requirement already satisfied: bpemb>=0.2.9 in /opt/conda/lib/python3.6/site-packages (from flair) (0.3.0)\n",
      "Requirement already satisfied: langdetect in /opt/conda/lib/python3.6/site-packages (from flair) (1.0.7)\n",
      "Requirement already satisfied: deprecated>=1.2.4 in /opt/conda/lib/python3.6/site-packages (from flair) (1.2.6)\n",
      "Requirement already satisfied: ipython==7.6.1 in /opt/conda/lib/python3.6/site-packages (from flair) (7.6.1)\n",
      "Requirement already satisfied: matplotlib>=2.2.3 in /opt/conda/lib/python3.6/site-packages (from flair) (3.1.0)\n",
      "Requirement already satisfied: ipython-genutils==0.2.0 in /opt/conda/lib/python3.6/site-packages (from flair) (0.2.0)\n",
      "Requirement already satisfied: tabulate in /opt/conda/lib/python3.6/site-packages (from flair) (0.8.3)\n",
      "Requirement already satisfied: numpy in /opt/conda/lib/python3.6/site-packages (from torch==1.2.0->pytorch-lightning) (1.16.4)\n",
      "Requirement already satisfied: future in /opt/conda/lib/python3.6/site-packages (from test-tube>=0.6.9->pytorch-lightning) (0.17.1)\n",
      "Requirement already satisfied: tb-nightly==1.15.0a20190708 in /opt/conda/lib/python3.6/site-packages (from test-tube>=0.6.9->pytorch-lightning) (1.15.0a20190708)\n",
      "Requirement already satisfied: imageio>=2.3.0 in /opt/conda/lib/python3.6/site-packages (from test-tube>=0.6.9->pytorch-lightning) (2.5.0)\n",
      "Requirement already satisfied: pytz>=2017.2 in /opt/conda/lib/python3.6/site-packages (from pandas>=0.20.3->pytorch-lightning) (2019.1)\n",
      "Requirement already satisfied: python-dateutil>=2.6.1 in /opt/conda/lib/python3.6/site-packages (from pandas>=0.20.3->pytorch-lightning) (2.8.0)\n",
      "Requirement already satisfied: boto3 in /opt/conda/lib/python3.6/site-packages (from pytorch-transformers>=1.1.0->flair) (1.9.221)\n",
      "Requirement already satisfied: requests in /opt/conda/lib/python3.6/site-packages (from pytorch-transformers>=1.1.0->flair) (2.22.0)\n",
      "Requirement already satisfied: sentencepiece in /opt/conda/lib/python3.6/site-packages (from pytorch-transformers>=1.1.0->flair) (0.1.83)\n",
      "Requirement already satisfied: pymongo in /opt/conda/lib/python3.6/site-packages (from hyperopt>=0.1.1->flair) (3.9.0)\n",
      "Requirement already satisfied: networkx in /opt/conda/lib/python3.6/site-packages (from hyperopt>=0.1.1->flair) (2.3)\n",
      "Requirement already satisfied: six in /opt/conda/lib/python3.6/site-packages (from hyperopt>=0.1.1->flair) (1.12.0)\n",
      "Requirement already satisfied: scipy in /opt/conda/lib/python3.6/site-packages (from hyperopt>=0.1.1->flair) (1.3.0)\n",
      "Requirement already satisfied: smart-open>=1.7.0 in /opt/conda/lib/python3.6/site-packages (from gensim>=3.4.0->flair) (1.8.4)\n",
      "Requirement already satisfied: scikit-learn in /opt/conda/lib/python3.6/site-packages (from sklearn->flair) (0.21.2)\n",
      "Requirement already satisfied: packaging in /opt/conda/lib/python3.6/site-packages (from pytest>=3.6.4->flair) (19.0)\n",
      "Requirement already satisfied: more-itertools>=4.0.0 in /opt/conda/lib/python3.6/site-packages (from pytest>=3.6.4->flair) (7.2.0)\n",
      "Requirement already satisfied: pluggy<1.0,>=0.12 in /opt/conda/lib/python3.6/site-packages (from pytest>=3.6.4->flair) (0.12.0)\n",
      "Requirement already satisfied: wcwidth in /opt/conda/lib/python3.6/site-packages (from pytest>=3.6.4->flair) (0.1.7)\n",
      "Requirement already satisfied: importlib-metadata>=0.12; python_version < \"3.8\" in /opt/conda/lib/python3.6/site-packages (from pytest>=3.6.4->flair) (0.20)\n",
      "Requirement already satisfied: attrs>=17.4.0 in /opt/conda/lib/python3.6/site-packages (from pytest>=3.6.4->flair) (19.1.0)\n",
      "Requirement already satisfied: atomicwrites>=1.0 in /opt/conda/lib/python3.6/site-packages (from pytest>=3.6.4->flair) (1.3.0)\n",
      "Requirement already satisfied: py>=1.5.0 in /opt/conda/lib/python3.6/site-packages (from pytest>=3.6.4->flair) (1.8.0)\n",
      "Requirement already satisfied: wrapt<2,>=1.10 in /opt/conda/lib/python3.6/site-packages (from deprecated>=1.2.4->flair) (1.10.11)\n",
      "Requirement already satisfied: prompt-toolkit<2.1.0,>=2.0.0 in /opt/conda/lib/python3.6/site-packages (from ipython==7.6.1->flair) (2.0.9)\n",
      "Requirement already satisfied: pygments in /opt/conda/lib/python3.6/site-packages (from ipython==7.6.1->flair) (2.4.2)\n",
      "Requirement already satisfied: jedi>=0.10 in /opt/conda/lib/python3.6/site-packages (from ipython==7.6.1->flair) (0.15.1)\n",
      "Requirement already satisfied: pexpect; sys_platform != \"win32\" in /opt/conda/lib/python3.6/site-packages (from ipython==7.6.1->flair) (4.7.0)\n",
      "Requirement already satisfied: backcall in /opt/conda/lib/python3.6/site-packages (from ipython==7.6.1->flair) (0.1.0)\n",
      "Requirement already satisfied: setuptools>=18.5 in /opt/conda/lib/python3.6/site-packages (from ipython==7.6.1->flair) (41.0.1)\n",
      "Requirement already satisfied: traitlets>=4.2 in /opt/conda/lib/python3.6/site-packages (from ipython==7.6.1->flair) (4.3.2)\n",
      "Requirement already satisfied: decorator in /opt/conda/lib/python3.6/site-packages (from ipython==7.6.1->flair) (4.4.0)\n",
      "Requirement already satisfied: pickleshare in /opt/conda/lib/python3.6/site-packages (from ipython==7.6.1->flair) (0.7.5)\n",
      "Requirement already satisfied: cycler>=0.10 in /opt/conda/lib/python3.6/site-packages (from matplotlib>=2.2.3->flair) (0.10.0)\n",
      "Requirement already satisfied: kiwisolver>=1.0.1 in /opt/conda/lib/python3.6/site-packages (from matplotlib>=2.2.3->flair) (1.1.0)\n",
      "Requirement already satisfied: pyparsing!=2.0.4,!=2.1.2,!=2.1.6,>=2.0.1 in /opt/conda/lib/python3.6/site-packages (from matplotlib>=2.2.3->flair) (2.4.0)\n",
      "Requirement already satisfied: grpcio>=1.6.3 in /opt/conda/lib/python3.6/site-packages (from tb-nightly==1.15.0a20190708->test-tube>=0.6.9->pytorch-lightning) (1.16.1)\n",
      "Requirement already satisfied: markdown>=2.6.8 in /opt/conda/lib/python3.6/site-packages (from tb-nightly==1.15.0a20190708->test-tube>=0.6.9->pytorch-lightning) (3.1.1)\n",
      "Requirement already satisfied: protobuf>=3.6.0 in /opt/conda/lib/python3.6/site-packages (from tb-nightly==1.15.0a20190708->test-tube>=0.6.9->pytorch-lightning) (3.8.0)\n",
      "Requirement already satisfied: werkzeug>=0.11.15 in /opt/conda/lib/python3.6/site-packages (from tb-nightly==1.15.0a20190708->test-tube>=0.6.9->pytorch-lightning) (0.15.4)\n",
      "Requirement already satisfied: absl-py>=0.4 in /opt/conda/lib/python3.6/site-packages (from tb-nightly==1.15.0a20190708->test-tube>=0.6.9->pytorch-lightning) (0.7.1)\n",
      "Requirement already satisfied: wheel>=0.26; python_version >= \"3\" in /opt/conda/lib/python3.6/site-packages (from tb-nightly==1.15.0a20190708->test-tube>=0.6.9->pytorch-lightning) (0.33.4)\n",
      "Requirement already satisfied: s3transfer<0.3.0,>=0.2.0 in /opt/conda/lib/python3.6/site-packages (from boto3->pytorch-transformers>=1.1.0->flair) (0.2.1)\n",
      "Requirement already satisfied: jmespath<1.0.0,>=0.7.1 in /opt/conda/lib/python3.6/site-packages (from boto3->pytorch-transformers>=1.1.0->flair) (0.9.4)\n",
      "Requirement already satisfied: botocore<1.13.0,>=1.12.221 in /opt/conda/lib/python3.6/site-packages (from boto3->pytorch-transformers>=1.1.0->flair) (1.12.221)\n",
      "Requirement already satisfied: chardet<3.1.0,>=3.0.2 in /opt/conda/lib/python3.6/site-packages (from requests->pytorch-transformers>=1.1.0->flair) (3.0.4)\n",
      "Requirement already satisfied: certifi>=2017.4.17 in /opt/conda/lib/python3.6/site-packages (from requests->pytorch-transformers>=1.1.0->flair) (2019.6.16)\n",
      "Requirement already satisfied: idna<2.9,>=2.5 in /opt/conda/lib/python3.6/site-packages (from requests->pytorch-transformers>=1.1.0->flair) (2.8)\n",
      "Requirement already satisfied: boto>=2.32 in /opt/conda/lib/python3.6/site-packages (from smart-open>=1.7.0->gensim>=3.4.0->flair) (2.49.0)\n",
      "Requirement already satisfied: joblib>=0.11 in /opt/conda/lib/python3.6/site-packages (from scikit-learn->sklearn->flair) (0.13.2)\n",
      "Requirement already satisfied: zipp>=0.5 in /opt/conda/lib/python3.6/site-packages (from importlib-metadata>=0.12; python_version < \"3.8\"->pytest>=3.6.4->flair) (0.6.0)\n",
      "Requirement already satisfied: parso>=0.5.0 in /opt/conda/lib/python3.6/site-packages (from jedi>=0.10->ipython==7.6.1->flair) (0.5.1)\n",
      "Requirement already satisfied: ptyprocess>=0.5 in /opt/conda/lib/python3.6/site-packages (from pexpect; sys_platform != \"win32\"->ipython==7.6.1->flair) (0.6.0)\n",
      "Requirement already satisfied: docutils<0.16,>=0.10 in /opt/conda/lib/python3.6/site-packages (from botocore<1.13.0,>=1.12.221->boto3->pytorch-transformers>=1.1.0->flair) (0.15.2)\n",
      "\u001b[33mWARNING: You are using pip version 19.2.2, however version 19.2.3 is available.\n",
      "You should consider upgrading via the 'pip install --upgrade pip' command.\u001b[0m\n",
      "Requirement already satisfied: pytorch-transformers in /opt/conda/lib/python3.6/site-packages (1.1.0)\n",
      "Requirement already satisfied: regex in /opt/conda/lib/python3.6/site-packages (from pytorch-transformers) (2018.1.10)\n",
      "Requirement already satisfied: sentencepiece in /opt/conda/lib/python3.6/site-packages (from pytorch-transformers) (0.1.83)\n",
      "Requirement already satisfied: tqdm in /opt/conda/lib/python3.6/site-packages (from pytorch-transformers) (4.35.0)\n",
      "Requirement already satisfied: boto3 in /opt/conda/lib/python3.6/site-packages (from pytorch-transformers) (1.9.221)\n",
      "Requirement already satisfied: numpy in /opt/conda/lib/python3.6/site-packages (from pytorch-transformers) (1.16.4)\n",
      "Requirement already satisfied: requests in /opt/conda/lib/python3.6/site-packages (from pytorch-transformers) (2.22.0)\n",
      "Requirement already satisfied: torch>=1.0.0 in /opt/conda/lib/python3.6/site-packages (from pytorch-transformers) (1.2.0)\n",
      "Requirement already satisfied: botocore<1.13.0,>=1.12.221 in /opt/conda/lib/python3.6/site-packages (from boto3->pytorch-transformers) (1.12.221)\n",
      "Requirement already satisfied: s3transfer<0.3.0,>=0.2.0 in /opt/conda/lib/python3.6/site-packages (from boto3->pytorch-transformers) (0.2.1)\n",
      "Requirement already satisfied: jmespath<1.0.0,>=0.7.1 in /opt/conda/lib/python3.6/site-packages (from boto3->pytorch-transformers) (0.9.4)\n",
      "Requirement already satisfied: chardet<3.1.0,>=3.0.2 in /opt/conda/lib/python3.6/site-packages (from requests->pytorch-transformers) (3.0.4)\n",
      "Requirement already satisfied: idna<2.9,>=2.5 in /opt/conda/lib/python3.6/site-packages (from requests->pytorch-transformers) (2.8)\n",
      "Requirement already satisfied: certifi>=2017.4.17 in /opt/conda/lib/python3.6/site-packages (from requests->pytorch-transformers) (2019.6.16)\n",
      "Requirement already satisfied: urllib3!=1.25.0,!=1.25.1,<1.26,>=1.21.1 in /opt/conda/lib/python3.6/site-packages (from requests->pytorch-transformers) (1.24.2)\n",
      "Requirement already satisfied: docutils<0.16,>=0.10 in /opt/conda/lib/python3.6/site-packages (from botocore<1.13.0,>=1.12.221->boto3->pytorch-transformers) (0.15.2)\n",
      "Requirement already satisfied: python-dateutil<3.0.0,>=2.1; python_version >= \"2.7\" in /opt/conda/lib/python3.6/site-packages (from botocore<1.13.0,>=1.12.221->boto3->pytorch-transformers) (2.8.0)\n",
      "Requirement already satisfied: six>=1.5 in /opt/conda/lib/python3.6/site-packages (from python-dateutil<3.0.0,>=2.1; python_version >= \"2.7\"->botocore<1.13.0,>=1.12.221->boto3->pytorch-transformers) (1.12.0)\n",
      "\u001b[33mWARNING: You are using pip version 19.2.2, however version 19.2.3 is available.\n",
      "You should consider upgrading via the 'pip install --upgrade pip' command.\u001b[0m\n"
     ]
    }
   ],
   "source": [
    "%run NER_common.ipynb"
   ]
  },
  {
   "cell_type": "code",
   "execution_count": 2,
   "metadata": {},
   "outputs": [],
   "source": [
    "import pytorch_transformers\n",
    "import seqeval.metrics\n",
    "from tqdm import tqdm_notebook\n",
    "\n",
    "import numpy as np\n",
    "from itertools import chain, islice\n",
    "from collections import Counter\n",
    "from collections import defaultdict\n",
    "from functools import partial"
   ]
  },
  {
   "cell_type": "code",
   "execution_count": 3,
   "metadata": {},
   "outputs": [],
   "source": [
    "import torch\n",
    "from torch import nn\n",
    "import torch.nn.functional as F\n",
    "from torch.utils.data import TensorDataset, Dataset, DataLoader\n",
    "import pytorch_lightning as pl\n",
    "from test_tube import Experiment\n",
    "import argparse\n",
    "import os.path"
   ]
  },
  {
   "cell_type": "markdown",
   "metadata": {},
   "source": [
    "Для проведения эксперимента используются pytorch-lightning и test_tube. <br>\n",
    "Опишем параметры эксперимента. Можно изменять их значения перед дальнейшим исполнением. Также они сохранены в директории experiment_dir/experiment_name/версия-эксперимента (test_tube делает ее автоинкремент основываясь на содержимом директории) в файле meta_tags.csv. <br>\n",
    "Файл metrics.csv хранит логи метрик (каждый 100 итераций при обучении, также логируются результаты валидации).\n",
    "\n",
    "Суть эксперимента:\n",
    "Мы будем производить fine-tuning (дообучение) претренированной модели BERT (bert-base-cased) под текущую задачу. <br>\n",
    "Причины выбора модели: малое количество данных повышает необходимость в пре-тренированных представлениях, модели, основанные на BERT, показывают высокие результаты на множестве задач NER, модель чувствительна к регистру и использует Byte-pair encoding для улучшения работы с редкими словами.\n",
    "\n",
    "Поскольку токенизация у этой модели может расцепить оригинальные токены, в этом случае предсказание для первого субтокена из разбиения считается предсказанием для всего оригинального токена. Также для последующих субтокенов не считается loss."
   ]
  },
  {
   "cell_type": "code",
   "execution_count": 4,
   "metadata": {},
   "outputs": [],
   "source": [
    "experiment_config = argparse.Namespace()\n",
    "experiment_config.basic_model = 'BERT'\n",
    "\n",
    "experiment_config.replace_urls = True\n",
    "experiment_config.replace_numbers = False \n",
    "experiment_config.split_hashtags = False # оставить False, не реализовано, BertTokenizer сам это сделает\n",
    "experiment_config.split_nicknames = False # оставить False, не реализовано,  BertTokenizer сам это сделает\n",
    "\n",
    "experiment_config.val_batch_size = 24\n",
    "experiment_config.train_batch_size = 16\n",
    "experiment_config.lr = 2e-5\n",
    "experiment_config.gradient_acccumulation_steps = 1 # фактически batch_size = train_batch_size * gradient_accumulation_steps\n",
    "experiment_config.gradient_clipping_norm = 5.0\n",
    "experiment_config.n_epochs = 5\n",
    "experiment_config.mask_additional_wordpieces = True # оставить True, не реализовано\n",
    "\n",
    "experiment_dir = 'NER_experiments/'\n",
    "experiment_config.experiment_name = 'BERT_finetune_mask'"
   ]
  },
  {
   "cell_type": "markdown",
   "metadata": {},
   "source": [
    "Прочтём файлы и подсчитаем число тегов."
   ]
  },
  {
   "cell_type": "code",
   "execution_count": 5,
   "metadata": {},
   "outputs": [],
   "source": [
    "original_inputs, original_targets = read_data('data/data.txt')"
   ]
  },
  {
   "cell_type": "markdown",
   "metadata": {},
   "source": [
    "Проведём сортировку так, чтобы тег O имел позицию 0 в словаре"
   ]
  },
  {
   "cell_type": "code",
   "execution_count": 6,
   "metadata": {},
   "outputs": [],
   "source": [
    "unique_tags = sorted(count_tags(original_targets).keys(), key=lambda tag: tag[2:])\n",
    "experiment_config.n_classes = len(unique_tags)"
   ]
  },
  {
   "cell_type": "code",
   "execution_count": 7,
   "metadata": {},
   "outputs": [
    {
     "name": "stdout",
     "output_type": "stream",
     "text": [
      "['O', 'B-company', 'I-company', 'B-facility', 'I-facility', 'B-geo-loc', 'I-geo-loc', 'B-movie', 'I-movie', 'B-musicartist', 'I-musicartist', 'B-other', 'I-other', 'B-person', 'I-person', 'B-product', 'I-product', 'B-sportsteam', 'I-sportsteam', 'B-tvshow', 'I-tvshow']\n"
     ]
    }
   ],
   "source": [
    "print(unique_tags)"
   ]
  },
  {
   "cell_type": "code",
   "execution_count": 8,
   "metadata": {},
   "outputs": [
    {
     "name": "stdout",
     "output_type": "stream",
     "text": [
      "21\n"
     ]
    }
   ],
   "source": [
    "print(experiment_config.n_classes)"
   ]
  },
  {
   "cell_type": "markdown",
   "metadata": {},
   "source": [
    "Препроцессинг токенов при помощи wordpiece токенайзера. Он применяется к каждому оригинальному токену по отдельности. Предполагается, что расщеплений хэштегов и имен не было. В случае если появились спец-токены (&lt;NUM&gt;, &lt;URL&gt;), не будем применять к ним токенайзер, но назначим им свободные слоты в словаре BERT ([unused1], [unused2]), это отображение описывается в словаре bert_specials. \n",
    "\n",
    "Функция также возвращает для каждого текста булеву маску, где True значения соответствуют местам, в которых подсчитываются предсказания для оригинальных токенов, как описано выше."
   ]
  },
  {
   "cell_type": "code",
   "execution_count": 9,
   "metadata": {},
   "outputs": [],
   "source": [
    "def bert_preprocessing(inputs, targets, bert_tokenizer, bert_specials=None):\n",
    "    new_inputs = []\n",
    "    new_targets = []\n",
    "    masks = []\n",
    "#     bert_tokenizer = pytorch_transformers.BertTokenizer.from_pretrained('bert-base-uncased')\n",
    "    for text, tags in tqdm_notebook(zip(inputs, targets), total=len(inputs)):\n",
    "        new_tokens, new_tags = [],[]\n",
    "        mask = []\n",
    "        for token, tag in zip(text, tags):\n",
    "            if bert_specials and token in bert_specials:\n",
    "                token_pieces = [bert_specials[token]]\n",
    "            else:\n",
    "                token_pieces = bert_tokenizer.tokenize(token)\n",
    "            new_tokens.extend(token_pieces)\n",
    "            new_tags.extend(split_tag(tag, len(token_pieces)))\n",
    "            if experiment_config.mask_additional_wordpieces:\n",
    "                mask.extend([True] + [False] * (len(token_pieces) - 1))\n",
    "            else:\n",
    "                mask.extend([True] * len(token_pieces))\n",
    "        new_inputs.append(new_tokens)\n",
    "        new_targets.append(new_tags)\n",
    "        masks.append(mask)\n",
    "    return new_inputs, new_targets, masks"
   ]
  },
  {
   "cell_type": "markdown",
   "metadata": {},
   "source": [
    "Трансформация токенов, тегов и маски для модели Bert в индексы в словарях. Текст дополняется токенами [CLS] и [MASK], соответственно дополняются теги и маска."
   ]
  },
  {
   "cell_type": "code",
   "execution_count": 10,
   "metadata": {},
   "outputs": [],
   "source": [
    "def bert_numericalize_targets(targets, target_vocab):\n",
    "    target_ids = target_vocab.numericalize(targets)\n",
    "    return [[0] + ids + [0] for ids in target_ids]\n",
    "\n",
    "def bert_numericalize_mask(masks):\n",
    "    return [[False] + mask + [False] for mask in masks]\n",
    "\n",
    "def bert_numericalize_inputs(inputs, bert_tokenizer):\n",
    "    result = []\n",
    "    for input_tokens in inputs:\n",
    "        ids = [bert_tokenizer._convert_token_to_id(tok) for tok in input_tokens]\n",
    "        ids = bert_tokenizer.add_special_tokens_single_sentence(ids)\n",
    "        result.append(ids)\n",
    "    return result"
   ]
  },
  {
   "cell_type": "markdown",
   "metadata": {},
   "source": [
    "Объединим эти функции."
   ]
  },
  {
   "cell_type": "code",
   "execution_count": 11,
   "metadata": {},
   "outputs": [],
   "source": [
    "def bert_numericalize(inputs, targets, masks, bert_tokenizer, target_vocab):\n",
    "    input_ids = bert_numericalize_inputs(inputs, bert_tokenizer)\n",
    "    target_ids = bert_numericalize_targets(targets, target_vocab)\n",
    "    mask_ids = bert_numericalize_mask(masks)\n",
    "    return input_ids, target_ids, mask_ids"
   ]
  },
  {
   "cell_type": "markdown",
   "metadata": {},
   "source": [
    "Теперь зададим Dataset и функцию создания мини-батча из тензоров. Батчи имеют динамический длину (макс. длина из выборки экземпляров)"
   ]
  },
  {
   "cell_type": "code",
   "execution_count": 12,
   "metadata": {},
   "outputs": [],
   "source": [
    "class BertDataset(Dataset):\n",
    "    def __init__(self, input_ids, target_ids, mask_ids):\n",
    "        self.inputs = input_ids\n",
    "        self.targets = target_ids\n",
    "        self.masks = mask_ids\n",
    "        assert len(input_ids) == len(target_ids) == len(self.masks)\n",
    "        \n",
    "    def __len__(self):\n",
    "        return len(self.inputs)\n",
    "    \n",
    "    def __getitem__(self, idx):\n",
    "        return (self.inputs[idx], self.targets[idx], self.masks[idx])\n",
    "    \n",
    "    @staticmethod\n",
    "    def collate(examples):\n",
    "        inputs, targets, masks = [],[],[]\n",
    "        for inp, tgt, msk in examples:\n",
    "            inputs.append(torch.tensor(inp, dtype=torch.long))\n",
    "            targets.append(torch.tensor(tgt, dtype=torch.long))\n",
    "            masks.append(torch.tensor(msk, dtype=torch.bool))\n",
    "            \n",
    "        input_tensor = torch.nn.utils.rnn.pad_sequence(inputs, batch_first=True)\n",
    "        target_tensor = torch.nn.utils.rnn.pad_sequence(targets, batch_first=True)\n",
    "        mask_tensor = torch.nn.utils.rnn.pad_sequence(masks, batch_first=True)\n",
    "#         print(input_tensor.size(), target_tensor.size(), mask_tensor.size())\n",
    "        return input_tensor, target_tensor, mask_tensor"
   ]
  },
  {
   "cell_type": "code",
   "execution_count": 13,
   "metadata": {},
   "outputs": [
    {
     "name": "stderr",
     "output_type": "stream",
     "text": [
      "The pre-trained model you are loading is a cased model but you have not set `do_lower_case` to False. We are setting `do_lower_case=False` for you but you may want to check this behavior.\n"
     ]
    }
   ],
   "source": [
    "bert_tokenizer = pytorch_transformers.BertTokenizer.from_pretrained('bert-base-cased')"
   ]
  },
  {
   "cell_type": "code",
   "execution_count": 14,
   "metadata": {},
   "outputs": [],
   "source": [
    "bert_specials = {'<URL>': '[unused1]', '<NUM>': '[unused2]'}"
   ]
  },
  {
   "cell_type": "markdown",
   "metadata": {},
   "source": [
    "Назначим тегам номера."
   ]
  },
  {
   "cell_type": "code",
   "execution_count": 15,
   "metadata": {},
   "outputs": [],
   "source": [
    "target_vocab = Vocab.from_id2word(unique_tags, unk_index=None, n_specials=0)"
   ]
  },
  {
   "cell_type": "markdown",
   "metadata": {},
   "source": [
    "Проведём базовую предобработку (выбросим URL и заменим числа, если указано в конфигурации)"
   ]
  },
  {
   "cell_type": "code",
   "execution_count": 16,
   "metadata": {},
   "outputs": [],
   "source": [
    "inputs, targets, _ = basic_preprocessing(original_inputs, original_targets,\n",
    "                                      replace_urls=experiment_config.replace_urls,\n",
    "                                      replace_numbers=experiment_config.replace_numbers,\n",
    "                                      split_hashtags=False,\n",
    "                                      split_mentions=False)"
   ]
  },
  {
   "cell_type": "code",
   "execution_count": 17,
   "metadata": {},
   "outputs": [
    {
     "data": {
      "application/vnd.jupyter.widget-view+json": {
       "model_id": "c04555d706e447238a6f47dde8824553",
       "version_major": 2,
       "version_minor": 0
      },
      "text/plain": [
       "HBox(children=(IntProgress(value=0, max=7243), HTML(value='')))"
      ]
     },
     "metadata": {},
     "output_type": "display_data"
    },
    {
     "name": "stdout",
     "output_type": "stream",
     "text": [
      "\n"
     ]
    }
   ],
   "source": [
    "bert_tokenized_inputs, bert_tokenized_targets, bert_masks = bert_preprocessing(inputs, targets, bert_tokenizer, bert_specials)"
   ]
  },
  {
   "cell_type": "markdown",
   "metadata": {},
   "source": [
    "Рассмотрим пример токенизации"
   ]
  },
  {
   "cell_type": "code",
   "execution_count": 18,
   "metadata": {},
   "outputs": [
    {
     "name": "stdout",
     "output_type": "stream",
     "text": [
      "['Man', 'i', 'hate', 'when', 'people', 'carry', 'ragedy', 'luggage', '..', 'ima', 'just', 'rip', 'it', 'up', 'more', 'with', 'the', 'belt', 'loader', '#itaintmines']\n"
     ]
    }
   ],
   "source": [
    "print(original_inputs[0])"
   ]
  },
  {
   "cell_type": "code",
   "execution_count": 19,
   "metadata": {},
   "outputs": [
    {
     "name": "stdout",
     "output_type": "stream",
     "text": [
      "['Man', 'i', 'hate', 'when', 'people', 'carry', 'rage', '##dy', 'luggage', '.', '.', 'im', '##a', 'just', 'rip', 'it', 'up', 'more', 'with', 'the', 'belt', 'load', '##er', '#', 'it', '##ain', '##t', '##mine', '##s']\n"
     ]
    }
   ],
   "source": [
    "print(bert_tokenized_inputs[0])"
   ]
  },
  {
   "cell_type": "code",
   "execution_count": 20,
   "metadata": {},
   "outputs": [
    {
     "name": "stdout",
     "output_type": "stream",
     "text": [
      "['O', 'O', 'O', 'O', 'O', 'O', 'O', 'O', 'O', 'O', 'O', 'O', 'O', 'O', 'O', 'O', 'O', 'O', 'O', 'O', 'O', 'O', 'O', 'O', 'O', 'O', 'O', 'O', 'O']\n"
     ]
    }
   ],
   "source": [
    "print(bert_tokenized_targets[0])"
   ]
  },
  {
   "cell_type": "code",
   "execution_count": 21,
   "metadata": {},
   "outputs": [
    {
     "name": "stdout",
     "output_type": "stream",
     "text": [
      "[True, True, True, True, True, True, True, False, True, True, False, True, False, True, True, True, True, True, True, True, True, True, False, True, False, False, False, False, False]\n"
     ]
    }
   ],
   "source": [
    "print(bert_masks[0])"
   ]
  },
  {
   "cell_type": "code",
   "execution_count": 22,
   "metadata": {},
   "outputs": [],
   "source": [
    "split_names = ['train', 'val', 'test']"
   ]
  },
  {
   "cell_type": "markdown",
   "metadata": {},
   "source": [
    "Разобъём данные по предопределенным выборкам."
   ]
  },
  {
   "cell_type": "code",
   "execution_count": 23,
   "metadata": {},
   "outputs": [],
   "source": [
    "original_inputs_split, original_targets_split = split_to_dicts([original_inputs, original_targets],\n",
    "                                                                 (train_indices, val_indices, test_indices), \n",
    "                                                                 split_names)"
   ]
  },
  {
   "cell_type": "code",
   "execution_count": 24,
   "metadata": {},
   "outputs": [],
   "source": [
    "bert_inputs_split, bert_targets_split, bert_masks_split = split_to_dicts([bert_tokenized_inputs, bert_tokenized_targets, bert_masks],\n",
    "                                                                 (train_indices, val_indices, test_indices), \n",
    "                                                                 split_names)"
   ]
  },
  {
   "cell_type": "code",
   "execution_count": 25,
   "metadata": {},
   "outputs": [],
   "source": [
    "bert_numericalized_inputs, bert_numericalized_targets, bert_numericalized_masks = bert_numericalize(bert_tokenized_inputs, \n",
    "                                                                                                    bert_tokenized_targets,\n",
    "                                                                                                    bert_masks, bert_tokenizer, target_vocab)"
   ]
  },
  {
   "cell_type": "code",
   "execution_count": 26,
   "metadata": {},
   "outputs": [
    {
     "name": "stdout",
     "output_type": "stream",
     "text": [
      "[False, True, True, True, True, True, True, True, False, True, True, False, True, False, True, True, True, True, True, True, True, True, True, False, True, False, False, False, False, False, False]\n"
     ]
    }
   ],
   "source": [
    "print(bert_numericalized_masks[0])"
   ]
  },
  {
   "cell_type": "code",
   "execution_count": 27,
   "metadata": {},
   "outputs": [],
   "source": [
    "bert_input_ids_spl, bert_target_ids_spl, bert_mask_ids_spl = split_to_dicts([bert_numericalized_inputs, bert_numericalized_targets, bert_numericalized_masks],\n",
    "                                                                            (train_indices, val_indices, test_indices), split_names)"
   ]
  },
  {
   "cell_type": "markdown",
   "metadata": {},
   "source": [
    "Создадим соответствующие Datasetы."
   ]
  },
  {
   "cell_type": "code",
   "execution_count": 28,
   "metadata": {},
   "outputs": [],
   "source": [
    "train_dataset = BertDataset(*[spl['train'] for spl in (bert_input_ids_spl, bert_target_ids_spl, bert_mask_ids_spl)])"
   ]
  },
  {
   "cell_type": "code",
   "execution_count": 29,
   "metadata": {},
   "outputs": [],
   "source": [
    "val_dataset = BertDataset(*[spl['val'] for spl in (bert_input_ids_spl, bert_target_ids_spl, bert_mask_ids_spl)])"
   ]
  },
  {
   "cell_type": "code",
   "execution_count": 30,
   "metadata": {},
   "outputs": [],
   "source": [
    "test_dataset = BertDataset(*[spl['test'] for spl in (bert_input_ids_spl, bert_target_ids_spl, bert_mask_ids_spl)])"
   ]
  },
  {
   "cell_type": "markdown",
   "metadata": {},
   "source": [
    "masked_crossentropy_loss подсчитывает loss по всему тензору, но при свёртке игнорирует позиции под маской."
   ]
  },
  {
   "cell_type": "code",
   "execution_count": 31,
   "metadata": {},
   "outputs": [],
   "source": [
    "def masked_crossentropy_loss(logits, targets, masked):\n",
    "    loss_values = F.cross_entropy(logits.view(-1, logits.size(-1)), targets.view(-1), reduction='none')\n",
    "    loss_values[masked.view(-1)] = 0\n",
    "    return loss_values.sum() / (~masked).sum() # считаем среднее только по незамаскированным позициям"
   ]
  },
  {
   "cell_type": "markdown",
   "metadata": {},
   "source": [
    "Используем претренированную реализацию от huggingface с \"головой\" для теггинга.\n",
    "При forward-проходе сделаем маску, чтобы self-attention не работал по пэддингу."
   ]
  },
  {
   "cell_type": "code",
   "execution_count": 32,
   "metadata": {},
   "outputs": [],
   "source": [
    "class BERTForNER(nn.Module):\n",
    "    def __init__(self, exp_config):\n",
    "        super().__init__()\n",
    "        self.model = pytorch_transformers.BertForTokenClassification.from_pretrained('bert-base-cased', \n",
    "                                                                                     num_labels=exp_config.n_classes)   \n",
    "    def forward(self, inputs):\n",
    "        attention_mask = (inputs != 0).type(torch.float32)\n",
    "        return self.model(inputs, attention_mask=attention_mask)[0]"
   ]
  },
  {
   "cell_type": "markdown",
   "metadata": {},
   "source": [
    "Опишем предсказание для оригинальной токенизации"
   ]
  },
  {
   "cell_type": "code",
   "execution_count": 33,
   "metadata": {},
   "outputs": [],
   "source": [
    "def bert_compute_lengths_by_padding(inputs):\n",
    "    return ((inputs != 0).sum(dim=-1) - 2).tolist()\n",
    "\n",
    "def bert_predict_tags_with_mask(model, inputs, tag_mask, target_vocab):\n",
    "    model.eval()\n",
    "    result = []\n",
    "    with torch.no_grad():\n",
    "        logits = model(inputs)\n",
    "        seqs = logits.argmax(dim=-1)\n",
    "        for i,pred in enumerate(seqs):\n",
    "            pred = pred[tag_mask[i]].tolist()\n",
    "            result.append(target_vocab.transform_ids(pred))\n",
    "    return result\n",
    "\n",
    "def bert_predict_tags_for_loader(model, loader, target_vocab, use_mask=True, device='cuda'):        \n",
    "    result = []\n",
    "    for batch in loader:\n",
    "        if use_mask:\n",
    "            inputs,_,mask = [x.to(device) for x in batch]\n",
    "            result.extend(bert_predict_tags_with_mask(model, inputs, mask, target_vocab))\n",
    "        else:\n",
    "            raise ValueError(\"Not implemented yet\")\n",
    "    return result"
   ]
  },
  {
   "cell_type": "markdown",
   "metadata": {},
   "source": [
    "Опишем LightningModule, оборачивающий модель. В нём описывается поведение при обучении и валидации, а также загрузчики данных. Модуль полагается на глобальные переменные, но всё, что не касается обучения и текущего эксперимента, вынесено за его пределы и не полагается на них.\n",
    "\n",
    "После каждого прохода по валидационной выборке, в лог записывается f1-метрика и выводится classification_report."
   ]
  },
  {
   "cell_type": "code",
   "execution_count": 34,
   "metadata": {},
   "outputs": [],
   "source": [
    "class LightningBERTMasking(pl.LightningModule):\n",
    "    def __init__(self, config):\n",
    "        super().__init__()\n",
    "        self.model = BERTForNER(config)\n",
    "        self.config = config\n",
    "        self.lr = config.lr\n",
    "        self.train_batch_size = config.train_batch_size\n",
    "        self.val_batch_size = config.val_batch_size\n",
    "\n",
    "    def forward(self, inputs):\n",
    "        return self.model(inputs)\n",
    "    \n",
    "    def compute_loss_on_batch(self, batch):\n",
    "        inputs, targets, mask = batch\n",
    "        logits = self(inputs)\n",
    "        \n",
    "        loss_mask = ~mask\n",
    "        loss = masked_crossentropy_loss(logits, targets, loss_mask)\n",
    "        return loss\n",
    "    \n",
    "    def training_step(self, batch, batch_nb):\n",
    "        # REQUIRED\n",
    "        loss = self.compute_loss_on_batch(batch)\n",
    "        return {'loss': loss}\n",
    "\n",
    "    def validation_step(self, batch, batch_nb):\n",
    "        # OPTIONAL\n",
    "        loss = self.compute_loss_on_batch(batch)\n",
    "        inputs, targets, mask = batch\n",
    "        predicted_tags = bert_predict_tags_with_mask(self, inputs, mask, target_vocab)\n",
    "        \n",
    "        return {'val_loss': loss, 'tags': predicted_tags}\n",
    "\n",
    "    def validation_end(self, outputs):\n",
    "        # OPTIONAL\n",
    "        avg_loss = torch.tensor([x['val_loss'] for x in outputs]).mean()\n",
    "        predictions = list(chain.from_iterable(x['tags'] for x in outputs))\n",
    "        f1_score = seqeval.metrics.f1_score(original_targets_split['val'], predictions)\n",
    "        \n",
    "        print(seqeval.metrics.classification_report(original_targets_split['val'], predictions))\n",
    "        metrics = {'avg_val_loss': avg_loss.item(), 'f1': f1_score}\n",
    "        metrics_to_write = dict(metrics, epoch=self.trainer.current_epoch+1)\n",
    "#         metrics.update(self.trainer.tng_tqdm_dic)\n",
    "        \n",
    "#         scalar_metrics = self.trainer.__metrics_to_scalars(\n",
    "#                     metrics, blacklist=self.trainer.__log_vals_blacklist())\n",
    "        \n",
    "        assert self.experiment\n",
    "        self.experiment.log(metrics_to_write)\n",
    "        self.experiment.save()\n",
    "        \n",
    "        return metrics\n",
    "\n",
    "    def configure_optimizers(self):\n",
    "        # REQUIRED\n",
    "        # can return multiple optimizers and learning_rate schedulers\n",
    "        return torch.optim.Adam(self.parameters(), lr=self.lr)\n",
    "\n",
    "    @pl.data_loader\n",
    "    def tng_dataloader(self):\n",
    "        # REQUIRED\n",
    "        assert isinstance(train_dataset, BertDataset)\n",
    "        return DataLoader(train_dataset, batch_size=self.train_batch_size, shuffle=True, collate_fn=BertDataset.collate)\n",
    "\n",
    "    @pl.data_loader\n",
    "    def val_dataloader(self):\n",
    "        # OPTIONAL\n",
    "        assert isinstance(val_dataset, BertDataset)\n",
    "        return DataLoader(val_dataset, batch_size=self.val_batch_size, shuffle=False, collate_fn=BertDataset.collate)"
   ]
  },
  {
   "cell_type": "markdown",
   "metadata": {},
   "source": [
    "Проверим работоспособность модели (на CPU)"
   ]
  },
  {
   "cell_type": "code",
   "execution_count": 35,
   "metadata": {},
   "outputs": [
    {
     "name": "stdout",
     "output_type": "stream",
     "text": [
      "[['B-tvshow', 'B-company', 'I-facility', 'I-product', 'B-product', 'I-musicartist', 'B-product', 'B-product', 'B-company', 'O', 'B-product', 'O', 'B-movie', 'B-company', 'O'], ['I-geo-loc', 'B-product', 'B-facility', 'O', 'B-facility', 'B-product', 'O', 'O', 'B-movie'], ['I-tvshow', 'I-product', 'B-product', 'O', 'B-facility', 'O', 'I-musicartist', 'B-musicartist', 'I-product', 'O', 'B-product', 'O', 'O', 'O', 'O', 'O', 'I-facility', 'B-movie', 'O', 'B-product', 'O', 'B-product'], ['I-geo-loc', 'B-product', 'B-facility', 'O', 'B-facility', 'B-facility', 'I-tvshow', 'B-product', 'B-facility', 'B-product', 'O', 'B-facility', 'B-facility', 'B-product', 'B-facility', 'B-product', 'B-facility', 'I-tvshow', 'O']]\n"
     ]
    }
   ],
   "source": [
    "def test_bert_predict():\n",
    "    bert = BERTForNER(experiment_config)\n",
    "    dl = DataLoader(train_dataset, batch_size=4, collate_fn=BertDataset.collate)\n",
    "    bert.eval()\n",
    "    with torch.no_grad():\n",
    "        for batch in dl:\n",
    "    #         print(batch)\n",
    "            res = bert_predict_tags_with_mask(bert, batch[0], batch[2], target_vocab)\n",
    "            print(res)\n",
    "            break\n",
    "\n",
    "test_bert_predict()"
   ]
  },
  {
   "cell_type": "markdown",
   "metadata": {},
   "source": [
    "## Запуск эксперимента\n"
   ]
  },
  {
   "cell_type": "code",
   "execution_count": 36,
   "metadata": {},
   "outputs": [],
   "source": [
    "# import gc\n",
    "# del pl_bert\n",
    "# gc.collect()\n",
    "# torch.cuda.empty_cache()"
   ]
  },
  {
   "cell_type": "code",
   "execution_count": 37,
   "metadata": {},
   "outputs": [
    {
     "name": "stdout",
     "output_type": "stream",
     "text": [
      "Wed Sep  4 14:26:44 2019       \n",
      "+-----------------------------------------------------------------------------+\n",
      "| NVIDIA-SMI 418.67       Driver Version: 418.67       CUDA Version: 10.1     |\n",
      "|-------------------------------+----------------------+----------------------+\n",
      "| GPU  Name        Persistence-M| Bus-Id        Disp.A | Volatile Uncorr. ECC |\n",
      "| Fan  Temp  Perf  Pwr:Usage/Cap|         Memory-Usage | GPU-Util  Compute M. |\n",
      "|===============================+======================+======================|\n",
      "|   0  GeForce GTX 108...  Off  | 00000000:05:00.0 Off |                  N/A |\n",
      "| 27%   38C    P8    10W / 250W |     10MiB / 11178MiB |      0%      Default |\n",
      "+-------------------------------+----------------------+----------------------+\n",
      "                                                                               \n",
      "+-----------------------------------------------------------------------------+\n",
      "| Processes:                                                       GPU Memory |\n",
      "|  GPU       PID   Type   Process name                             Usage      |\n",
      "|=============================================================================|\n",
      "|  No running processes found                                                 |\n",
      "+-----------------------------------------------------------------------------+\n"
     ]
    }
   ],
   "source": [
    "!nvidia-smi"
   ]
  },
  {
   "cell_type": "code",
   "execution_count": 38,
   "metadata": {},
   "outputs": [],
   "source": [
    "exp = Experiment(save_dir=experiment_dir, name=experiment_config.experiment_name)"
   ]
  },
  {
   "cell_type": "code",
   "execution_count": 39,
   "metadata": {},
   "outputs": [
    {
     "name": "stdout",
     "output_type": "stream",
     "text": [
      "6\n"
     ]
    }
   ],
   "source": [
    "print(exp.version)"
   ]
  },
  {
   "cell_type": "markdown",
   "metadata": {},
   "source": [
    "Сохраним конфигурацию эксперимента"
   ]
  },
  {
   "cell_type": "code",
   "execution_count": 40,
   "metadata": {},
   "outputs": [],
   "source": [
    "exp.argparse(experiment_config)\n",
    "exp.save()"
   ]
  },
  {
   "cell_type": "markdown",
   "metadata": {},
   "source": [
    "Опишем место для сохранения чекпоинтов и критерий отбора (средний f1 по тегам) и ранней остановки."
   ]
  },
  {
   "cell_type": "code",
   "execution_count": 41,
   "metadata": {},
   "outputs": [],
   "source": [
    "checkpoint_path = f'{experiment_dir}/{experiment_config.experiment_name}/version_{exp.version}/checkpoint'"
   ]
  },
  {
   "cell_type": "code",
   "execution_count": 42,
   "metadata": {},
   "outputs": [],
   "source": [
    "checkpoint_callback = pl.callbacks.ModelCheckpoint(\n",
    "    filepath= checkpoint_path,\n",
    "    save_best_only=True,\n",
    "    verbose=True,\n",
    "    monitor='f1',\n",
    "    mode='max'\n",
    ")\n",
    "\n",
    "early_stop = pl.callbacks.EarlyStopping(\n",
    "        monitor='f1',\n",
    "        patience=5,\n",
    "        verbose=True,\n",
    "        mode='max'\n",
    ")"
   ]
  },
  {
   "cell_type": "markdown",
   "metadata": {},
   "source": [
    "Создадим модель и обучим её."
   ]
  },
  {
   "cell_type": "code",
   "execution_count": 43,
   "metadata": {},
   "outputs": [],
   "source": [
    "pl_bert = LightningBERTMasking(experiment_config)"
   ]
  },
  {
   "cell_type": "code",
   "execution_count": 44,
   "metadata": {},
   "outputs": [
    {
     "name": "stdout",
     "output_type": "stream",
     "text": [
      "325\n"
     ]
    }
   ],
   "source": [
    "print(len(pl_bert.tng_dataloader))"
   ]
  },
  {
   "cell_type": "code",
   "execution_count": 45,
   "metadata": {},
   "outputs": [
    {
     "name": "stdout",
     "output_type": "stream",
     "text": [
      "36\n"
     ]
    }
   ],
   "source": [
    "print(len(pl_bert.val_dataloader))"
   ]
  },
  {
   "cell_type": "code",
   "execution_count": 46,
   "metadata": {},
   "outputs": [
    {
     "name": "stdout",
     "output_type": "stream",
     "text": [
      "VISIBLE GPUS: '0'\n",
      "gpu available: True, used: True\n"
     ]
    }
   ],
   "source": [
    "trainer = pl.Trainer(experiment=exp,\n",
    "                     max_nb_epochs=experiment_config.n_epochs,\n",
    "                     gpus=[0],\n",
    "                     gradient_clip=experiment_config.gradient_clipping_norm,\n",
    "                     early_stop_callback=early_stop,\n",
    "                     accumulate_grad_batches=experiment_config.gradient_acccumulation_steps,\n",
    "                     add_log_row_interval=100,\n",
    "                     checkpoint_callback=checkpoint_callback)"
   ]
  },
  {
   "cell_type": "code",
   "execution_count": 47,
   "metadata": {},
   "outputs": [
    {
     "name": "stderr",
     "output_type": "stream",
     "text": [
      "  0%|          | 0/5 [00:00<?, ?it/s]"
     ]
    },
    {
     "name": "stdout",
     "output_type": "stream",
     "text": [
      "                                            Name                        Type  \\\n",
      "0                                          model                  BERTForNER   \n",
      "1                                    model.model  BertForTokenClassification   \n",
      "2                               model.model.bert                   BertModel   \n",
      "3                    model.model.bert.embeddings              BertEmbeddings   \n",
      "4    model.model.bert.embeddings.word_embeddings                   Embedding   \n",
      "..                                           ...                         ...   \n",
      "215                      model.model.bert.pooler                  BertPooler   \n",
      "216                model.model.bert.pooler.dense                      Linear   \n",
      "217           model.model.bert.pooler.activation                        Tanh   \n",
      "218                          model.model.dropout                     Dropout   \n",
      "219                       model.model.classifier                      Linear   \n",
      "\n",
      "        Params  \n",
      "0    108326421  \n",
      "1    108326421  \n",
      "2    108310272  \n",
      "3     22665216  \n",
      "4     22268928  \n",
      "..         ...  \n",
      "215     590592  \n",
      "216     590592  \n",
      "217          0  \n",
      "218          0  \n",
      "219      16149  \n",
      "\n",
      "[220 rows x 3 columns]\n"
     ]
    },
    {
     "name": "stderr",
     "output_type": "stream",
     "text": [
      "  0%|          | 1/361 [00:00<01:36,  3.74it/s, batch_nb=0, epoch=0, gpu=0, loss=2.956, v_nb=6]"
     ]
    },
    {
     "name": "stdout",
     "output_type": "stream",
     "text": [
      "             precision    recall  f1-score   support\n",
      "\n",
      "     tvshow       0.00      0.00      0.00        11\n",
      "   facility       0.00      0.00      0.00        58\n",
      "     person       0.01      0.02      0.02       131\n",
      "    product       0.00      0.00      0.00        38\n",
      "        loc       0.01      0.03      0.02       156\n",
      "    company       0.01      0.02      0.01        84\n",
      "      other       0.00      0.00      0.00       110\n",
      "      movie       0.00      0.00      0.00        17\n",
      "musicartist       0.00      0.00      0.00        33\n",
      " sportsteam       0.00      0.00      0.00        21\n",
      "\n",
      "  micro avg       0.00      0.01      0.01       659\n",
      "  macro avg       0.01      0.01      0.01       659\n",
      "\n"
     ]
    },
    {
     "name": "stderr",
     "output_type": "stream",
     "text": [
      "100%|██████████| 361/361 [00:53<00:00, 11.88it/s, avg_val_loss=0.187, batch_nb=324, epoch=0, f1=0.501, gpu=0, loss=0.206, v_nb=6]"
     ]
    },
    {
     "name": "stdout",
     "output_type": "stream",
     "text": [
      "             precision    recall  f1-score   support\n",
      "\n",
      "     tvshow       0.00      0.00      0.00        11\n",
      "   facility       0.37      0.34      0.36        58\n",
      "     person       0.69      0.70      0.69       131\n",
      "    product       0.37      0.18      0.25        38\n",
      "        loc       0.59      0.71      0.65       156\n",
      "    company       0.55      0.60      0.57        84\n",
      "      other       0.34      0.18      0.24       110\n",
      "      movie       0.00      0.00      0.00        17\n",
      "musicartist       0.29      0.12      0.17        33\n",
      " sportsteam       0.40      0.10      0.15        21\n",
      "\n",
      "  micro avg       0.54      0.46      0.50       659\n",
      "  macro avg       0.49      0.46      0.46       659\n",
      "\n",
      "save callback...\n",
      "\n",
      "Epoch 00001: f1 improved from -inf to 0.50123, saving model to NER_experiments//BERT_finetune_mask/version_6/checkpoint/_ckpt_epoch_1.ckpt\n"
     ]
    },
    {
     "name": "stderr",
     "output_type": "stream",
     "text": [
      "100%|██████████| 361/361 [00:51<00:00, 11.84it/s, avg_val_loss=0.153, batch_nb=324, epoch=1, f1=0.609, gpu=0, loss=0.143, v_nb=6]"
     ]
    },
    {
     "name": "stdout",
     "output_type": "stream",
     "text": [
      "             precision    recall  f1-score   support\n",
      "\n",
      "     tvshow       0.00      0.00      0.00        11\n",
      "   facility       0.59      0.66      0.62        58\n",
      "     person       0.73      0.79      0.76       131\n",
      "    product       0.17      0.34      0.23        38\n",
      "        loc       0.66      0.79      0.72       156\n",
      "    company       0.61      0.71      0.66        84\n",
      "      other       0.54      0.52      0.53       110\n",
      "      movie       0.00      0.00      0.00        17\n",
      "musicartist       0.55      0.36      0.44        33\n",
      " sportsteam       0.50      0.52      0.51        21\n",
      "\n",
      "  micro avg       0.58      0.64      0.61       659\n",
      "  macro avg       0.57      0.64      0.60       659\n",
      "\n",
      "save callback...\n",
      "\n",
      "Epoch 00002: f1 improved from 0.50123 to 0.60857, saving model to NER_experiments//BERT_finetune_mask/version_6/checkpoint/_ckpt_epoch_2.ckpt\n"
     ]
    },
    {
     "name": "stderr",
     "output_type": "stream",
     "text": [
      "  0%|          | 1/361 [00:00<00:30, 11.88it/s, avg_val_loss=0.157, batch_nb=0, epoch=3, f1=0.605, gpu=0, loss=0.090, v_nb=6]    "
     ]
    },
    {
     "name": "stdout",
     "output_type": "stream",
     "text": [
      "             precision    recall  f1-score   support\n",
      "\n",
      "     tvshow       0.33      0.09      0.14        11\n",
      "   facility       0.51      0.83      0.63        58\n",
      "     person       0.64      0.85      0.73       131\n",
      "    product       0.18      0.29      0.22        38\n",
      "        loc       0.76      0.71      0.73       156\n",
      "    company       0.70      0.63      0.66        84\n",
      "      other       0.51      0.53      0.52       110\n",
      "      movie       0.20      0.06      0.09        17\n",
      "musicartist       0.42      0.39      0.41        33\n",
      " sportsteam       0.50      0.62      0.55        21\n",
      "\n",
      "  micro avg       0.58      0.64      0.61       659\n",
      "  macro avg       0.59      0.64      0.60       659\n",
      "\n",
      "save callback...\n",
      "\n",
      "Epoch 00003: f1 did not improve\n"
     ]
    },
    {
     "name": "stderr",
     "output_type": "stream",
     "text": [
      "  0%|          | 1/361 [00:00<00:30, 11.81it/s, avg_val_loss=0.185, batch_nb=0, epoch=4, f1=0.595, gpu=0, loss=0.056, v_nb=6]    "
     ]
    },
    {
     "name": "stdout",
     "output_type": "stream",
     "text": [
      "             precision    recall  f1-score   support\n",
      "\n",
      "     tvshow       0.16      0.27      0.20        11\n",
      "   facility       0.61      0.76      0.68        58\n",
      "     person       0.67      0.79      0.73       131\n",
      "    product       0.23      0.39      0.29        38\n",
      "        loc       0.71      0.78      0.75       156\n",
      "    company       0.54      0.76      0.63        84\n",
      "      other       0.42      0.53      0.47       110\n",
      "      movie       0.30      0.35      0.32        17\n",
      "musicartist       0.32      0.39      0.35        33\n",
      " sportsteam       0.50      0.62      0.55        21\n",
      "\n",
      "  micro avg       0.54      0.67      0.59       659\n",
      "  macro avg       0.55      0.67      0.60       659\n",
      "\n",
      "save callback...\n",
      "\n",
      "Epoch 00004: f1 did not improve\n"
     ]
    },
    {
     "name": "stderr",
     "output_type": "stream",
     "text": [
      "100%|██████████| 361/361 [00:52<00:00, 12.03it/s, avg_val_loss=0.175, batch_nb=324, epoch=4, f1=0.626, gpu=0, loss=0.036, v_nb=6]"
     ]
    },
    {
     "name": "stdout",
     "output_type": "stream",
     "text": [
      "             precision    recall  f1-score   support\n",
      "\n",
      "     tvshow       0.00      0.00      0.00        11\n",
      "   facility       0.56      0.69      0.62        58\n",
      "     person       0.76      0.79      0.77       131\n",
      "    product       0.24      0.26      0.25        38\n",
      "        loc       0.66      0.80      0.72       156\n",
      "    company       0.71      0.62      0.66        84\n",
      "      other       0.48      0.58      0.53       110\n",
      "      movie       0.36      0.59      0.44        17\n",
      "musicartist       0.55      0.48      0.52        33\n",
      " sportsteam       0.65      0.62      0.63        21\n",
      "\n",
      "  micro avg       0.60      0.66      0.63       659\n",
      "  macro avg       0.60      0.66      0.62       659\n",
      "\n",
      "save callback...\n",
      "\n",
      "Epoch 00005: f1 improved from 0.60857 to 0.62617, saving model to NER_experiments//BERT_finetune_mask/version_6/checkpoint/_ckpt_epoch_5.ckpt\n"
     ]
    },
    {
     "data": {
      "text/plain": [
       "1"
      ]
     },
     "execution_count": 47,
     "metadata": {},
     "output_type": "execute_result"
    }
   ],
   "source": [
    "trainer.fit(pl_bert)"
   ]
  },
  {
   "cell_type": "markdown",
   "metadata": {},
   "source": [
    "### Inference"
   ]
  },
  {
   "cell_type": "markdown",
   "metadata": {},
   "source": [
    "В этой части производятся предсказания на тестовой выборке. Метрики записываются в файл test_report.txt. Производится демонстрационное предсказание на свежем тексте."
   ]
  },
  {
   "cell_type": "code",
   "execution_count": 48,
   "metadata": {},
   "outputs": [],
   "source": [
    "import os"
   ]
  },
  {
   "cell_type": "code",
   "execution_count": 49,
   "metadata": {},
   "outputs": [
    {
     "name": "stdout",
     "output_type": "stream",
     "text": [
      "NER_experiments//BERT_finetune_mask/version_6/checkpoint/_ckpt_epoch_5.ckpt\n"
     ]
    }
   ],
   "source": [
    "checkpoint_file = os.listdir(checkpoint_path)[0]\n",
    "assert checkpoint_file.startswith('_ckpt_')\n",
    "checkpoint_file_path = checkpoint_path + '/' + checkpoint_file\n",
    "print(checkpoint_file_path)"
   ]
  },
  {
   "cell_type": "code",
   "execution_count": 50,
   "metadata": {},
   "outputs": [
    {
     "name": "stdout",
     "output_type": "stream",
     "text": [
      "NER_experiments//BERT_finetune_mask/version_6/meta_tags.csv\n"
     ]
    }
   ],
   "source": [
    "tags_path = f'{experiment_dir}/{experiment_config.experiment_name}/version_{exp.version}/meta_tags.csv'\n",
    "print(tags_path)"
   ]
  },
  {
   "cell_type": "markdown",
   "metadata": {},
   "source": [
    "Загружаем чекпоинт"
   ]
  },
  {
   "cell_type": "code",
   "execution_count": 51,
   "metadata": {},
   "outputs": [],
   "source": [
    "device = 'cuda'"
   ]
  },
  {
   "cell_type": "code",
   "execution_count": 52,
   "metadata": {},
   "outputs": [],
   "source": [
    "pl_bert = LightningBERTMasking.load_from_metrics(checkpoint_file_path, tags_path, on_gpu=False)\n",
    "pl_bert.freeze()\n",
    "pl_bert = pl_bert.to(device)"
   ]
  },
  {
   "cell_type": "code",
   "execution_count": 53,
   "metadata": {},
   "outputs": [],
   "source": [
    "test_predictions = bert_predict_tags_for_loader(pl_bert, DataLoader(test_dataset, collate_fn=BertDataset.collate, batch_size=24), target_vocab)"
   ]
  },
  {
   "cell_type": "code",
   "execution_count": 54,
   "metadata": {},
   "outputs": [],
   "source": [
    "report = seqeval.metrics.classification_report(original_targets_split['test'], test_predictions, digits=3)"
   ]
  },
  {
   "cell_type": "code",
   "execution_count": 55,
   "metadata": {},
   "outputs": [],
   "source": [
    "with open(f'{experiment_dir}/{experiment_config.experiment_name}/version_{exp.version}/test_report.txt', 'w+') as of:\n",
    "    of.write(report)"
   ]
  },
  {
   "cell_type": "code",
   "execution_count": 56,
   "metadata": {},
   "outputs": [],
   "source": [
    "def bert_predict_for_tokens(model, tokens, device='cuda'):\n",
    "    fake_targets = [['O' for _ in text] for text in tokens]\n",
    "    preproc_tokens, preproc_targets, _ = basic_preprocessing(tokens, fake_targets, \n",
    "                                                             replace_urls=experiment_config.replace_urls,\n",
    "                                                              replace_numbers=experiment_config.replace_numbers,\n",
    "                                                              split_hashtags=experiment_config.split_hashtags,\n",
    "                                                              split_mentions=experiment_config.split_nicknames)\n",
    "    preproc_tokens, preproc_targets, preproc_mask = bert_preprocessing(preproc_tokens, preproc_targets, bert_tokenizer, bert_specials)\n",
    "    input_ids, target_ids, mask_ids = bert_numericalize(preproc_tokens, preproc_targets, preproc_mask, bert_tokenizer, target_vocab)\n",
    "    model.eval()\n",
    "    batch = BertDataset.collate(zip(input_ids, target_ids, mask_ids))\n",
    "    inputs,_,mask = batch\n",
    "    with torch.no_grad():\n",
    "        result = bert_predict_tags_with_mask(model, inputs.to(device), mask.to(device), target_vocab)\n",
    "    return result\n"
   ]
  },
  {
   "cell_type": "markdown",
   "metadata": {},
   "source": [
    "Предскажем теги на отдельный пример"
   ]
  },
  {
   "cell_type": "code",
   "execution_count": 57,
   "metadata": {},
   "outputs": [],
   "source": [
    "text_example = \"Satellite imagery this morning of now Category 5 Hurricane Dorian approaching the Abaco Islands in the northern Bahamas. For the latest on Dorian visit http://hurricanes.gov\""
   ]
  },
  {
   "cell_type": "code",
   "execution_count": 58,
   "metadata": {},
   "outputs": [],
   "source": [
    "import nltk"
   ]
  },
  {
   "cell_type": "code",
   "execution_count": 59,
   "metadata": {},
   "outputs": [
    {
     "name": "stdout",
     "output_type": "stream",
     "text": [
      "Satellite imagery this morning of now Category 5 Hurricane Dorian approaching the Abaco Islands in the northern Bahamas. For the latest on Dorian visit http://hurricanes.gov\n"
     ]
    }
   ],
   "source": [
    "print(text_example)"
   ]
  },
  {
   "cell_type": "code",
   "execution_count": 60,
   "metadata": {},
   "outputs": [
    {
     "name": "stdout",
     "output_type": "stream",
     "text": [
      "['Satellite', 'imagery', 'this', 'morning', 'of', 'now', 'Category', '5', 'Hurricane', 'Dorian', 'approaching', 'the', 'Abaco', 'Islands', 'in', 'the', 'northern', 'Bahamas', '.', 'For', 'the', 'latest', 'on', 'Dorian', 'visit', 'http://hurricanes.gov']\n"
     ]
    }
   ],
   "source": [
    "tokens_example = nltk.tokenize.TweetTokenizer().tokenize(text_example)\n",
    "print(tokens_example)"
   ]
  },
  {
   "cell_type": "code",
   "execution_count": 61,
   "metadata": {},
   "outputs": [
    {
     "data": {
      "application/vnd.jupyter.widget-view+json": {
       "model_id": "ca1738287eb94678a4355fc05a66d098",
       "version_major": 2,
       "version_minor": 0
      },
      "text/plain": [
       "HBox(children=(IntProgress(value=0, max=1), HTML(value='')))"
      ]
     },
     "metadata": {},
     "output_type": "display_data"
    },
    {
     "name": "stdout",
     "output_type": "stream",
     "text": [
      "\n"
     ]
    }
   ],
   "source": [
    "prediction = bert_predict_for_tokens(pl_bert, [tokens_example])[0]"
   ]
  },
  {
   "cell_type": "code",
   "execution_count": 62,
   "metadata": {},
   "outputs": [
    {
     "name": "stdout",
     "output_type": "stream",
     "text": [
      "Satellite O\n",
      "imagery O\n",
      "this O\n",
      "morning O\n",
      "of O\n",
      "now O\n",
      "Category O\n",
      "5 O\n",
      "Hurricane O\n",
      "Dorian B-person\n",
      "approaching O\n",
      "the O\n",
      "Abaco B-geo-loc\n",
      "Islands I-geo-loc\n",
      "in O\n",
      "the O\n",
      "northern O\n",
      "Bahamas I-geo-loc\n",
      ". O\n",
      "For O\n",
      "the O\n",
      "latest O\n",
      "on O\n",
      "Dorian B-person\n",
      "visit O\n",
      "http://hurricanes.gov O\n"
     ]
    }
   ],
   "source": [
    "for token, tag in zip(tokens_example, prediction):\n",
    "    print(token, tag)"
   ]
  },
  {
   "cell_type": "markdown",
   "metadata": {},
   "source": [
    "### Итоги:\n",
    "В настоящий момент при помощи BERT получилось добиться f1 около .58 на тестовой выборке и .64 на валидационной (f1 на ней - критерий для остановки, так что стоит относиться к этому результату скептически). <br>\n",
    "Precision и Recall в среднем близки, что не наблюдалось на некоторых простых моделях. <br>\n",
    "Имеются трудности с распознаванием редких сущностей. Не были опробованы схемы со взвешиванием классов. Модель быстро переобучается (хотя часто f1 растет при увеличении val_loss), возможно, имеет смысл заморозить её части или использовать только её эмбеддинги, повысить уровень регуляризации в \"голове\"."
   ]
  }
 ],
 "metadata": {
  "kernelspec": {
   "display_name": "Python 3",
   "language": "python",
   "name": "python3"
  },
  "language_info": {
   "codemirror_mode": {
    "name": "ipython",
    "version": 3
   },
   "file_extension": ".py",
   "mimetype": "text/x-python",
   "name": "python",
   "nbconvert_exporter": "python",
   "pygments_lexer": "ipython3",
   "version": "3.6.9"
  }
 },
 "nbformat": 4,
 "nbformat_minor": 4
}
