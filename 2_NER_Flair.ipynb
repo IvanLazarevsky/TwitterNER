{
 "cells": [
  {
   "cell_type": "code",
   "execution_count": 1,
   "metadata": {},
   "outputs": [
    {
     "name": "stdout",
     "output_type": "stream",
     "text": [
      "Requirement already satisfied: seqeval in /opt/conda/lib/python3.6/site-packages (0.0.12)\n",
      "Requirement already satisfied: nltk in /opt/conda/lib/python3.6/site-packages (3.4.5)\n",
      "Requirement already satisfied: Keras>=2.2.4 in /opt/conda/lib/python3.6/site-packages (from seqeval) (2.2.4)\n",
      "Requirement already satisfied: numpy>=1.14.0 in /opt/conda/lib/python3.6/site-packages (from seqeval) (1.16.4)\n",
      "Requirement already satisfied: six in /opt/conda/lib/python3.6/site-packages (from nltk) (1.12.0)\n",
      "Requirement already satisfied: h5py in /opt/conda/lib/python3.6/site-packages (from Keras>=2.2.4->seqeval) (2.9.0)\n",
      "Requirement already satisfied: scipy>=0.14 in /opt/conda/lib/python3.6/site-packages (from Keras>=2.2.4->seqeval) (1.3.0)\n",
      "Requirement already satisfied: pyyaml in /opt/conda/lib/python3.6/site-packages (from Keras>=2.2.4->seqeval) (5.1.1)\n",
      "Requirement already satisfied: keras-applications>=1.0.6 in /opt/conda/lib/python3.6/site-packages (from Keras>=2.2.4->seqeval) (1.0.8)\n",
      "Requirement already satisfied: keras-preprocessing>=1.0.5 in /opt/conda/lib/python3.6/site-packages (from Keras>=2.2.4->seqeval) (1.1.0)\n",
      "\u001b[33mWARNING: You are using pip version 19.2.2, however version 19.2.3 is available.\n",
      "You should consider upgrading via the 'pip install --upgrade pip' command.\u001b[0m\n",
      "Requirement already satisfied: pytorch-lightning in /opt/conda/lib/python3.6/site-packages (0.4.8)\n",
      "Requirement already satisfied: torch==1.2.0 in /opt/conda/lib/python3.6/site-packages (from pytorch-lightning) (1.2.0)\n",
      "Requirement already satisfied: pandas>=0.20.3 in /opt/conda/lib/python3.6/site-packages (from pytorch-lightning) (0.25.0)\n",
      "Requirement already satisfied: test-tube>=0.6.9 in /opt/conda/lib/python3.6/site-packages (from pytorch-lightning) (0.7.0)\n",
      "Requirement already satisfied: tqdm>=4.35.0 in /opt/conda/lib/python3.6/site-packages (from pytorch-lightning) (4.35.0)\n",
      "Requirement already satisfied: numpy in /opt/conda/lib/python3.6/site-packages (from torch==1.2.0->pytorch-lightning) (1.16.4)\n",
      "Requirement already satisfied: pytz>=2017.2 in /opt/conda/lib/python3.6/site-packages (from pandas>=0.20.3->pytorch-lightning) (2019.1)\n",
      "Requirement already satisfied: python-dateutil>=2.6.1 in /opt/conda/lib/python3.6/site-packages (from pandas>=0.20.3->pytorch-lightning) (2.8.0)\n",
      "Requirement already satisfied: tb-nightly==1.15.0a20190708 in /opt/conda/lib/python3.6/site-packages (from test-tube>=0.6.9->pytorch-lightning) (1.15.0a20190708)\n",
      "Requirement already satisfied: future in /opt/conda/lib/python3.6/site-packages (from test-tube>=0.6.9->pytorch-lightning) (0.17.1)\n",
      "Requirement already satisfied: imageio>=2.3.0 in /opt/conda/lib/python3.6/site-packages (from test-tube>=0.6.9->pytorch-lightning) (2.5.0)\n",
      "Requirement already satisfied: six>=1.5 in /opt/conda/lib/python3.6/site-packages (from python-dateutil>=2.6.1->pandas>=0.20.3->pytorch-lightning) (1.12.0)\n",
      "Requirement already satisfied: wheel>=0.26; python_version >= \"3\" in /opt/conda/lib/python3.6/site-packages (from tb-nightly==1.15.0a20190708->test-tube>=0.6.9->pytorch-lightning) (0.33.4)\n",
      "Requirement already satisfied: werkzeug>=0.11.15 in /opt/conda/lib/python3.6/site-packages (from tb-nightly==1.15.0a20190708->test-tube>=0.6.9->pytorch-lightning) (0.15.4)\n",
      "Requirement already satisfied: setuptools>=41.0.0 in /opt/conda/lib/python3.6/site-packages (from tb-nightly==1.15.0a20190708->test-tube>=0.6.9->pytorch-lightning) (41.0.1)\n",
      "Requirement already satisfied: protobuf>=3.6.0 in /opt/conda/lib/python3.6/site-packages (from tb-nightly==1.15.0a20190708->test-tube>=0.6.9->pytorch-lightning) (3.8.0)\n",
      "Requirement already satisfied: absl-py>=0.4 in /opt/conda/lib/python3.6/site-packages (from tb-nightly==1.15.0a20190708->test-tube>=0.6.9->pytorch-lightning) (0.7.1)\n",
      "Requirement already satisfied: grpcio>=1.6.3 in /opt/conda/lib/python3.6/site-packages (from tb-nightly==1.15.0a20190708->test-tube>=0.6.9->pytorch-lightning) (1.16.1)\n",
      "Requirement already satisfied: markdown>=2.6.8 in /opt/conda/lib/python3.6/site-packages (from tb-nightly==1.15.0a20190708->test-tube>=0.6.9->pytorch-lightning) (3.1.1)\n",
      "\u001b[33mWARNING: You are using pip version 19.2.2, however version 19.2.3 is available.\n",
      "You should consider upgrading via the 'pip install --upgrade pip' command.\u001b[0m\n",
      "Requirement already satisfied: pytorch-transformers in /opt/conda/lib/python3.6/site-packages (1.1.0)\n",
      "Requirement already satisfied: numpy in /opt/conda/lib/python3.6/site-packages (from pytorch-transformers) (1.16.4)\n",
      "Requirement already satisfied: boto3 in /opt/conda/lib/python3.6/site-packages (from pytorch-transformers) (1.9.221)\n",
      "Requirement already satisfied: regex in /opt/conda/lib/python3.6/site-packages (from pytorch-transformers) (2018.1.10)\n",
      "Requirement already satisfied: tqdm in /opt/conda/lib/python3.6/site-packages (from pytorch-transformers) (4.35.0)\n",
      "Requirement already satisfied: torch>=1.0.0 in /opt/conda/lib/python3.6/site-packages (from pytorch-transformers) (1.2.0)\n",
      "Requirement already satisfied: sentencepiece in /opt/conda/lib/python3.6/site-packages (from pytorch-transformers) (0.1.83)\n",
      "Requirement already satisfied: requests in /opt/conda/lib/python3.6/site-packages (from pytorch-transformers) (2.22.0)\n",
      "Requirement already satisfied: botocore<1.13.0,>=1.12.221 in /opt/conda/lib/python3.6/site-packages (from boto3->pytorch-transformers) (1.12.221)\n",
      "Requirement already satisfied: jmespath<1.0.0,>=0.7.1 in /opt/conda/lib/python3.6/site-packages (from boto3->pytorch-transformers) (0.9.4)\n",
      "Requirement already satisfied: s3transfer<0.3.0,>=0.2.0 in /opt/conda/lib/python3.6/site-packages (from boto3->pytorch-transformers) (0.2.1)\n",
      "Requirement already satisfied: certifi>=2017.4.17 in /opt/conda/lib/python3.6/site-packages (from requests->pytorch-transformers) (2019.6.16)\n",
      "Requirement already satisfied: chardet<3.1.0,>=3.0.2 in /opt/conda/lib/python3.6/site-packages (from requests->pytorch-transformers) (3.0.4)\n",
      "Requirement already satisfied: idna<2.9,>=2.5 in /opt/conda/lib/python3.6/site-packages (from requests->pytorch-transformers) (2.8)\n",
      "Requirement already satisfied: urllib3!=1.25.0,!=1.25.1,<1.26,>=1.21.1 in /opt/conda/lib/python3.6/site-packages (from requests->pytorch-transformers) (1.24.2)\n",
      "Requirement already satisfied: docutils<0.16,>=0.10 in /opt/conda/lib/python3.6/site-packages (from botocore<1.13.0,>=1.12.221->boto3->pytorch-transformers) (0.15.2)\n",
      "Requirement already satisfied: python-dateutil<3.0.0,>=2.1; python_version >= \"2.7\" in /opt/conda/lib/python3.6/site-packages (from botocore<1.13.0,>=1.12.221->boto3->pytorch-transformers) (2.8.0)\n",
      "Requirement already satisfied: six>=1.5 in /opt/conda/lib/python3.6/site-packages (from python-dateutil<3.0.0,>=2.1; python_version >= \"2.7\"->botocore<1.13.0,>=1.12.221->boto3->pytorch-transformers) (1.12.0)\n",
      "\u001b[33mWARNING: You are using pip version 19.2.2, however version 19.2.3 is available.\n",
      "You should consider upgrading via the 'pip install --upgrade pip' command.\u001b[0m\n"
     ]
    }
   ],
   "source": [
    "%run NER_common.ipynb"
   ]
  },
  {
   "cell_type": "code",
   "execution_count": 2,
   "metadata": {},
   "outputs": [
    {
     "name": "stdout",
     "output_type": "stream",
     "text": [
      "Requirement already satisfied: flair in /opt/conda/lib/python3.6/site-packages (0.4.3)\n",
      "Requirement already satisfied: langdetect in /opt/conda/lib/python3.6/site-packages (from flair) (1.0.7)\n",
      "Requirement already satisfied: urllib3<1.25,>=1.20 in /opt/conda/lib/python3.6/site-packages (from flair) (1.24.2)\n",
      "Requirement already satisfied: gensim>=3.4.0 in /opt/conda/lib/python3.6/site-packages (from flair) (3.8.0)\n",
      "Requirement already satisfied: deprecated>=1.2.4 in /opt/conda/lib/python3.6/site-packages (from flair) (1.2.6)\n",
      "Requirement already satisfied: bpemb>=0.2.9 in /opt/conda/lib/python3.6/site-packages (from flair) (0.3.0)\n",
      "Requirement already satisfied: pytorch-transformers>=1.1.0 in /opt/conda/lib/python3.6/site-packages (from flair) (1.1.0)\n",
      "Requirement already satisfied: segtok>=1.5.7 in /opt/conda/lib/python3.6/site-packages (from flair) (1.5.7)\n",
      "Requirement already satisfied: tabulate in /opt/conda/lib/python3.6/site-packages (from flair) (0.8.3)\n",
      "Requirement already satisfied: ipython-genutils==0.2.0 in /opt/conda/lib/python3.6/site-packages (from flair) (0.2.0)\n",
      "Requirement already satisfied: ipython==7.6.1 in /opt/conda/lib/python3.6/site-packages (from flair) (7.6.1)\n",
      "Requirement already satisfied: pytest>=3.6.4 in /opt/conda/lib/python3.6/site-packages (from flair) (5.1.2)\n",
      "Requirement already satisfied: tqdm>=4.26.0 in /opt/conda/lib/python3.6/site-packages (from flair) (4.35.0)\n",
      "Requirement already satisfied: torch>=1.1.0 in /opt/conda/lib/python3.6/site-packages (from flair) (1.2.0)\n",
      "Requirement already satisfied: sklearn in /opt/conda/lib/python3.6/site-packages (from flair) (0.0)\n",
      "Requirement already satisfied: matplotlib>=2.2.3 in /opt/conda/lib/python3.6/site-packages (from flair) (3.1.0)\n",
      "Requirement already satisfied: mpld3==0.3 in /opt/conda/lib/python3.6/site-packages (from flair) (0.3)\n",
      "Requirement already satisfied: regex in /opt/conda/lib/python3.6/site-packages (from flair) (2018.1.10)\n",
      "Requirement already satisfied: hyperopt>=0.1.1 in /opt/conda/lib/python3.6/site-packages (from flair) (0.1.2)\n",
      "Requirement already satisfied: sqlitedict>=1.6.0 in /opt/conda/lib/python3.6/site-packages (from flair) (1.6.0)\n",
      "Requirement already satisfied: six in /opt/conda/lib/python3.6/site-packages (from langdetect->flair) (1.12.0)\n",
      "Requirement already satisfied: numpy>=1.11.3 in /opt/conda/lib/python3.6/site-packages (from gensim>=3.4.0->flair) (1.16.4)\n",
      "Requirement already satisfied: smart-open>=1.7.0 in /opt/conda/lib/python3.6/site-packages (from gensim>=3.4.0->flair) (1.8.4)\n",
      "Requirement already satisfied: scipy>=0.18.1 in /opt/conda/lib/python3.6/site-packages (from gensim>=3.4.0->flair) (1.3.0)\n",
      "Requirement already satisfied: wrapt<2,>=1.10 in /opt/conda/lib/python3.6/site-packages (from deprecated>=1.2.4->flair) (1.10.11)\n",
      "Requirement already satisfied: requests in /opt/conda/lib/python3.6/site-packages (from bpemb>=0.2.9->flair) (2.22.0)\n",
      "Requirement already satisfied: sentencepiece in /opt/conda/lib/python3.6/site-packages (from bpemb>=0.2.9->flair) (0.1.83)\n",
      "Requirement already satisfied: boto3 in /opt/conda/lib/python3.6/site-packages (from pytorch-transformers>=1.1.0->flair) (1.9.221)\n",
      "Requirement already satisfied: jedi>=0.10 in /opt/conda/lib/python3.6/site-packages (from ipython==7.6.1->flair) (0.15.1)\n",
      "Requirement already satisfied: decorator in /opt/conda/lib/python3.6/site-packages (from ipython==7.6.1->flair) (4.4.0)\n",
      "Requirement already satisfied: traitlets>=4.2 in /opt/conda/lib/python3.6/site-packages (from ipython==7.6.1->flair) (4.3.2)\n",
      "Requirement already satisfied: pexpect; sys_platform != \"win32\" in /opt/conda/lib/python3.6/site-packages (from ipython==7.6.1->flair) (4.7.0)\n",
      "Requirement already satisfied: backcall in /opt/conda/lib/python3.6/site-packages (from ipython==7.6.1->flair) (0.1.0)\n",
      "Requirement already satisfied: prompt-toolkit<2.1.0,>=2.0.0 in /opt/conda/lib/python3.6/site-packages (from ipython==7.6.1->flair) (2.0.9)\n",
      "Requirement already satisfied: setuptools>=18.5 in /opt/conda/lib/python3.6/site-packages (from ipython==7.6.1->flair) (41.0.1)\n",
      "Requirement already satisfied: pygments in /opt/conda/lib/python3.6/site-packages (from ipython==7.6.1->flair) (2.4.2)\n",
      "Requirement already satisfied: pickleshare in /opt/conda/lib/python3.6/site-packages (from ipython==7.6.1->flair) (0.7.5)\n",
      "Requirement already satisfied: more-itertools>=4.0.0 in /opt/conda/lib/python3.6/site-packages (from pytest>=3.6.4->flair) (7.2.0)\n",
      "Requirement already satisfied: pluggy<1.0,>=0.12 in /opt/conda/lib/python3.6/site-packages (from pytest>=3.6.4->flair) (0.12.0)\n",
      "Requirement already satisfied: importlib-metadata>=0.12; python_version < \"3.8\" in /opt/conda/lib/python3.6/site-packages (from pytest>=3.6.4->flair) (0.20)\n",
      "Requirement already satisfied: py>=1.5.0 in /opt/conda/lib/python3.6/site-packages (from pytest>=3.6.4->flair) (1.8.0)\n",
      "Requirement already satisfied: wcwidth in /opt/conda/lib/python3.6/site-packages (from pytest>=3.6.4->flair) (0.1.7)\n",
      "Requirement already satisfied: attrs>=17.4.0 in /opt/conda/lib/python3.6/site-packages (from pytest>=3.6.4->flair) (19.1.0)\n",
      "Requirement already satisfied: atomicwrites>=1.0 in /opt/conda/lib/python3.6/site-packages (from pytest>=3.6.4->flair) (1.3.0)\n",
      "Requirement already satisfied: packaging in /opt/conda/lib/python3.6/site-packages (from pytest>=3.6.4->flair) (19.0)\n",
      "Requirement already satisfied: scikit-learn in /opt/conda/lib/python3.6/site-packages (from sklearn->flair) (0.21.2)\n",
      "Requirement already satisfied: cycler>=0.10 in /opt/conda/lib/python3.6/site-packages (from matplotlib>=2.2.3->flair) (0.10.0)\n",
      "Requirement already satisfied: kiwisolver>=1.0.1 in /opt/conda/lib/python3.6/site-packages (from matplotlib>=2.2.3->flair) (1.1.0)\n",
      "Requirement already satisfied: pyparsing!=2.0.4,!=2.1.2,!=2.1.6,>=2.0.1 in /opt/conda/lib/python3.6/site-packages (from matplotlib>=2.2.3->flair) (2.4.0)\n",
      "Requirement already satisfied: python-dateutil>=2.1 in /opt/conda/lib/python3.6/site-packages (from matplotlib>=2.2.3->flair) (2.8.0)\n",
      "Requirement already satisfied: pymongo in /opt/conda/lib/python3.6/site-packages (from hyperopt>=0.1.1->flair) (3.9.0)\n",
      "Requirement already satisfied: future in /opt/conda/lib/python3.6/site-packages (from hyperopt>=0.1.1->flair) (0.17.1)\n",
      "Requirement already satisfied: networkx in /opt/conda/lib/python3.6/site-packages (from hyperopt>=0.1.1->flair) (2.3)\n",
      "Requirement already satisfied: boto>=2.32 in /opt/conda/lib/python3.6/site-packages (from smart-open>=1.7.0->gensim>=3.4.0->flair) (2.49.0)\n",
      "Requirement already satisfied: chardet<3.1.0,>=3.0.2 in /opt/conda/lib/python3.6/site-packages (from requests->bpemb>=0.2.9->flair) (3.0.4)\n",
      "Requirement already satisfied: idna<2.9,>=2.5 in /opt/conda/lib/python3.6/site-packages (from requests->bpemb>=0.2.9->flair) (2.8)\n",
      "Requirement already satisfied: certifi>=2017.4.17 in /opt/conda/lib/python3.6/site-packages (from requests->bpemb>=0.2.9->flair) (2019.6.16)\n",
      "Requirement already satisfied: botocore<1.13.0,>=1.12.221 in /opt/conda/lib/python3.6/site-packages (from boto3->pytorch-transformers>=1.1.0->flair) (1.12.221)\n",
      "Requirement already satisfied: s3transfer<0.3.0,>=0.2.0 in /opt/conda/lib/python3.6/site-packages (from boto3->pytorch-transformers>=1.1.0->flair) (0.2.1)\n",
      "Requirement already satisfied: jmespath<1.0.0,>=0.7.1 in /opt/conda/lib/python3.6/site-packages (from boto3->pytorch-transformers>=1.1.0->flair) (0.9.4)\n",
      "Requirement already satisfied: parso>=0.5.0 in /opt/conda/lib/python3.6/site-packages (from jedi>=0.10->ipython==7.6.1->flair) (0.5.1)\n",
      "Requirement already satisfied: ptyprocess>=0.5 in /opt/conda/lib/python3.6/site-packages (from pexpect; sys_platform != \"win32\"->ipython==7.6.1->flair) (0.6.0)\n",
      "Requirement already satisfied: zipp>=0.5 in /opt/conda/lib/python3.6/site-packages (from importlib-metadata>=0.12; python_version < \"3.8\"->pytest>=3.6.4->flair) (0.6.0)\n",
      "Requirement already satisfied: joblib>=0.11 in /opt/conda/lib/python3.6/site-packages (from scikit-learn->sklearn->flair) (0.13.2)\n",
      "Requirement already satisfied: docutils<0.16,>=0.10 in /opt/conda/lib/python3.6/site-packages (from botocore<1.13.0,>=1.12.221->boto3->pytorch-transformers>=1.1.0->flair) (0.15.2)\n",
      "\u001b[33mWARNING: You are using pip version 19.2.2, however version 19.2.3 is available.\n",
      "You should consider upgrading via the 'pip install --upgrade pip' command.\u001b[0m\n"
     ]
    }
   ],
   "source": [
    "!pip install flair"
   ]
  },
  {
   "cell_type": "code",
   "execution_count": 1,
   "metadata": {},
   "outputs": [],
   "source": [
    "import seqeval.metrics\n",
    "from tqdm import tqdm_notebook\n",
    "\n",
    "import numpy as np\n",
    "from itertools import chain, islice\n",
    "from collections import Counter\n",
    "from collections import defaultdict\n",
    "from functools import partial"
   ]
  },
  {
   "cell_type": "code",
   "execution_count": 3,
   "metadata": {},
   "outputs": [],
   "source": [
    "import flair\n",
    "import torch\n",
    "from torch import nn\n",
    "import torch.nn.functional as F\n",
    "from torch.utils.data import TensorDataset, Dataset, DataLoader\n",
    "import pytorch_lightning as pl\n",
    "from test_tube import Experiment\n",
    "import argparse\n",
    "import os.path"
   ]
  },
  {
   "cell_type": "code",
   "execution_count": 5,
   "metadata": {},
   "outputs": [],
   "source": [
    "from tagging import *"
   ]
  },
  {
   "cell_type": "code",
   "execution_count": 6,
   "metadata": {},
   "outputs": [],
   "source": [
    "import abc"
   ]
  },
  {
   "cell_type": "code",
   "execution_count": 7,
   "metadata": {},
   "outputs": [],
   "source": [
    "original_inputs, original_targets = read_data('data/data.txt')"
   ]
  },
  {
   "cell_type": "code",
   "execution_count": 8,
   "metadata": {},
   "outputs": [],
   "source": [
    "experiment_config = argparse.Namespace()\n",
    "experiment_config.basic_model = 'BILSTM-flair'\n",
    "\n",
    "experiment_config.replace_urls = False\n",
    "experiment_config.replace_numbers = False\n",
    "experiment_config.split_hashtags = False\n",
    "experiment_config.split_nicknames = False\n",
    "\n",
    "experiment_config.val_batch_size = 24\n",
    "experiment_config.train_batch_size = 16\n",
    "experiment_config.lr = 2e-4\n",
    "experiment_config.gradient_acccumulation_steps = 1\n",
    "experiment_config.gradient_clipping_norm = 5.0\n",
    "experiment_config.n_epochs = 12\n",
    "experiment_config.emb_dropout_type = 'locked'\n",
    "experiment_config.emb_dropout = 0.5\n",
    "experiment_config.bilstm_hidden_size = 2048\n",
    "experiment_config.bilstm_dropout = 0.2\n",
    "experiment_config.bilstm_n_layers = 1\n",
    "experiment_config.pre_fc_dropout = 0.2\n",
    "experiment_config.flair_embeddings = 'flair+glove' # bert\n",
    "experiment_config.flair_embeddings_id = 'medium'\n",
    "experiment_config.save_embedding_strategy = 'gpu'\n",
    "# experiment_config.mask_additional_wordpieces = True\n",
    "\n",
    "experiment_dir = 'NER_experiments/'\n",
    "experiment_config.experiment_name = 'BILSTM-over-flair'"
   ]
  },
  {
   "cell_type": "code",
   "execution_count": 9,
   "metadata": {},
   "outputs": [],
   "source": [
    "split_names = ['train', 'val', 'test']"
   ]
  },
  {
   "cell_type": "code",
   "execution_count": 10,
   "metadata": {},
   "outputs": [],
   "source": [
    "input_flair_sentences = [flair.data.Sentence(' '.join(inp)) for inp in original_inputs]"
   ]
  },
  {
   "cell_type": "code",
   "execution_count": 11,
   "metadata": {},
   "outputs": [],
   "source": [
    "for fl, inp in zip(input_flair_sentences, original_inputs):\n",
    "    assert len(fl) == len(inp)"
   ]
  },
  {
   "cell_type": "code",
   "execution_count": 12,
   "metadata": {},
   "outputs": [],
   "source": [
    "inputs_split, flair_sentences_split, targets_split = split_to_dicts([original_inputs, input_flair_sentences, original_targets],\n",
    "                                                                 (train_indices, val_indices, test_indices), \n",
    "                                                                 split_names)"
   ]
  },
  {
   "cell_type": "code",
   "execution_count": 13,
   "metadata": {},
   "outputs": [],
   "source": [
    "unique_tags = count_tags(original_targets)"
   ]
  },
  {
   "cell_type": "code",
   "execution_count": 14,
   "metadata": {},
   "outputs": [],
   "source": [
    "target_vocab = Vocab.from_id2word(unique_tags, unk_index=None, n_specials=0)"
   ]
  },
  {
   "cell_type": "code",
   "execution_count": 15,
   "metadata": {},
   "outputs": [],
   "source": [
    "experiment_config.n_classes = len(target_vocab)"
   ]
  },
  {
   "cell_type": "code",
   "execution_count": 16,
   "metadata": {},
   "outputs": [],
   "source": [
    "def numericalize_targets(targets, target_vocab):\n",
    "    target_ids = target_vocab.numericalize(targets)\n",
    "    return target_ids"
   ]
  },
  {
   "cell_type": "code",
   "execution_count": 17,
   "metadata": {},
   "outputs": [],
   "source": [
    "target_ids = numericalize_targets(original_targets, target_vocab)"
   ]
  },
  {
   "cell_type": "code",
   "execution_count": 18,
   "metadata": {},
   "outputs": [],
   "source": [
    "target_ids_split = split_to_dicts([target_ids], (train_indices, val_indices, test_indices), split_names)[0]"
   ]
  },
  {
   "cell_type": "code",
   "execution_count": 19,
   "metadata": {},
   "outputs": [],
   "source": [
    "sequence_lengths = [len(tgt) for tgt in original_targets]\n",
    "lengths_split = split_to_dicts([sequence_lengths], (train_indices, val_indices, test_indices), split_names)[0]"
   ]
  },
  {
   "cell_type": "code",
   "execution_count": 20,
   "metadata": {},
   "outputs": [
    {
     "name": "stdout",
     "output_type": "stream",
     "text": [
      "41\n"
     ]
    }
   ],
   "source": [
    "print(max(sequence_lengths))"
   ]
  },
  {
   "cell_type": "code",
   "execution_count": 21,
   "metadata": {},
   "outputs": [],
   "source": [
    "class FlairDataset(Dataset):\n",
    "    def __init__(self, input_sentences, target_ids, input_lengths):\n",
    "        self.input_sentences = input_sentences\n",
    "        self.target_ids = target_ids\n",
    "        self.input_lengths = input_lengths\n",
    "        assert len(input_lengths) == len(target_ids) == len(input_sentences)\n",
    "        \n",
    "    def __len__(self):\n",
    "        return len(self.input_sentences)\n",
    "    \n",
    "    def __getitem__(self, idx):\n",
    "        return self.input_sentences[idx], self.target_ids[idx], self.input_lengths[idx]\n",
    "    \n",
    "    @staticmethod\n",
    "    def collate( examples):\n",
    "        list_of_sentences = []\n",
    "        list_of_targets = []\n",
    "        list_of_lengths = []\n",
    "        list_of_masks = []\n",
    "        for sent, tgt, length in examples:\n",
    "            list_of_sentences.append(sent)\n",
    "            list_of_targets.append(torch.tensor(tgt, dtype=torch.long))\n",
    "            list_of_lengths.append(length)\n",
    "            list_of_masks.append(torch.ones(length, dtype=torch.bool))\n",
    "            \n",
    "        target_tensor = torch.nn.utils.rnn.pad_sequence(list_of_targets, batch_first=True)\n",
    "        mask_tensor = torch.nn.utils.rnn.pad_sequence(list_of_masks, batch_first=True)\n",
    "        lengths_tensor = torch.tensor(list_of_lengths, dtype=torch.long)\n",
    "        return list_of_sentences, target_tensor, lengths_tensor, mask_tensor"
   ]
  },
  {
   "cell_type": "code",
   "execution_count": 22,
   "metadata": {},
   "outputs": [],
   "source": [
    "def make_flair_embeddings(experiment_config):\n",
    "    \"\"\"\n",
    "    Creates FlairEmbeddings object, depending on the configuration.\n",
    "    Sets config.embedding_dim equal to the used embeddings.\n",
    "    \"\"\"\n",
    "    if experiment_config.flair_embeddings == 'flair':\n",
    "        flair_embeddings_forward = flair.embeddings.FlairEmbeddings('news-forward')\n",
    "        flair_embeddings_backward = flair.embeddings.FlairEmbeddings('news-backward')\n",
    "        flair_stacked_embeddings = flair.embeddings.StackedEmbeddings([flair_embeddings_forward, flair_embeddings_backward])\n",
    "    elif experiment_config.flair_embeddings == 'flair+glove':\n",
    "        flair_embeddings_forward = flair.embeddings.FlairEmbeddings('news-forward')\n",
    "        flair_embeddings_backward = flair.embeddings.FlairEmbeddings('news-backward')\n",
    "        glove_embeddings = flair.embeddings.WordEmbeddings('glove')\n",
    "        flair_stacked_embeddings = flair.embeddings.StackedEmbeddings([flair_embeddings_forward, flair_embeddings_backward, glove_embeddings])\n",
    "    else:\n",
    "        raise ValueError(\"Unknown type of embeddings {}\".format(experiment_config.flair_embeddings))\n",
    "        \n",
    "    experiment_config.embedding_dim = flair_stacked_embeddings.embedding_length\n",
    "    return flair_stacked_embeddings"
   ]
  },
  {
   "cell_type": "code",
   "execution_count": 24,
   "metadata": {},
   "outputs": [],
   "source": [
    "train_dataset = FlairDataset(flair_sentences_split['train'], target_ids_split['train'], lengths_split['train'])\n",
    "val_dataset = FlairDataset(flair_sentences_split['val'], target_ids_split['val'], lengths_split['val'])\n",
    "test_dataset = FlairDataset(flair_sentences_split['test'], target_ids_split['test'], lengths_split['test'])"
   ]
  },
  {
   "cell_type": "code",
   "execution_count": 25,
   "metadata": {},
   "outputs": [],
   "source": [
    "# list_of_sentences, target_tensor, lengths_tensor, mask_tensor"
   ]
  },
  {
   "cell_type": "code",
   "execution_count": 26,
   "metadata": {},
   "outputs": [],
   "source": [
    "class FlairEncoder(nn.Module):\n",
    "    def __init__(self, flair_embeddings):\n",
    "        super().__init__()\n",
    "        self.flair_embeddings = flair_embeddings\n",
    "        \n",
    "    def forward(self, encoder_inputs):\n",
    "        \"\"\"\n",
    "        Produces embeddings for every positions in the input texts.\n",
    "        Args:\n",
    "            encoder_inputs (Tuple: (list_of_sentences, length_tensor)):\n",
    "                list_of_sentences: a list of flair.data.Sentence objects\n",
    "                length_tensor: a list or tensor, containing the length of every sentence in list_of_sentences\n",
    "        Output:\n",
    "            encoder_states (FloatTensor): a tensor, containing embeddings for every positions\n",
    "        Shape:\n",
    "            encoder_states: (batch_size, padded_length, embedding_dim)\n",
    "        \"\"\"\n",
    "        list_of_sentences, length_tensor = encoder_inputs\n",
    "        with torch.no_grad():\n",
    "            self.flair_embeddings.embed(list_of_sentences)\n",
    "            \n",
    "        padding_length = torch.max(length_tensor).item()\n",
    "        \n",
    "        batch_size = len(list_of_sentences)\n",
    "        \n",
    "        sentence_tensor = torch.zeros(\n",
    "            batch_size,\n",
    "            padding_length,\n",
    "            self.flair_embeddings.embedding_length,\n",
    "            dtype=torch.float,\n",
    "            device=length_tensor.device,\n",
    "        )\n",
    "        for s_id, sentence in enumerate(list_of_sentences):\n",
    "            # fill values with word embeddings\n",
    "            sentence_tensor[s_id][: len(sentence)] = torch.cat(\n",
    "                [token.get_embedding().unsqueeze(0) for token in sentence],\n",
    "                dim=0)\n",
    "            \n",
    "        return sentence_tensor"
   ]
  },
  {
   "cell_type": "code",
   "execution_count": 27,
   "metadata": {},
   "outputs": [],
   "source": [
    "class BiLSTMFlairLightning(pl.LightningModule):\n",
    "    def __init__(self, config):\n",
    "        super().__init__()\n",
    "        self.config = config\n",
    "        flair_embeddings = make_flair_embeddings(config)\n",
    "        encoder = FlairEncoder(flair_embeddings)\n",
    "        tagger = BiLSTMTagger(config)\n",
    "        self.model = TaggerWithEncoder(encoder, tagger)\n",
    "        \n",
    "    def encoder_tagger_inputs(self, list_of_sentences, length_tensor):\n",
    "        return (list_of_sentences, length_tensor), (length_tensor,)\n",
    "        \n",
    "    def forward(self, list_of_sentences, length_tensor):\n",
    "        encoder_inputs = (list_of_sentences, length_tensor)\n",
    "        tagger_inputs = (length_tensor,)\n",
    "        return self.model(encoder_inputs, tagger_inputs)\n",
    "    \n",
    "    def compute_loss_on_batch(self, batch):\n",
    "        list_of_sentences, target_tensor, lengths_tensor, mask_tensor = batch\n",
    "        logits = self(list_of_sentences, lengths_tensor)\n",
    "        \n",
    "        loss_mask = ~mask_tensor\n",
    "        loss = masked_crossentropy_loss(logits, target_tensor, loss_mask)\n",
    "        return loss\n",
    "    \n",
    "    def training_step(self, batch, batch_nb):\n",
    "        # REQUIRED\n",
    "        self.train()\n",
    "        loss = self.compute_loss_on_batch(batch)\n",
    "        return {'loss': loss}\n",
    "\n",
    "    def validation_step(self, batch, batch_nb):\n",
    "        # OPTIONAL\n",
    "        loss = self.compute_loss_on_batch(batch)\n",
    "        list_of_sentences, target_tensor, lengths_tensor, mask_tensor =  batch\n",
    "        encoder_inputs = (list_of_sentences, lengths_tensor)\n",
    "        tagger_inputs = (lengths_tensor,)\n",
    "         # encoder_inputs, tagger_inputs, mask_tensor, target_vocab\n",
    "        predicted_tags = self.model.predict_tags(encoder_inputs, tagger_inputs, mask_tensor, target_vocab)\n",
    "        \n",
    "        return {'val_loss': loss, 'tags': predicted_tags}\n",
    "\n",
    "    def validation_end(self, outputs):\n",
    "        # OPTIONAL\n",
    "        avg_loss = torch.tensor([x['val_loss'] for x in outputs]).mean()\n",
    "        predictions = list(chain.from_iterable(x['tags'] for x in outputs))\n",
    "        f1_score = seqeval.metrics.f1_score(targets_split['val'], predictions)\n",
    "        \n",
    "        print(seqeval.metrics.classification_report(targets_split['val'], predictions))\n",
    "        metrics = {'avg_val_loss': avg_loss.item(), 'f1': f1_score}\n",
    "        metrics_to_write = dict(metrics, epoch=self.trainer.current_epoch+1)\n",
    "#         metrics.update(self.trainer.tng_tqdm_dic)\n",
    "        \n",
    "#         scalar_metrics = self.trainer.__metrics_to_scalars(\n",
    "#                     metrics, blacklist=self.trainer.__log_vals_blacklist())\n",
    "        \n",
    "        assert self.experiment\n",
    "        self.experiment.log(metrics_to_write)\n",
    "        self.experiment.save()\n",
    "        \n",
    "        return metrics\n",
    "    \n",
    "    def predict_loader(self, loader, device='cuda'):\n",
    "        result = []\n",
    "        self.eval()\n",
    "        with torch.no_grad():\n",
    "            for batch in loader:\n",
    "                list_of_sentences, target_tensor, lengths_tensor, mask_tensor =  batch\n",
    "                lengths_tensor = lengths_tensor.to(device)\n",
    "                mask_tensor = mask_tensor.to(device)\n",
    "                encoder_inputs = (list_of_sentences, lengths_tensor)\n",
    "                tagger_inputs = (lengths_tensor,)\n",
    "                \n",
    "                predicted_tags = self.model.predict_tags(encoder_inputs, tagger_inputs, mask_tensor, target_vocab)\n",
    "                result.extend(predicted_tags)\n",
    "        \n",
    "        return result\n",
    "    \n",
    "    def configure_optimizers(self):\n",
    "        # REQUIRED\n",
    "        # can return multiple optimizers and learning_rate schedulers\n",
    "        return torch.optim.Adam(self.parameters(), lr=self.config.lr)\n",
    "\n",
    "    @pl.data_loader\n",
    "    def tng_dataloader(self):\n",
    "        # REQUIRED\n",
    "        assert isinstance(train_dataset, FlairDataset)\n",
    "        return DataLoader(train_dataset, batch_size=self.config.train_batch_size, shuffle=True, collate_fn=FlairDataset.collate)\n",
    "\n",
    "    @pl.data_loader\n",
    "    def val_dataloader(self):\n",
    "        # OPTIONAL\n",
    "        assert isinstance(val_dataset, FlairDataset)\n",
    "        return DataLoader(val_dataset, batch_size=self.config.val_batch_size, shuffle=False, collate_fn=FlairDataset.collate)"
   ]
  },
  {
   "cell_type": "code",
   "execution_count": 28,
   "metadata": {},
   "outputs": [
    {
     "name": "stdout",
     "output_type": "stream",
     "text": [
      "Wed Sep  4 12:33:24 2019       \n",
      "+-----------------------------------------------------------------------------+\n",
      "| NVIDIA-SMI 418.67       Driver Version: 418.67       CUDA Version: 10.1     |\n",
      "|-------------------------------+----------------------+----------------------+\n",
      "| GPU  Name        Persistence-M| Bus-Id        Disp.A | Volatile Uncorr. ECC |\n",
      "| Fan  Temp  Perf  Pwr:Usage/Cap|         Memory-Usage | GPU-Util  Compute M. |\n",
      "|===============================+======================+======================|\n",
      "|   0  GeForce GTX 108...  Off  | 00000000:05:00.0 Off |                  N/A |\n",
      "| 21%   27C    P8     9W / 250W |     10MiB / 11178MiB |      0%      Default |\n",
      "+-------------------------------+----------------------+----------------------+\n",
      "                                                                               \n",
      "+-----------------------------------------------------------------------------+\n",
      "| Processes:                                                       GPU Memory |\n",
      "|  GPU       PID   Type   Process name                             Usage      |\n",
      "|=============================================================================|\n",
      "|  No running processes found                                                 |\n",
      "+-----------------------------------------------------------------------------+\n"
     ]
    }
   ],
   "source": [
    "!nvidia-smi"
   ]
  },
  {
   "cell_type": "code",
   "execution_count": 29,
   "metadata": {},
   "outputs": [],
   "source": [
    "# def bilstm_test():\n",
    "#     bilstm = BiLSTMFlairLightning(experiment_config)\n",
    "#     bilstm = bilstm.cuda()\n",
    "#     predictions = bilstm_predict_tags_for_loader(bilstm, bilstm.val_dataloader, target_vocab)\n",
    "#     print(len(predictions))\n",
    "#     print(predictions[100])\n",
    "#     del bilstm\n",
    "#     torch.cuda.empty_cache()"
   ]
  },
  {
   "cell_type": "code",
   "execution_count": 30,
   "metadata": {},
   "outputs": [],
   "source": [
    "# bilstm_test()"
   ]
  },
  {
   "cell_type": "code",
   "execution_count": 31,
   "metadata": {},
   "outputs": [],
   "source": [
    "# del bilstm_model\n",
    "import gc\n",
    "gc.collect()\n",
    "torch.cuda.empty_cache()"
   ]
  },
  {
   "cell_type": "code",
   "execution_count": 32,
   "metadata": {},
   "outputs": [],
   "source": [
    "exp = Experiment(save_dir=experiment_dir, name=experiment_config.experiment_name)"
   ]
  },
  {
   "cell_type": "code",
   "execution_count": null,
   "metadata": {},
   "outputs": [],
   "source": []
  },
  {
   "cell_type": "code",
   "execution_count": 33,
   "metadata": {},
   "outputs": [
    {
     "name": "stdout",
     "output_type": "stream",
     "text": [
      "5\n"
     ]
    }
   ],
   "source": [
    "print(exp.version)"
   ]
  },
  {
   "cell_type": "code",
   "execution_count": 34,
   "metadata": {},
   "outputs": [
    {
     "name": "stderr",
     "output_type": "stream",
     "text": [
      "/opt/conda/lib/python3.6/site-packages/torch/nn/modules/rnn.py:51: UserWarning: dropout option adds dropout after all but last recurrent layer, so non-zero dropout expects num_layers greater than 1, but got dropout=0.2 and num_layers=1\n",
      "  \"num_layers={}\".format(dropout, num_layers))\n"
     ]
    }
   ],
   "source": [
    "bilstm_model = BiLSTMFlairLightning(experiment_config)"
   ]
  },
  {
   "cell_type": "code",
   "execution_count": 35,
   "metadata": {},
   "outputs": [],
   "source": [
    "exp.argparse(experiment_config)\n",
    "exp.save()"
   ]
  },
  {
   "cell_type": "code",
   "execution_count": 36,
   "metadata": {},
   "outputs": [],
   "source": [
    "bilstm_model = bilstm_model.cuda()"
   ]
  },
  {
   "cell_type": "code",
   "execution_count": 37,
   "metadata": {},
   "outputs": [],
   "source": [
    "checkpoint_path = f'{experiment_dir}/{experiment_config.experiment_name}/version_{exp.version}/checkpoint'"
   ]
  },
  {
   "cell_type": "code",
   "execution_count": 38,
   "metadata": {},
   "outputs": [],
   "source": [
    "checkpoint_callback = pl.callbacks.ModelCheckpoint(\n",
    "    filepath= checkpoint_path,\n",
    "    save_best_only=True,\n",
    "    verbose=True,\n",
    "    monitor='f1',\n",
    "    mode='max'\n",
    ")\n",
    "\n",
    "early_stop = pl.callbacks.EarlyStopping(\n",
    "        monitor='f1',\n",
    "        patience=5,\n",
    "        verbose=True,\n",
    "        mode='max'\n",
    ")"
   ]
  },
  {
   "cell_type": "code",
   "execution_count": 39,
   "metadata": {},
   "outputs": [
    {
     "name": "stdout",
     "output_type": "stream",
     "text": [
      "VISIBLE GPUS: '0'\n",
      "gpu available: True, used: True\n"
     ]
    }
   ],
   "source": [
    "trainer = pl.Trainer(experiment=exp,\n",
    "                     max_nb_epochs=experiment_config.n_epochs,\n",
    "                     gpus=[0],\n",
    "                     gradient_clip=experiment_config.gradient_clipping_norm,\n",
    "                     early_stop_callback=early_stop,\n",
    "                     accumulate_grad_batches=experiment_config.gradient_acccumulation_steps,\n",
    "                     add_log_row_interval=100,\n",
    "                     checkpoint_callback=checkpoint_callback)"
   ]
  },
  {
   "cell_type": "code",
   "execution_count": 40,
   "metadata": {},
   "outputs": [
    {
     "name": "stderr",
     "output_type": "stream",
     "text": [
      " 20%|██        | 1/5 [00:00<00:00,  5.34it/s]"
     ]
    },
    {
     "name": "stdout",
     "output_type": "stream",
     "text": [
      "                                                 Name               Type  \\\n",
      "0                                               model  TaggerWithEncoder   \n",
      "1                                       model.encoder       FlairEncoder   \n",
      "2                      model.encoder.flair_embeddings  StackedEmbeddings   \n",
      "3     model.encoder.flair_embeddings.list_embedding_0    FlairEmbeddings   \n",
      "4   model.encoder.flair_embeddings.list_embedding_...      LanguageModel   \n",
      "5   model.encoder.flair_embeddings.list_embedding_...            Dropout   \n",
      "6   model.encoder.flair_embeddings.list_embedding_...          Embedding   \n",
      "7   model.encoder.flair_embeddings.list_embedding_...               LSTM   \n",
      "8   model.encoder.flair_embeddings.list_embedding_...             Linear   \n",
      "9     model.encoder.flair_embeddings.list_embedding_1    FlairEmbeddings   \n",
      "10  model.encoder.flair_embeddings.list_embedding_...      LanguageModel   \n",
      "11  model.encoder.flair_embeddings.list_embedding_...            Dropout   \n",
      "12  model.encoder.flair_embeddings.list_embedding_...          Embedding   \n",
      "13  model.encoder.flair_embeddings.list_embedding_...               LSTM   \n",
      "14  model.encoder.flair_embeddings.list_embedding_...             Linear   \n",
      "15    model.encoder.flair_embeddings.list_embedding_2     WordEmbeddings   \n",
      "16                                       model.tagger       BiLSTMTagger   \n",
      "17                           model.tagger.emb_dropout      LockedDropout   \n",
      "18                                   model.tagger.rnn               LSTM   \n",
      "19                        model.tagger.pre_fc_dropout            Dropout   \n",
      "20                                    model.tagger.fc             Linear   \n",
      "\n",
      "      Params  \n",
      "0   79336653  \n",
      "1   36515000  \n",
      "2   36515000  \n",
      "3   18257500  \n",
      "4   18257500  \n",
      "5          0  \n",
      "6      30000  \n",
      "7   17612800  \n",
      "8     614700  \n",
      "9   18257500  \n",
      "10  18257500  \n",
      "11         0  \n",
      "12     30000  \n",
      "13  17612800  \n",
      "14    614700  \n",
      "15         0  \n",
      "16  42821653  \n",
      "17         0  \n",
      "18  42778624  \n",
      "19         0  \n",
      "20     43029  \n"
     ]
    },
    {
     "name": "stderr",
     "output_type": "stream",
     "text": [
      "  0%|          | 0/361 [00:00<01:08,  5.26it/s]"
     ]
    },
    {
     "name": "stdout",
     "output_type": "stream",
     "text": [
      "             precision    recall  f1-score   support\n",
      "\n",
      "      other       0.01      0.01      0.01       110\n",
      "    company       0.00      0.01      0.00        84\n",
      "   facility       0.00      0.00      0.00        58\n",
      "        loc       0.01      0.01      0.01       156\n",
      "     person       0.00      0.00      0.00       131\n",
      "    product       0.00      0.00      0.00        38\n",
      "musicartist       0.00      0.00      0.00        33\n",
      " sportsteam       0.00      0.00      0.00        21\n",
      "      movie       0.00      0.00      0.00        17\n",
      "     tvshow       0.00      0.00      0.00        11\n",
      "\n",
      "  micro avg       0.00      0.00      0.00       659\n",
      "  macro avg       0.00      0.00      0.00       659\n",
      "\n"
     ]
    },
    {
     "name": "stderr",
     "output_type": "stream",
     "text": [
      "100%|██████████| 361/361 [01:46<00:00,  6.31it/s, avg_val_loss=0.249, batch_nb=324, epoch=0, f1=0.283, gpu=0, loss=0.289, v_nb=5]"
     ]
    },
    {
     "name": "stdout",
     "output_type": "stream",
     "text": [
      "             precision    recall  f1-score   support\n",
      "\n",
      "      other       0.00      0.00      0.00       110\n",
      "    company       0.33      0.12      0.18        84\n",
      "   facility       0.04      0.03      0.04        58\n",
      "        loc       0.44      0.49      0.46       156\n",
      "     person       0.64      0.43      0.51       131\n",
      "    product       0.00      0.00      0.00        38\n",
      "musicartist       0.00      0.00      0.00        33\n",
      " sportsteam       0.00      0.00      0.00        21\n",
      "      movie       0.00      0.00      0.00        17\n",
      "     tvshow       0.00      0.00      0.00        11\n",
      "\n",
      "  micro avg       0.40      0.22      0.28       659\n",
      "  macro avg       0.28      0.22      0.24       659\n",
      "\n",
      "save callback...\n",
      "\n",
      "Epoch 00001: f1 improved from -inf to 0.28319, saving model to NER_experiments//BILSTM-over-flair/version_5/checkpoint/_ckpt_epoch_1.ckpt\n"
     ]
    },
    {
     "name": "stderr",
     "output_type": "stream",
     "text": [
      "100%|██████████| 361/361 [00:20<00:00, 16.36it/s, avg_val_loss=0.189, batch_nb=324, epoch=1, f1=0.459, gpu=0, loss=0.208, v_nb=5]"
     ]
    },
    {
     "name": "stdout",
     "output_type": "stream",
     "text": [
      "             precision    recall  f1-score   support\n",
      "\n",
      "      other       0.26      0.23      0.24       110\n",
      "    company       0.57      0.43      0.49        84\n",
      "   facility       0.35      0.29      0.32        58\n",
      "        loc       0.61      0.69      0.65       156\n",
      "     person       0.72      0.66      0.69       131\n",
      "    product       0.00      0.00      0.00        38\n",
      "musicartist       0.00      0.00      0.00        33\n",
      " sportsteam       0.38      0.14      0.21        21\n",
      "      movie       0.00      0.00      0.00        17\n",
      "     tvshow       0.00      0.00      0.00        11\n",
      "\n",
      "  micro avg       0.51      0.42      0.46       659\n",
      "  macro avg       0.45      0.42      0.43       659\n",
      "\n",
      "save callback...\n",
      "\n",
      "Epoch 00002: f1 improved from 0.28319 to 0.45935, saving model to NER_experiments//BILSTM-over-flair/version_5/checkpoint/_ckpt_epoch_2.ckpt\n"
     ]
    },
    {
     "name": "stderr",
     "output_type": "stream",
     "text": [
      "100%|██████████| 361/361 [00:20<00:00, 16.06it/s, avg_val_loss=0.169, batch_nb=324, epoch=2, f1=0.476, gpu=0, loss=0.187, v_nb=5]"
     ]
    },
    {
     "name": "stdout",
     "output_type": "stream",
     "text": [
      "             precision    recall  f1-score   support\n",
      "\n",
      "      other       0.39      0.24      0.29       110\n",
      "    company       0.51      0.48      0.49        84\n",
      "   facility       0.40      0.24      0.30        58\n",
      "        loc       0.61      0.70      0.65       156\n",
      "     person       0.77      0.60      0.68       131\n",
      "    product       0.16      0.11      0.13        38\n",
      "musicartist       0.00      0.00      0.00        33\n",
      " sportsteam       0.40      0.10      0.15        21\n",
      "      movie       0.00      0.00      0.00        17\n",
      "     tvshow       0.00      0.00      0.00        11\n",
      "\n",
      "  micro avg       0.56      0.42      0.48       659\n",
      "  macro avg       0.48      0.42      0.44       659\n",
      "\n",
      "save callback...\n",
      "\n",
      "Epoch 00003: f1 improved from 0.45935 to 0.47569, saving model to NER_experiments//BILSTM-over-flair/version_5/checkpoint/_ckpt_epoch_3.ckpt\n"
     ]
    },
    {
     "name": "stderr",
     "output_type": "stream",
     "text": [
      "100%|██████████| 361/361 [00:20<00:00, 16.58it/s, avg_val_loss=0.163, batch_nb=324, epoch=3, f1=0.502, gpu=0, loss=0.161, v_nb=5]"
     ]
    },
    {
     "name": "stdout",
     "output_type": "stream",
     "text": [
      "             precision    recall  f1-score   support\n",
      "\n",
      "      other       0.29      0.37      0.33       110\n",
      "    company       0.69      0.40      0.51        84\n",
      "   facility       0.44      0.53      0.48        58\n",
      "        loc       0.73      0.67      0.70       156\n",
      "     person       0.75      0.61      0.68       131\n",
      "    product       0.16      0.08      0.11        38\n",
      "musicartist       0.11      0.03      0.05        33\n",
      " sportsteam       0.78      0.33      0.47        21\n",
      "      movie       0.00      0.00      0.00        17\n",
      "     tvshow       0.00      0.00      0.00        11\n",
      "\n",
      "  micro avg       0.55      0.46      0.50       659\n",
      "  macro avg       0.54      0.46      0.49       659\n",
      "\n",
      "save callback...\n",
      "\n",
      "Epoch 00004: f1 improved from 0.47569 to 0.50166, saving model to NER_experiments//BILSTM-over-flair/version_5/checkpoint/_ckpt_epoch_4.ckpt\n"
     ]
    },
    {
     "name": "stderr",
     "output_type": "stream",
     "text": [
      "100%|██████████| 361/361 [00:21<00:00, 15.55it/s, avg_val_loss=0.148, batch_nb=324, epoch=4, f1=0.572, gpu=0, loss=0.149, v_nb=5]"
     ]
    },
    {
     "name": "stdout",
     "output_type": "stream",
     "text": [
      "             precision    recall  f1-score   support\n",
      "\n",
      "      other       0.50      0.34      0.40       110\n",
      "    company       0.61      0.64      0.63        84\n",
      "   facility       0.47      0.62      0.54        58\n",
      "        loc       0.79      0.77      0.78       156\n",
      "     person       0.76      0.65      0.70       131\n",
      "    product       0.18      0.13      0.15        38\n",
      "musicartist       0.25      0.03      0.05        33\n",
      " sportsteam       0.42      0.52      0.47        21\n",
      "      movie       0.00      0.00      0.00        17\n",
      "     tvshow       0.00      0.00      0.00        11\n",
      "\n",
      "  micro avg       0.62      0.53      0.57       659\n",
      "  macro avg       0.58      0.53      0.54       659\n",
      "\n",
      "save callback...\n",
      "\n",
      "Epoch 00005: f1 improved from 0.50166 to 0.57166, saving model to NER_experiments//BILSTM-over-flair/version_5/checkpoint/_ckpt_epoch_5.ckpt\n"
     ]
    },
    {
     "name": "stderr",
     "output_type": "stream",
     "text": [
      "  0%|          | 1/361 [00:00<00:23, 15.23it/s, avg_val_loss=0.151, batch_nb=0, epoch=6, f1=0.55, gpu=0, loss=0.131, v_nb=5]     "
     ]
    },
    {
     "name": "stdout",
     "output_type": "stream",
     "text": [
      "             precision    recall  f1-score   support\n",
      "\n",
      "      other       0.37      0.43      0.39       110\n",
      "    company       0.62      0.57      0.59        84\n",
      "   facility       0.54      0.55      0.55        58\n",
      "        loc       0.72      0.76      0.74       156\n",
      "     person       0.77      0.63      0.69       131\n",
      "    product       0.13      0.11      0.12        38\n",
      "musicartist       0.33      0.06      0.10        33\n",
      " sportsteam       0.78      0.33      0.47        21\n",
      "      movie       1.00      0.06      0.11        17\n",
      "     tvshow       0.00      0.00      0.00        11\n",
      "\n",
      "  micro avg       0.59      0.52      0.55       659\n",
      "  macro avg       0.59      0.52      0.53       659\n",
      "\n",
      "save callback...\n",
      "\n",
      "Epoch 00006: f1 did not improve\n"
     ]
    },
    {
     "name": "stderr",
     "output_type": "stream",
     "text": [
      "100%|██████████| 361/361 [00:21<00:00, 15.19it/s, avg_val_loss=0.148, batch_nb=324, epoch=6, f1=0.584, gpu=0, loss=0.111, v_nb=5]"
     ]
    },
    {
     "name": "stdout",
     "output_type": "stream",
     "text": [
      "             precision    recall  f1-score   support\n",
      "\n",
      "      other       0.44      0.37      0.40       110\n",
      "    company       0.67      0.55      0.60        84\n",
      "   facility       0.69      0.57      0.62        58\n",
      "        loc       0.71      0.76      0.73       156\n",
      "     person       0.77      0.73      0.75       131\n",
      "    product       0.30      0.16      0.21        38\n",
      "musicartist       0.30      0.09      0.14        33\n",
      " sportsteam       0.41      0.52      0.46        21\n",
      "      movie       0.67      0.12      0.20        17\n",
      "     tvshow       0.00      0.00      0.00        11\n",
      "\n",
      "  micro avg       0.63      0.54      0.58       659\n",
      "  macro avg       0.60      0.54      0.56       659\n",
      "\n",
      "save callback...\n",
      "\n",
      "Epoch 00007: f1 improved from 0.57166 to 0.58361, saving model to NER_experiments//BILSTM-over-flair/version_5/checkpoint/_ckpt_epoch_7.ckpt\n"
     ]
    },
    {
     "name": "stderr",
     "output_type": "stream",
     "text": [
      "100%|██████████| 361/361 [00:20<00:00, 15.52it/s, avg_val_loss=0.151, batch_nb=324, epoch=7, f1=0.585, gpu=0, loss=0.097, v_nb=5]"
     ]
    },
    {
     "name": "stdout",
     "output_type": "stream",
     "text": [
      "             precision    recall  f1-score   support\n",
      "\n",
      "      other       0.44      0.39      0.41       110\n",
      "    company       0.64      0.64      0.64        84\n",
      "   facility       0.56      0.67      0.61        58\n",
      "        loc       0.79      0.78      0.79       156\n",
      "     person       0.71      0.79      0.74       131\n",
      "    product       0.11      0.21      0.15        38\n",
      "musicartist       0.55      0.18      0.27        33\n",
      " sportsteam       0.44      0.57      0.50        21\n",
      "      movie       0.17      0.06      0.09        17\n",
      "     tvshow       0.00      0.00      0.00        11\n",
      "\n",
      "  micro avg       0.58      0.59      0.58       659\n",
      "  macro avg       0.58      0.59      0.58       659\n",
      "\n",
      "save callback...\n",
      "\n",
      "Epoch 00008: f1 improved from 0.58361 to 0.58478, saving model to NER_experiments//BILSTM-over-flair/version_5/checkpoint/_ckpt_epoch_8.ckpt\n"
     ]
    },
    {
     "name": "stderr",
     "output_type": "stream",
     "text": [
      "  0%|          | 1/361 [00:00<00:23, 15.26it/s, avg_val_loss=0.148, batch_nb=0, epoch=9, f1=0.582, gpu=0, loss=0.085, v_nb=5]    "
     ]
    },
    {
     "name": "stdout",
     "output_type": "stream",
     "text": [
      "             precision    recall  f1-score   support\n",
      "\n",
      "      other       0.51      0.37      0.43       110\n",
      "    company       0.61      0.61      0.61        84\n",
      "   facility       0.58      0.53      0.56        58\n",
      "        loc       0.79      0.73      0.76       156\n",
      "     person       0.73      0.75      0.74       131\n",
      "    product       0.29      0.26      0.27        38\n",
      "musicartist       0.23      0.15      0.18        33\n",
      " sportsteam       0.45      0.43      0.44        21\n",
      "      movie       0.17      0.06      0.09        17\n",
      "     tvshow       0.00      0.00      0.00        11\n",
      "\n",
      "  micro avg       0.62      0.55      0.58       659\n",
      "  macro avg       0.59      0.55      0.57       659\n",
      "\n",
      "save callback...\n",
      "\n",
      "Epoch 00009: f1 did not improve\n"
     ]
    },
    {
     "name": "stderr",
     "output_type": "stream",
     "text": [
      "100%|██████████| 361/361 [00:21<00:00, 15.23it/s, avg_val_loss=0.164, batch_nb=324, epoch=9, f1=0.599, gpu=0, loss=0.065, v_nb=5]"
     ]
    },
    {
     "name": "stdout",
     "output_type": "stream",
     "text": [
      "             precision    recall  f1-score   support\n",
      "\n",
      "      other       0.49      0.41      0.45       110\n",
      "    company       0.68      0.56      0.61        84\n",
      "   facility       0.60      0.59      0.59        58\n",
      "        loc       0.76      0.78      0.77       156\n",
      "     person       0.79      0.71      0.75       131\n",
      "    product       0.26      0.24      0.25        38\n",
      "musicartist       0.47      0.21      0.29        33\n",
      " sportsteam       0.50      0.48      0.49        21\n",
      "      movie       0.75      0.18      0.29        17\n",
      "     tvshow       0.00      0.00      0.00        11\n",
      "\n",
      "  micro avg       0.64      0.56      0.60       659\n",
      "  macro avg       0.63      0.56      0.59       659\n",
      "\n",
      "save callback...\n",
      "\n",
      "Epoch 00010: f1 improved from 0.58478 to 0.59854, saving model to NER_experiments//BILSTM-over-flair/version_5/checkpoint/_ckpt_epoch_10.ckpt\n"
     ]
    },
    {
     "name": "stderr",
     "output_type": "stream",
     "text": [
      "  0%|          | 1/361 [00:00<00:24, 14.85it/s, avg_val_loss=0.166, batch_nb=0, epoch=11, f1=0.569, gpu=0, loss=0.059, v_nb=5]    "
     ]
    },
    {
     "name": "stdout",
     "output_type": "stream",
     "text": [
      "             precision    recall  f1-score   support\n",
      "\n",
      "      other       0.32      0.42      0.36       110\n",
      "    company       0.74      0.58      0.65        84\n",
      "   facility       0.50      0.57      0.53        58\n",
      "        loc       0.77      0.72      0.75       156\n",
      "     person       0.76      0.76      0.76       131\n",
      "    product       0.37      0.29      0.32        38\n",
      "musicartist       0.27      0.18      0.22        33\n",
      " sportsteam       0.38      0.62      0.47        21\n",
      "      movie       0.50      0.18      0.26        17\n",
      "     tvshow       0.07      0.09      0.08        11\n",
      "\n",
      "  micro avg       0.57      0.57      0.57       659\n",
      "  macro avg       0.59      0.57      0.57       659\n",
      "\n",
      "save callback...\n",
      "\n",
      "Epoch 00011: f1 did not improve\n"
     ]
    },
    {
     "name": "stderr",
     "output_type": "stream",
     "text": [
      "100%|██████████| 361/361 [00:21<00:00, 15.02it/s, avg_val_loss=0.162, batch_nb=324, epoch=11, f1=0.593, gpu=0, loss=0.046, v_nb=5]"
     ]
    },
    {
     "name": "stdout",
     "output_type": "stream",
     "text": [
      "             precision    recall  f1-score   support\n",
      "\n",
      "      other       0.47      0.42      0.44       110\n",
      "    company       0.72      0.55      0.62        84\n",
      "   facility       0.60      0.57      0.58        58\n",
      "        loc       0.75      0.76      0.76       156\n",
      "     person       0.83      0.73      0.78       131\n",
      "    product       0.20      0.21      0.20        38\n",
      "musicartist       0.31      0.33      0.32        33\n",
      " sportsteam       0.45      0.48      0.47        21\n",
      "      movie       0.75      0.18      0.29        17\n",
      "     tvshow       0.00      0.00      0.00        11\n",
      "\n",
      "  micro avg       0.63      0.56      0.59       659\n",
      "  macro avg       0.63      0.56      0.59       659\n",
      "\n",
      "save callback...\n",
      "\n",
      "Epoch 00012: f1 did not improve\n"
     ]
    },
    {
     "data": {
      "text/plain": [
       "1"
      ]
     },
     "execution_count": 40,
     "metadata": {},
     "output_type": "execute_result"
    }
   ],
   "source": [
    "trainer.fit(bilstm_model)"
   ]
  },
  {
   "cell_type": "markdown",
   "metadata": {},
   "source": [
    "## Inference"
   ]
  },
  {
   "cell_type": "code",
   "execution_count": 41,
   "metadata": {},
   "outputs": [],
   "source": [
    "import os"
   ]
  },
  {
   "cell_type": "code",
   "execution_count": 42,
   "metadata": {},
   "outputs": [
    {
     "name": "stdout",
     "output_type": "stream",
     "text": [
      "NER_experiments//BILSTM-over-flair/version_5/checkpoint/_ckpt_epoch_10.ckpt\n",
      "NER_experiments//BILSTM-over-flair/version_5/meta_tags.csv\n"
     ]
    },
    {
     "name": "stderr",
     "output_type": "stream",
     "text": [
      "100%|██████████| 361/361 [00:36<00:00, 15.02it/s, avg_val_loss=0.162, batch_nb=324, epoch=11, f1=0.593, gpu=0, loss=0.046, v_nb=5]"
     ]
    }
   ],
   "source": [
    "checkpoint_file = os.listdir(checkpoint_path)[0]\n",
    "assert checkpoint_file.startswith('_ckpt_')\n",
    "checkpoint_file_path = checkpoint_path + '/' + checkpoint_file\n",
    "print(checkpoint_file_path)\n",
    "\n",
    "tags_path = f'{experiment_dir}/{experiment_config.experiment_name}/version_{exp.version}/meta_tags.csv'\n",
    "print(tags_path)"
   ]
  },
  {
   "cell_type": "code",
   "execution_count": 43,
   "metadata": {},
   "outputs": [],
   "source": [
    "device = 'cuda'"
   ]
  },
  {
   "cell_type": "code",
   "execution_count": 44,
   "metadata": {},
   "outputs": [
    {
     "name": "stderr",
     "output_type": "stream",
     "text": [
      "/opt/conda/lib/python3.6/site-packages/torch/nn/modules/rnn.py:51: UserWarning: dropout option adds dropout after all but last recurrent layer, so non-zero dropout expects num_layers greater than 1, but got dropout=0.2 and num_layers=1\n",
      "  \"num_layers={}\".format(dropout, num_layers))\n"
     ]
    }
   ],
   "source": [
    "bilstm_model = BiLSTMFlairLightning.load_from_metrics(checkpoint_file_path, tags_path, on_gpu=False)\n",
    "bilstm_model.freeze()\n",
    "bilstm_model = bilstm_model.to(device)"
   ]
  },
  {
   "cell_type": "code",
   "execution_count": 45,
   "metadata": {},
   "outputs": [],
   "source": [
    "test_loader = DataLoader(test_dataset, batch_size=bilstm_model.config.val_batch_size, collate_fn=FlairDataset.collate)"
   ]
  },
  {
   "cell_type": "code",
   "execution_count": 46,
   "metadata": {},
   "outputs": [],
   "source": [
    "test_pred = bilstm_model.predict_loader(test_loader, device)"
   ]
  },
  {
   "cell_type": "code",
   "execution_count": 47,
   "metadata": {},
   "outputs": [],
   "source": [
    "report = seqeval.metrics.classification_report(targets_split['test'], test_pred, digits=3)"
   ]
  },
  {
   "cell_type": "code",
   "execution_count": 48,
   "metadata": {},
   "outputs": [],
   "source": [
    "test_report_save_path =f'{experiment_dir}/{experiment_config.experiment_name}/version_{exp.version}/test_report.txt'"
   ]
  },
  {
   "cell_type": "code",
   "execution_count": 49,
   "metadata": {},
   "outputs": [],
   "source": [
    "with open(test_report_save_path, 'w+') as of:\n",
    "    of.write(report)"
   ]
  },
  {
   "cell_type": "code",
   "execution_count": 50,
   "metadata": {},
   "outputs": [],
   "source": [
    "def predict_for_tokens(model: BiLSTMFlairLightning, tokens, device='cuda'):\n",
    "    sentence = flair.data.Sentence(' '.join(tokens))\n",
    "    mask = torch.ones(1, len(sentence)).type(torch.bool).to(device)\n",
    "    lengths = torch.tensor([len(sentence)]).to(device)\n",
    "    encoder_inputs, tagger_inputs = model.encoder_tagger_inputs([sentence], lengths)\n",
    "    model.eval()\n",
    "    with torch.no_grad():\n",
    "        tags = bilstm_model.model.predict_tags(encoder_inputs, tagger_inputs, mask, target_vocab)\n",
    "    return tags[0]\n"
   ]
  },
  {
   "cell_type": "code",
   "execution_count": 51,
   "metadata": {},
   "outputs": [],
   "source": [
    "import nltk"
   ]
  },
  {
   "cell_type": "code",
   "execution_count": 52,
   "metadata": {},
   "outputs": [],
   "source": [
    "text_example = \"Satellite imagery this morning of now Category 5 Hurricane Dorian approaching the Abaco Islands in the northern Bahamas. For the latest on Dorian visit http://hurricanes.gov\""
   ]
  },
  {
   "cell_type": "code",
   "execution_count": 53,
   "metadata": {},
   "outputs": [
    {
     "name": "stdout",
     "output_type": "stream",
     "text": [
      "['Satellite', 'imagery', 'this', 'morning', 'of', 'now', 'Category', '5', 'Hurricane', 'Dorian', 'approaching', 'the', 'Abaco', 'Islands', 'in', 'the', 'northern', 'Bahamas', '.', 'For', 'the', 'latest', 'on', 'Dorian', 'visit', 'http://hurricanes.gov']\n"
     ]
    }
   ],
   "source": [
    "tokens_example = nltk.tokenize.TweetTokenizer().tokenize(text_example)\n",
    "print(tokens_example)"
   ]
  },
  {
   "cell_type": "code",
   "execution_count": 54,
   "metadata": {},
   "outputs": [],
   "source": [
    "prediction = predict_for_tokens(bilstm_model, tokens_example)"
   ]
  },
  {
   "cell_type": "code",
   "execution_count": 55,
   "metadata": {},
   "outputs": [
    {
     "name": "stdout",
     "output_type": "stream",
     "text": [
      "Satellite O\n",
      "imagery O\n",
      "this O\n",
      "morning O\n",
      "of O\n",
      "now O\n",
      "Category O\n",
      "5 O\n",
      "Hurricane O\n",
      "Dorian O\n",
      "approaching O\n",
      "the O\n",
      "Abaco B-geo-loc\n",
      "Islands I-geo-loc\n",
      "in O\n",
      "the O\n",
      "northern O\n",
      "Bahamas B-geo-loc\n",
      ". O\n",
      "For O\n",
      "the O\n",
      "latest O\n",
      "on O\n",
      "Dorian B-person\n",
      "visit O\n",
      "http://hurricanes.gov O\n"
     ]
    }
   ],
   "source": [
    "for token, tag in zip(tokens_example, prediction):\n",
    "    print(token, tag)"
   ]
  },
  {
   "cell_type": "code",
   "execution_count": null,
   "metadata": {},
   "outputs": [],
   "source": []
  }
 ],
 "metadata": {
  "kernelspec": {
   "display_name": "Python 3",
   "language": "python",
   "name": "python3"
  },
  "language_info": {
   "codemirror_mode": {
    "name": "ipython",
    "version": 3
   },
   "file_extension": ".py",
   "mimetype": "text/x-python",
   "name": "python",
   "nbconvert_exporter": "python",
   "pygments_lexer": "ipython3",
   "version": "3.6.9"
  }
 },
 "nbformat": 4,
 "nbformat_minor": 4
}
